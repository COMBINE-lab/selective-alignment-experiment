{
 "cells": [
  {
   "cell_type": "code",
   "execution_count": 1,
   "metadata": {},
   "outputs": [
    {
     "name": "stderr",
     "output_type": "stream",
     "text": [
      "Loading required package: BiocGenerics\n",
      "Loading required package: parallel\n",
      "\n",
      "Attaching package: ‘BiocGenerics’\n",
      "\n",
      "The following objects are masked from ‘package:parallel’:\n",
      "\n",
      "    clusterApply, clusterApplyLB, clusterCall, clusterEvalQ,\n",
      "    clusterExport, clusterMap, parApply, parCapply, parLapply,\n",
      "    parLapplyLB, parRapply, parSapply, parSapplyLB\n",
      "\n",
      "The following objects are masked from ‘package:stats’:\n",
      "\n",
      "    IQR, mad, sd, var, xtabs\n",
      "\n",
      "The following objects are masked from ‘package:base’:\n",
      "\n",
      "    anyDuplicated, append, as.data.frame, cbind, colMeans, colnames,\n",
      "    colSums, do.call, duplicated, eval, evalq, Filter, Find, get, grep,\n",
      "    grepl, intersect, is.unsorted, lapply, lengths, Map, mapply, match,\n",
      "    mget, order, paste, pmax, pmax.int, pmin, pmin.int, Position, rank,\n",
      "    rbind, Reduce, rowMeans, rownames, rowSums, sapply, setdiff, sort,\n",
      "    table, tapply, union, unique, unsplit, which, which.max, which.min\n",
      "\n",
      "Loading required package: S4Vectors\n",
      "Loading required package: stats4\n",
      "\n",
      "Attaching package: ‘S4Vectors’\n",
      "\n",
      "The following object is masked from ‘package:base’:\n",
      "\n",
      "    expand.grid\n",
      "\n",
      "Loading required package: IRanges\n",
      "Loading required package: XVector\n",
      "\n",
      "Attaching package: ‘Biostrings’\n",
      "\n",
      "The following object is masked from ‘package:base’:\n",
      "\n",
      "    strsplit\n",
      "\n"
     ]
    }
   ],
   "source": [
    "library(polyester)\n",
    "library(Biostrings)"
   ]
  },
  {
   "cell_type": "code",
   "execution_count": 21,
   "metadata": {},
   "outputs": [],
   "source": [
    "#txpFastaFile <- \"/mnt/scratch1/bleed_through_human/ref/transcript_clean_200K_subset.fa\"\n",
    "#rsemModelFile <- \"/mnt/scratch1/bleed_through_human/bleed_through_200K/rsem_exp/model.isoforms.results\"\n",
    "txpFastaFile <- \"/mnt/scratch7/hirak/bleed_through_7/reference/transcripts_subset.fa\"\n",
    "rsemModelFile <- \"/mnt/scratch7/hirak/bleed_through_7/rsem_exp.isoforms.results\"\n",
    "salmonModelFile <- \"/mnt/scratch7/hirak/bleed_through_7/real_reads/SRR5638585_salmon/quant.sf\""
   ]
  },
  {
   "cell_type": "code",
   "execution_count": 19,
   "metadata": {},
   "outputs": [],
   "source": [
    "rsemModel <- read.table(rsemModelFile,header=TRUE)\n",
    "txnames <- fasta.index(txpFastaFile)$desc\n",
    "df = rsemModel[match(txnames, rsemModel$transcript_id),]\n",
    "countMat <- matrix(df$expected_count, nrow=length(txnames))"
   ]
  },
  {
   "cell_type": "code",
   "execution_count": 27,
   "metadata": {},
   "outputs": [],
   "source": [
    "salmonModel <- read.table(salmonModelFile,header=TRUE)\n",
    "df = salmonModel[match(txnames, salmonModel$Name),]\n",
    "countMatSalmon <- matrix(df$NumReads, nrow=length(txnames))"
   ]
  },
  {
   "cell_type": "code",
   "execution_count": 28,
   "metadata": {},
   "outputs": [
    {
     "data": {
      "text/html": [
       "<table>\n",
       "<tbody>\n",
       "\t<tr><td>101</td></tr>\n",
       "\t<tr><td>  1</td></tr>\n",
       "\t<tr><td>  0</td></tr>\n",
       "\t<tr><td>  2</td></tr>\n",
       "\t<tr><td>  0</td></tr>\n",
       "\t<tr><td>  1</td></tr>\n",
       "</tbody>\n",
       "</table>\n"
      ],
      "text/latex": [
       "\\begin{tabular}{l}\n",
       "\t 101\\\\\n",
       "\t   1\\\\\n",
       "\t   0\\\\\n",
       "\t   2\\\\\n",
       "\t   0\\\\\n",
       "\t   1\\\\\n",
       "\\end{tabular}\n"
      ],
      "text/markdown": [
       "\n",
       "| 101 | \n",
       "|   1 | \n",
       "|   0 | \n",
       "|   2 | \n",
       "|   0 | \n",
       "|   1 | \n",
       "\n",
       "\n"
      ],
      "text/plain": [
       "     [,1]\n",
       "[1,] 101 \n",
       "[2,]   1 \n",
       "[3,]   0 \n",
       "[4,]   2 \n",
       "[5,]   0 \n",
       "[6,]   1 "
      ]
     },
     "metadata": {},
     "output_type": "display_data"
    }
   ],
   "source": [
    "head(countMatSalmon)"
   ]
  },
  {
   "cell_type": "raw",
   "metadata": {},
   "source": [
    "seed_val = sample.int(200, 10)\n",
    "for (i in seed_val){\n",
    "set.seed(i)\n",
    "simulate_experiment_countmat(txpFastaFile, \n",
    "                             readmat=countMat, \n",
    "                             outdir=paste0(\"/mnt/scratch1/bleed_through_human/poly_reads/reads_\",i), \n",
    "                             readlen=100,\n",
    "                             size=1e6,\n",
    "                             strand_specific=F, \n",
    "                             paired=TRUE, \n",
    "                             error_model='uniform',\n",
    "                             gzip=TRUE,\n",
    "                             error_rate=0.001) \n",
    "    }"
   ]
  },
  {
   "cell_type": "code",
   "execution_count": 20,
   "metadata": {},
   "outputs": [],
   "source": [
    "seed_val = sample.int(200, 5)\n",
    "for (i in seed_val){\n",
    "set.seed(i)\n",
    "simulate_experiment_countmat(txpFastaFile, \n",
    "                             readmat=countMat, \n",
    "                             outdir=paste0(\"/mnt/scratch7/hirak/bleed_through_7/poly_reads/reads_\",i), \n",
    "                             readlen=100,\n",
    "                             size=1e6,\n",
    "                             strand_specific=F, \n",
    "                             paired=TRUE, \n",
    "                             error_model='uniform',\n",
    "                             gzip=TRUE,\n",
    "                             error_rate=0.001) \n",
    "    }"
   ]
  },
  {
   "cell_type": "code",
   "execution_count": 29,
   "metadata": {},
   "outputs": [],
   "source": [
    "seed_val = sample.int(200, 5)\n",
    "for (i in seed_val){\n",
    "set.seed(i)\n",
    "simulate_experiment_countmat(txpFastaFile, \n",
    "                             readmat=countMatSalmon, \n",
    "                             outdir=paste0(\"/mnt/scratch7/hirak/bleed_through_7/poly_reads_salmon/reads_\",i), \n",
    "                             readlen=100,\n",
    "                             #size=1e6,\n",
    "                             strand_specific=F, \n",
    "                             paired=TRUE, \n",
    "                             error_model='uniform',\n",
    "                             gzip=TRUE,\n",
    "                             error_rate=0.001) \n",
    "    }"
   ]
  },
  {
   "cell_type": "code",
   "execution_count": null,
   "metadata": {},
   "outputs": [],
   "source": []
  }
 ],
 "metadata": {
  "kernelspec": {
   "display_name": "R",
   "language": "R",
   "name": "ir"
  },
  "language_info": {
   "codemirror_mode": "r",
   "file_extension": ".r",
   "mimetype": "text/x-r-source",
   "name": "R",
   "pygments_lexer": "r",
   "version": "3.4.3"
  }
 },
 "nbformat": 4,
 "nbformat_minor": 2
}
