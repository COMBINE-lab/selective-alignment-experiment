{
 "cells": [
  {
   "cell_type": "code",
   "execution_count": 4,
   "metadata": {},
   "outputs": [],
   "source": [
    "library(polyester)\n",
    "library(Biostrings)"
   ]
  },
  {
   "cell_type": "code",
   "execution_count": 49,
   "metadata": {},
   "outputs": [],
   "source": [
    "#txpFastaFile <- \"/mnt/scratch1/bleed_through_human/ref/transcript_clean_200K_subset.fa\"\n",
    "#rsemModelFile <- \"/mnt/scratch1/bleed_through_human/bleed_through_200K/rsem_exp/model.isoforms.results\"\n",
    "#txpFastaFile <- \"/mnt/scratch7/hirak/bleed_through_7/reference/transcripts_subset.fa\"\n",
    "txpFastaFile <- \"/mnt/scratch7/hirak/bleed_through_7/reference/transcript_snp.fasta\"\n",
    "rsemModelFile <- \"/mnt/scratch7/hirak/bleed_through_7/experiments/SRR5638585_full_salmon/quant.sf\"\n",
    "#salmonModelFile <- \"/mnt/scratch7/hirak/bleed_through_7/real_reads/SRR5638585_salmon/quant.sf\"\n",
    "    salmonModelFile <- \"/mnt/scratch7/hirak/bleed_through_7/experiments/SRR5638585_full_salmon/quant.sf\""
   ]
  },
  {
   "cell_type": "raw",
   "metadata": {},
   "source": [
    "rsemModel <- read.table(rsemModelFile,header=TRUE)\n",
    "\n",
    "df = rsemModel[match(txnames, rsemModel$transcript_id),]\n",
    "countMat <- matrix(df$expected_count, nrow=length(txnames))"
   ]
  },
  {
   "cell_type": "code",
   "execution_count": 50,
   "metadata": {},
   "outputs": [],
   "source": [
    "txnames <- fasta.index(txpFastaFile)$desc\n",
    "salmonModel <- read.table(salmonModelFile,header=TRUE)\n",
    "df = salmonModel[match(txnames, salmonModel$Name),]\n",
    "countMatSalmon <- matrix(df$NumReads, nrow=length(txnames))"
   ]
  },
  {
   "cell_type": "code",
   "execution_count": 51,
   "metadata": {},
   "outputs": [
    {
     "data": {
      "text/html": [
       "<table>\n",
       "<tbody>\n",
       "\t<tr><td> 0.00000</td></tr>\n",
       "\t<tr><td> 0.00000</td></tr>\n",
       "\t<tr><td> 0.00000</td></tr>\n",
       "\t<tr><td>24.22313</td></tr>\n",
       "\t<tr><td>13.36887</td></tr>\n",
       "\t<tr><td>51.73174</td></tr>\n",
       "</tbody>\n",
       "</table>\n"
      ],
      "text/latex": [
       "\\begin{tabular}{l}\n",
       "\t  0.00000\\\\\n",
       "\t  0.00000\\\\\n",
       "\t  0.00000\\\\\n",
       "\t 24.22313\\\\\n",
       "\t 13.36887\\\\\n",
       "\t 51.73174\\\\\n",
       "\\end{tabular}\n"
      ],
      "text/markdown": [
       "\n",
       "|  0.00000 | \n",
       "|  0.00000 | \n",
       "|  0.00000 | \n",
       "| 24.22313 | \n",
       "| 13.36887 | \n",
       "| 51.73174 | \n",
       "\n",
       "\n"
      ],
      "text/plain": [
       "     [,1]    \n",
       "[1,]  0.00000\n",
       "[2,]  0.00000\n",
       "[3,]  0.00000\n",
       "[4,] 24.22313\n",
       "[5,] 13.36887\n",
       "[6,] 51.73174"
      ]
     },
     "metadata": {},
     "output_type": "display_data"
    }
   ],
   "source": [
    "head(countMatSalmon)"
   ]
  },
  {
   "cell_type": "raw",
   "metadata": {},
   "source": [
    "seed_val = sample.int(200, 10)\n",
    "for (i in seed_val){\n",
    "set.seed(i)\n",
    "simulate_experiment_countmat(txpFastaFile, \n",
    "                             readmat=countMat, \n",
    "                             outdir=paste0(\"/mnt/scratch1/bleed_through_human/poly_reads/reads_\",i), \n",
    "                             readlen=100,\n",
    "                             size=1e6,\n",
    "                             strand_specific=F, \n",
    "                             paired=TRUE, \n",
    "                             error_model='uniform',\n",
    "                             gzip=TRUE,\n",
    "                             error_rate=0.001) \n",
    "    }"
   ]
  },
  {
   "cell_type": "raw",
   "metadata": {},
   "source": [
    "seed_val = sample.int(200, 5)\n",
    "for (i in seed_val){\n",
    "set.seed(i)\n",
    "simulate_experiment_countmat(txpFastaFile, \n",
    "                             readmat=countMat, \n",
    "                             outdir=paste0(\"/mnt/scratch7/hirak/bleed_through_7/poly_reads/reads_\",i), \n",
    "                             readlen=100,\n",
    "                             size=1e6,\n",
    "                             strand_specific=F, \n",
    "                             paired=TRUE, \n",
    "                             error_model='uniform',\n",
    "                             gzip=TRUE,\n",
    "                             error_rate=0.001) \n",
    "    }"
   ]
  },
  {
   "cell_type": "code",
   "execution_count": 52,
   "metadata": {},
   "outputs": [],
   "source": [
    "seed_val = sample.int(200, 1)\n",
    "for (i in seed_val){\n",
    "set.seed(i)\n",
    "simulate_experiment_countmat(txpFastaFile, \n",
    "                             readmat=countMatSalmon, \n",
    "                             outdir=paste0(\"/mnt/scratch7/hirak/bleed_through_7/poly_allelic_snp/reads_\",i), \n",
    "                             readlen=100,\n",
    "                             #size=1e6,\n",
    "                             strand_specific=F, \n",
    "                                 paired=TRUE, \n",
    "                             error_model='uniform',\n",
    "                             gzip=TRUE,\n",
    "                             error_rate=0.001) \n",
    "    }"
   ]
  },
  {
   "cell_type": "code",
   "execution_count": 61,
   "metadata": {},
   "outputs": [],
   "source": [
    "for (i in seq(0,4)){\n",
    "    txpFastaFile <- paste0(\"/mnt/scratch7/hirak/bleed_through_7/experiments/reference_\",i,\".fasta\")\n",
    "    salmonModelFile <- paste0(\"/mnt/scratch7/hirak/bleed_through_7/experiments/SRR5638585_\",i,\"_salmon/quant.sf\")\n",
    "    \n",
    "    txnames <- fasta.index(txpFastaFile)$desc\n",
    "    salmonModel <- read.table(salmonModelFile,header=TRUE)\n",
    "    \n",
    "    df = salmonModel[match(txnames, salmonModel$Name),]\n",
    "    countMatSalmon <- matrix(df$NumReads, nrow=length(txnames))\n",
    "    \n",
    "    seed_val = sample.int(200, 5)\n",
    "    for (j in seed_val){\n",
    "        set.seed(j)\n",
    "        outFolder = paste0(\"/mnt/scratch7/hirak/bleed_through_7/experiments/SRR5638585_polyreads_\",i,\"/reads_\",j)\n",
    "        print (paste(\"Starting to write\",outFolder))\n",
    "        simulate_experiment_countmat(txpFastaFile, \n",
    "                             readmat=countMatSalmon, \n",
    "                             outdir=outFolder, \n",
    "                             readlen=100,\n",
    "                             #size=1e6,\n",
    "                             strand_specific=F, \n",
    "                                 paired=TRUE, \n",
    "                             error_model='uniform',\n",
    "                             gzip=TRUE,\n",
    "                             error_rate=0.001) \n",
    "        \n",
    "        print (paste(\"Done with\",outFolder))\n",
    "        \n",
    "    }\n",
    "}"
   ]
  },
  {
   "cell_type": "code",
   "execution_count": 62,
   "metadata": {},
   "outputs": [],
   "source": [
    "txpFastaFile <- \"/mnt/scratch7/hirak/bleed_through_7/reference/transcripts_all.fa\"\n",
    "salmonModelFile <- \"/mnt/scratch7/hirak/bleed_through_7/experiments/SRR5638585_full_salmon/quant.sf\"\n",
    "txnames <- fasta.index(txpFastaFile)$desc\n",
    "salmonModel <- read.table(salmonModelFile,header=TRUE)\n",
    "df = salmonModel[match(txnames, salmonModel$Name),]\n",
    "countMatSalmon <- matrix(df$NumReads, nrow=length(txnames))"
   ]
  },
  {
   "cell_type": "code",
   "execution_count": 63,
   "metadata": {},
   "outputs": [],
   "source": [
    "seed_val = sample.int(200, 5)\n",
    "for (i in seed_val){\n",
    "    set.seed(i)\n",
    "    outFolder = paste0(\"/mnt/scratch7/hirak/bleed_through_7/experiments/SRR5638585_polyreads_full/reads_\",i)\n",
    "    simulate_experiment_countmat(txpFastaFile, \n",
    "                                 readmat=countMatSalmon, \n",
    "                                 outdir= outFolder,\n",
    "                                 readlen=100,\n",
    "                                 #size=1e6,\n",
    "                                 strand_specific=F, \n",
    "                                     paired=TRUE, \n",
    "                                 error_model='uniform',\n",
    "                                 gzip=TRUE,\n",
    "                                 error_rate=0.001) \n",
    "}"
   ]
  },
  {
   "cell_type": "code",
   "execution_count": null,
   "metadata": {},
   "outputs": [],
   "source": []
  }
 ],
 "metadata": {
  "kernelspec": {
   "display_name": "R",
   "language": "R",
   "name": "ir"
  },
  "language_info": {
   "codemirror_mode": "r",
   "file_extension": ".r",
   "mimetype": "text/x-r-source",
   "name": "R",
   "pygments_lexer": "r",
   "version": "3.4.3"
  }
 },
 "nbformat": 4,
 "nbformat_minor": 2
}
