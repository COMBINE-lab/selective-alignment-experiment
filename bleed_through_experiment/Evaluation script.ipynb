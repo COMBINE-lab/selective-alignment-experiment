{
 "cells": [
  {
   "cell_type": "code",
   "execution_count": 1,
   "metadata": {},
   "outputs": [],
   "source": [
    "%matplotlib inline\n",
    "import numpy as np\n",
    "import matplotlib\n",
    "import matplotlib.pyplot as plt\n",
    "import seaborn as sns\n",
    "sns.set(color_codes=True)\n",
    "import pandas as pd\n",
    "import scipy.stats\n",
    "import math"
   ]
  },
  {
   "cell_type": "code",
   "execution_count": 2,
   "metadata": {},
   "outputs": [],
   "source": [
    "def getMergedDataFrameFast(typeof):\n",
    "    truth = pd.read_table(files[typeof][\"truth\"], delim_whitespace=True, \\\n",
    "       usecols=[\"transcript_id\", \"count\"])\n",
    "    df = truth\n",
    "    df.rename(index=str, \\\n",
    "            columns={\"transcript_id\": \"Name\", \"count\": \"count\"}, inplace = True)\n",
    "    \n",
    "    sla = pd.read_table(files[typeof][\"SLA\"], delim_whitespace=True, \\\n",
    "                                 usecols=[\"Name\", \"NumReads\"])\n",
    "    df = pd.merge(df,sla, how=\"outer\", on = \"Name\").fillna(0.0)\n",
    "    \n",
    "    kallisto = pd.read_table(files[typeof][\"kallisto\"], delim_whitespace=True, \\\n",
    "                                     usecols=[\"target_id\", \"est_counts\"])\n",
    "    kallisto.rename(index=str, columns={\"target_id\": \"Name\", \\\n",
    "                                                \"est_counts\": \"NumReads_KAL\"}, inplace = True)\n",
    "    df = pd.merge(df,kallisto, how=\"outer\", on = \"Name\").fillna(0.0)\n",
    "    \n",
    "    hera = pd.read_table(files[typeof][\"hera\"], delim_whitespace=True, \\\n",
    "                                     usecols=[\"#target_id\", \"est_counts\"])\n",
    "    hera[\"#target_id\"]= hera[\"#target_id\"].str.split(\":\",expand=True)[0]\n",
    "    hera.rename(index=str, columns={\"#target_id\": \"Name\", \\\n",
    "                                               \"est_counts\": \"NumReads_hera\"}, inplace = True)\n",
    "    df = pd.merge(df,hera, how=\"outer\", on = \"Name\").fillna(0.0)\n",
    "    return (df,truth,sla,kallisto,hera)"
   ]
  },
  {
   "cell_type": "code",
   "execution_count": null,
   "metadata": {},
   "outputs": [],
   "source": [
    "def relDiff(c1, c2, DF, cutoff=0.01, verbose=False):\n",
    "    import pandas as pd\n",
    "    \"\"\"\n",
    "    Computes the relative difference between the values\n",
    "    in columns c1 and c2 of DF.\n",
    "    c1 and c2 are column names and DF is a Pandas data frame.\n",
    "    Values less than cutoff will be treated as 0.\n",
    "    The relative difference is defined as\n",
    "    d(x_i, y_i) =\n",
    "        0.0 if x_i and y_i are 0\n",
    "        (x_i - y_i) / (0.5 * |x_i - y_i|) otherwise\n",
    "    This function returns two values.\n",
    "    rd is a DataFrame where the \"relDiff\" column contains all\n",
    "    of the computed relative differences.\n",
    "    nz is a set of indexes into rd for data points where\n",
    "    x_i and y_i were not *both* zero.\n",
    "    \"\"\"\n",
    "    import numpy as np\n",
    "    rd = pd.DataFrame(data = {\"Name\" : DF.index, \"relDiff\" : np.zeros(len(DF.index))*np.nan})\n",
    "    rd.set_index(\"Name\", inplace=True)\n",
    "    bothZero = DF.loc[(DF[c1] <= cutoff) & (DF[c2] <= cutoff)].index\n",
    "    nonZero = DF.index.difference(bothZero)\n",
    "    if (verbose):\n",
    "        print(\"Zero occurs in both columns {} times\".format(len(rd.loc[bothZero])))\n",
    "        print(\"Nonzero occurs in at least 1 column {} times\".format(len(rd.loc[nonZero])))\n",
    "    allRD = 1.0 * ((DF[c1] - DF[c2]) / (DF[c1] + DF[c2]).abs())\n",
    "    assert(len(rd.loc[nonZero][\"relDiff\"]) == len(allRD[nonZero]))\n",
    "    rd[\"relDiff\"][nonZero] = allRD[nonZero]\n",
    "    if len(bothZero) > 0:\n",
    "        rd[\"relDiff\"][bothZero] = 0.0\n",
    "    return rd, nonZero"
   ]
  },
  {
   "cell_type": "markdown",
   "metadata": {},
   "source": [
    "## Result on whole transcriptome (produced by hera)"
   ]
  },
  {
   "cell_type": "code",
   "execution_count": 3,
   "metadata": {},
   "outputs": [],
   "source": [
    "prefix = \"/mnt/scratch1/bleed_through_human\"\n",
    "types = [\"bleed_through_200K\"]\n",
    "files = {}\n",
    "for t in types:\n",
    "    fileinfo = {}\n",
    "    fileinfo[\"truth\"]= \"/\".join([prefix,t,\"rsem_sim\",\"sim.sim.isoforms.results\"])\n",
    "    fileinfo[\"SLA\"] =  \"/\".join([prefix,t,\"quant\",\"salmon_out\",\"quant.sf\"])\n",
    "    fileinfo[\"kallisto\"] = \"/\".join([prefix,t,\"quant\",\"kallisto_out\",\"abundance.tsv\"])\n",
    "    #fileinfo[\"bowtie\"] = \"/\".join([prefix,t,\"quant\",\"bowtie_out\",\"quant.sf\"])\n",
    "    fileinfo[\"hera\"] = \"/\".join([prefix,t,\"quant\",\"hera_out\",\"abundance.tsv\"])\n",
    "    files[t] = fileinfo"
   ]
  },
  {
   "cell_type": "code",
   "execution_count": 4,
   "metadata": {},
   "outputs": [],
   "source": [
    "df, truth, sla,kallisto,hera = getMergedDataFrameFast(\"bleed_through_200K\")"
   ]
  },
  {
   "cell_type": "code",
   "execution_count": 5,
   "metadata": {},
   "outputs": [
    {
     "name": "stdout",
     "output_type": "stream",
     "text": [
      "('kallisto', 0.7450557220439691)\n",
      "('SLA', 0.8198710974237589)\n",
      "('hera', 0.7866670540464403)\n"
     ]
    }
   ],
   "source": [
    "print(\"kallisto\",df[\"count\"].corr(df[\"NumReads_KAL\"],method=\"spearman\"))\n",
    "print(\"SLA\",df[\"count\"].corr(df[\"NumReads\"],method=\"spearman\"))\n",
    "#print(\"BowTie2\",df_30[\"count\"].corr(df_30[\"NumReads_BT\"],method=\"spearman\"))\n",
    "print(\"hera\",df[\"count\"].corr(df[\"NumReads_hera\"],method=\"spearman\"))"
   ]
  },
  {
   "cell_type": "markdown",
   "metadata": {},
   "source": [
    "## Result on sampled GTF + transcriptome (produced by hera)"
   ]
  },
  {
   "cell_type": "code",
   "execution_count": 6,
   "metadata": {},
   "outputs": [],
   "source": [
    "prefix = \"/mnt/scratch1/bleed_through_human\"\n",
    "types = [\"bleed_through_hera\"]\n",
    "files = {}\n",
    "for t in types:\n",
    "    fileinfo = {}\n",
    "    fileinfo[\"truth\"]= \"/\".join([prefix,t,\"rsem_sim\",\"sim.sim.isoforms.results\"])\n",
    "    fileinfo[\"SLA\"] =  \"/\".join([prefix,t,\"quant\",\"salmon_out\",\"quant.sf\"])\n",
    "    fileinfo[\"kallisto\"] = \"/\".join([prefix,t,\"quant\",\"kallisto_out\",\"abundance.tsv\"])\n",
    "    #fileinfo[\"bowtie\"] = \"/\".join([prefix,t,\"quant\",\"bowtie_out\",\"quant.sf\"])\n",
    "    fileinfo[\"hera\"] = \"/\".join([prefix,t,\"quant\",\"hera_out\",\"abundance.tsv\"])\n",
    "    files[t] = fileinfo"
   ]
  },
  {
   "cell_type": "code",
   "execution_count": 7,
   "metadata": {},
   "outputs": [],
   "source": [
    "df, truth, sla,kallisto,hera = getMergedDataFrameFast(\"bleed_through_hera\")"
   ]
  },
  {
   "cell_type": "code",
   "execution_count": 8,
   "metadata": {},
   "outputs": [
    {
     "name": "stdout",
     "output_type": "stream",
     "text": [
      "('kallisto', 0.7536674440504254)\n",
      "('SLA', 0.842216148287251)\n",
      "('hera', 0.7572425813340482)\n"
     ]
    }
   ],
   "source": [
    "print(\"kallisto\",df[\"count\"].corr(df[\"NumReads_KAL\"],method=\"spearman\"))\n",
    "print(\"SLA\",df[\"count\"].corr(df[\"NumReads\"],method=\"spearman\"))\n",
    "#print(\"BowTie2\",df_30[\"count\"].corr(df_30[\"NumReads_BT\"],method=\"spearman\"))\n",
    "print(\"hera\",df[\"count\"].corr(df[\"NumReads_hera\"],method=\"spearman\"))"
   ]
  },
  {
   "cell_type": "code",
   "execution_count": null,
   "metadata": {},
   "outputs": [],
   "source": []
  }
 ],
 "metadata": {
  "kernelspec": {
   "display_name": "Python 2",
   "language": "python",
   "name": "python2"
  },
  "language_info": {
   "codemirror_mode": {
    "name": "ipython",
    "version": 2
   },
   "file_extension": ".py",
   "mimetype": "text/x-python",
   "name": "python",
   "nbconvert_exporter": "python",
   "pygments_lexer": "ipython2",
   "version": "2.7.14"
  }
 },
 "nbformat": 4,
 "nbformat_minor": 1
}
