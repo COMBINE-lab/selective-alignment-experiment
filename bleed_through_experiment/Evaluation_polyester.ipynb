{
 "cells": [
  {
   "cell_type": "code",
   "execution_count": 1,
   "metadata": {},
   "outputs": [],
   "source": [
    "%matplotlib inline\n",
    "import numpy as np\n",
    "import matplotlib\n",
    "import matplotlib.pyplot as plt\n",
    "import seaborn as sns\n",
    "sns.set(color_codes=True)\n",
    "import pandas as pd\n",
    "import scipy.stats\n",
    "import math"
   ]
  },
  {
   "cell_type": "code",
   "execution_count": 57,
   "metadata": {},
   "outputs": [],
   "source": [
    "from pyfasta import Fasta\n",
    "import tqdm"
   ]
  },
  {
   "cell_type": "code",
   "execution_count": 4,
   "metadata": {},
   "outputs": [],
   "source": [
    "def getNames(fastafile):\n",
    "    f = Fasta(fastafile)\n",
    "    return f.keys()"
   ]
  },
  {
   "cell_type": "code",
   "execution_count": 6,
   "metadata": {},
   "outputs": [],
   "source": [
    "def constructGroundTruth(truelist,seq_names):\n",
    "    count_tsv={}\n",
    "    for name in seq_names:\n",
    "        count_tsv[name] = 0\n",
    "    with open(truelist) as fp:\n",
    "        lines = fp.readlines()\n",
    "        for line in lines:\n",
    "            tr = line.strip().split(\"/\")[-1]\n",
    "            count_tsv[tr] += 1\n",
    "    return count_tsv"
   ]
  },
  {
   "cell_type": "code",
   "execution_count": 5,
   "metadata": {},
   "outputs": [],
   "source": [
    "seq_names = getNames(\"/mnt/scratch1/bleed_through_human/ref/transcript_clean_200K.fa\")"
   ]
  },
  {
   "cell_type": "code",
   "execution_count": 59,
   "metadata": {},
   "outputs": [],
   "source": [
    "def batchWriteTruth(types):\n",
    "    for t in tqdm.tqdm(types):\n",
    "        truth_list = \"/\".join([\"/mnt/scratch1/bleed_through_human/poly_reads\",t,\"truth.list\"])\n",
    "        count_tsv = constructGroundTruth(truth_list, \\\n",
    "                                         seq_names)\n",
    "        ground_df = pd.DataFrame(list(count_tsv.items()))\n",
    "        ground_df.columns = ['transcript_id','count']\n",
    "        ground_df.to_csv(\"/\".join([\"/mnt/scratch1/bleed_through_human/poly_reads/quant\",t,\"truth.tsv\"]), \\\n",
    "                         sep=\"\\t\",index=False)"
   ]
  },
  {
   "cell_type": "code",
   "execution_count": 47,
   "metadata": {},
   "outputs": [],
   "source": [
    "#ground_df.to_csv(\"/mnt/scratch1/bleed_through_human/poly_reads/quant/reads_101/truth.tsv\",sep=\"\\t\",index=False)"
   ]
  },
  {
   "cell_type": "code",
   "execution_count": 51,
   "metadata": {},
   "outputs": [],
   "source": [
    "##samplenames\n",
    "types = []\n",
    "import glob\n",
    "fastq_files=glob.glob(\"/mnt/scratch1/bleed_through_human/poly_reads/*/*1.fasta.gz\")\n",
    "for f in fastq_files:\n",
    "    dirname = f.split(\"/\")[-2]\n",
    "    types.append(dirname)"
   ]
  },
  {
   "cell_type": "code",
   "execution_count": 60,
   "metadata": {},
   "outputs": [
    {
     "name": "stderr",
     "output_type": "stream",
     "text": [
      "100%|██████████| 14/14 [07:14<00:00, 31.52s/it]\n"
     ]
    }
   ],
   "source": [
    "batchWriteTruth(types)"
   ]
  },
  {
   "cell_type": "code",
   "execution_count": 64,
   "metadata": {},
   "outputs": [],
   "source": [
    "def getMergedDataFrameFast(typeof,files):\n",
    "    truth = pd.read_table(files[typeof][\"truth\"], delim_whitespace=True, \\\n",
    "       usecols=[\"transcript_id\", \"count\"])\n",
    "    df = truth\n",
    "    df.rename(index=str, \\\n",
    "            columns={\"transcript_id\": \"Name\", \"count\": \"count\"}, inplace = True)\n",
    "    \n",
    "    sla = pd.read_table(files[typeof][\"SLA\"], delim_whitespace=True, \\\n",
    "                                 usecols=[\"Name\", \"NumReads\"])\n",
    "    df = pd.merge(df,sla, how=\"outer\", on = \"Name\").fillna(0.0)\n",
    "    \n",
    "    kallisto = pd.read_table(files[typeof][\"kallisto\"], delim_whitespace=True, \\\n",
    "                                     usecols=[\"target_id\", \"est_counts\"])\n",
    "    kallisto.rename(index=str, columns={\"target_id\": \"Name\", \\\n",
    "                                                \"est_counts\": \"NumReads_KAL\"}, inplace = True)\n",
    "    df = pd.merge(df,kallisto, how=\"outer\", on = \"Name\").fillna(0.0)\n",
    "    \n",
    "    hera = pd.read_table(files[typeof][\"hera\"], delim_whitespace=True, \\\n",
    "                                     usecols=[\"#target_id\", \"est_counts\"])\n",
    "    hera[\"#target_id\"]= hera[\"#target_id\"].str.split(\":\",expand=True)[0]\n",
    "    hera.rename(index=str, columns={\"#target_id\": \"Name\", \\\n",
    "                                               \"est_counts\": \"NumReads_hera\"}, inplace = True)\n",
    "    df = pd.merge(df,hera, how=\"outer\", on = \"Name\").fillna(0.0)\n",
    "    return (df,truth,sla,kallisto,hera)"
   ]
  },
  {
   "cell_type": "code",
   "execution_count": 61,
   "metadata": {},
   "outputs": [],
   "source": [
    "prefix = \"/mnt/scratch1/bleed_through_human/poly_reads/quant\"\n",
    "#types = [\"reads_101\"]\n",
    "files = {}\n",
    "for t in types:\n",
    "    fileinfo = {}\n",
    "    fileinfo[\"truth\"]= \"/\".join([prefix,t,\"truth.tsv\"])\n",
    "    fileinfo[\"SLA\"] =  \"/\".join([prefix,t,\"salmon_out\",\"quant.sf\"])\n",
    "    fileinfo[\"kallisto\"] = \"/\".join([prefix,t,\"kallisto_out\",\"abundance.tsv\"])\n",
    "    #fileinfo[\"bowtie\"] = \"/\".join([prefix,t,\"quant\",\"bowtie_out\",\"quant.sf\"])\n",
    "    fileinfo[\"hera\"] = \"/\".join([prefix,t,\"hera_out\",\"abundance.tsv\"])\n",
    "    files[t] = fileinfo"
   ]
  },
  {
   "cell_type": "code",
   "execution_count": 66,
   "metadata": {},
   "outputs": [],
   "source": [
    "result_df = pd.DataFrame(columns=['sample','kallisto', 'SLA', 'hera'])\n",
    "for i,t in enumerate(types):\n",
    "    df, truth, sla,kallisto,hera = getMergedDataFrameFast(t,files)\n",
    "    kal=df[\"count\"].corr(df[\"NumReads_KAL\"],method=\"spearman\")\n",
    "    sla=df[\"count\"].corr(df[\"NumReads\"],method=\"spearman\")\n",
    "    hera=df[\"count\"].corr(df[\"NumReads_hera\"],method=\"spearman\")\n",
    "    result_df.loc[i] = [t,kal,sla,hera]\n",
    "    #print(\"sample name: {}\".format(t))\n",
    "    #print(\"kallisto\",df[\"count\"].corr(df[\"NumReads_KAL\"],method=\"spearman\"))\n",
    "    #print(\"SLA\",df[\"count\"].corr(df[\"NumReads\"],method=\"spearman\"))\n",
    "    #print(\"BowTie2\",df_30[\"count\"].corr(df_30[\"NumReads_BT\"],method=\"spearman\"))\n",
    "    #print(\"hera\",df[\"count\"].corr(df[\"NumReads_hera\"],method=\"spearman\"))"
   ]
  },
  {
   "cell_type": "code",
   "execution_count": 69,
   "metadata": {
    "scrolled": true
   },
   "outputs": [
    {
     "data": {
      "text/html": [
       "<div>\n",
       "<table border=\"1\" class=\"dataframe\">\n",
       "  <thead>\n",
       "    <tr style=\"text-align: right;\">\n",
       "      <th></th>\n",
       "      <th>sample</th>\n",
       "      <th>kallisto</th>\n",
       "      <th>SLA</th>\n",
       "      <th>hera</th>\n",
       "    </tr>\n",
       "  </thead>\n",
       "  <tbody>\n",
       "    <tr>\n",
       "      <th>0</th>\n",
       "      <td>reads_120</td>\n",
       "      <td>0.838221</td>\n",
       "      <td>0.880553</td>\n",
       "      <td>0.858618</td>\n",
       "    </tr>\n",
       "    <tr>\n",
       "      <th>1</th>\n",
       "      <td>reads_183</td>\n",
       "      <td>0.844338</td>\n",
       "      <td>0.883299</td>\n",
       "      <td>0.769599</td>\n",
       "    </tr>\n",
       "    <tr>\n",
       "      <th>2</th>\n",
       "      <td>reads_57</td>\n",
       "      <td>0.840198</td>\n",
       "      <td>0.882222</td>\n",
       "      <td>0.835788</td>\n",
       "    </tr>\n",
       "    <tr>\n",
       "      <th>3</th>\n",
       "      <td>reads_8</td>\n",
       "      <td>0.840530</td>\n",
       "      <td>0.881696</td>\n",
       "      <td>0.814793</td>\n",
       "    </tr>\n",
       "    <tr>\n",
       "      <th>4</th>\n",
       "      <td>reads_89</td>\n",
       "      <td>0.844404</td>\n",
       "      <td>0.882497</td>\n",
       "      <td>0.835946</td>\n",
       "    </tr>\n",
       "    <tr>\n",
       "      <th>5</th>\n",
       "      <td>reads_101</td>\n",
       "      <td>0.841968</td>\n",
       "      <td>0.882108</td>\n",
       "      <td>0.846867</td>\n",
       "    </tr>\n",
       "    <tr>\n",
       "      <th>6</th>\n",
       "      <td>reads_114</td>\n",
       "      <td>0.841816</td>\n",
       "      <td>0.880559</td>\n",
       "      <td>0.855661</td>\n",
       "    </tr>\n",
       "    <tr>\n",
       "      <th>7</th>\n",
       "      <td>reads_174</td>\n",
       "      <td>0.838394</td>\n",
       "      <td>0.880393</td>\n",
       "      <td>0.914232</td>\n",
       "    </tr>\n",
       "    <tr>\n",
       "      <th>8</th>\n",
       "      <td>reads_198</td>\n",
       "      <td>0.841960</td>\n",
       "      <td>0.882128</td>\n",
       "      <td>0.819621</td>\n",
       "    </tr>\n",
       "    <tr>\n",
       "      <th>9</th>\n",
       "      <td>reads_137</td>\n",
       "      <td>0.840609</td>\n",
       "      <td>0.882348</td>\n",
       "      <td>0.796499</td>\n",
       "    </tr>\n",
       "    <tr>\n",
       "      <th>10</th>\n",
       "      <td>reads_121</td>\n",
       "      <td>0.839213</td>\n",
       "      <td>0.879477</td>\n",
       "      <td>0.835447</td>\n",
       "    </tr>\n",
       "    <tr>\n",
       "      <th>11</th>\n",
       "      <td>reads_153</td>\n",
       "      <td>0.844812</td>\n",
       "      <td>0.881791</td>\n",
       "      <td>0.811722</td>\n",
       "    </tr>\n",
       "    <tr>\n",
       "      <th>12</th>\n",
       "      <td>reads_54</td>\n",
       "      <td>0.843898</td>\n",
       "      <td>0.883220</td>\n",
       "      <td>0.857914</td>\n",
       "    </tr>\n",
       "    <tr>\n",
       "      <th>13</th>\n",
       "      <td>reads_131</td>\n",
       "      <td>0.843321</td>\n",
       "      <td>0.881999</td>\n",
       "      <td>0.795424</td>\n",
       "    </tr>\n",
       "  </tbody>\n",
       "</table>\n",
       "</div>"
      ],
      "text/plain": [
       "       sample  kallisto       SLA      hera\n",
       "0   reads_120  0.838221  0.880553  0.858618\n",
       "1   reads_183  0.844338  0.883299  0.769599\n",
       "2    reads_57  0.840198  0.882222  0.835788\n",
       "3     reads_8  0.840530  0.881696  0.814793\n",
       "4    reads_89  0.844404  0.882497  0.835946\n",
       "5   reads_101  0.841968  0.882108  0.846867\n",
       "6   reads_114  0.841816  0.880559  0.855661\n",
       "7   reads_174  0.838394  0.880393  0.914232\n",
       "8   reads_198  0.841960  0.882128  0.819621\n",
       "9   reads_137  0.840609  0.882348  0.796499\n",
       "10  reads_121  0.839213  0.879477  0.835447\n",
       "11  reads_153  0.844812  0.881791  0.811722\n",
       "12   reads_54  0.843898  0.883220  0.857914\n",
       "13  reads_131  0.843321  0.881999  0.795424"
      ]
     },
     "execution_count": 69,
     "metadata": {},
     "output_type": "execute_result"
    }
   ],
   "source": [
    "result_df"
   ]
  },
  {
   "cell_type": "code",
   "execution_count": null,
   "metadata": {},
   "outputs": [],
   "source": []
  }
 ],
 "metadata": {
  "kernelspec": {
   "display_name": "Python 2",
   "language": "python",
   "name": "python2"
  },
  "language_info": {
   "codemirror_mode": {
    "name": "ipython",
    "version": 2
   },
   "file_extension": ".py",
   "mimetype": "text/x-python",
   "name": "python",
   "nbconvert_exporter": "python",
   "pygments_lexer": "ipython2",
   "version": "2.7.14"
  }
 },
 "nbformat": 4,
 "nbformat_minor": 2
}
