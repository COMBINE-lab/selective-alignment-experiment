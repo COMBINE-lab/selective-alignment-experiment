{
 "cells": [
  {
   "cell_type": "code",
   "execution_count": 1,
   "metadata": {},
   "outputs": [],
   "source": [
    "%matplotlib inline\n",
    "import numpy as np\n",
    "import matplotlib\n",
    "import matplotlib.pyplot as plt\n",
    "import seaborn as sns\n",
    "sns.set(color_codes=True)\n",
    "import pandas as pd\n",
    "import scipy.stats\n",
    "import math"
   ]
  },
  {
   "cell_type": "code",
   "execution_count": 90,
   "metadata": {},
   "outputs": [],
   "source": [
    "from pyfasta import Fasta\n",
    "import tqdm\n",
    "import seaborn as sns"
   ]
  },
  {
   "cell_type": "code",
   "execution_count": 4,
   "metadata": {},
   "outputs": [],
   "source": [
    "def getNames(fastafile):\n",
    "    f = Fasta(fastafile)\n",
    "    return f.keys()"
   ]
  },
  {
   "cell_type": "code",
   "execution_count": 6,
   "metadata": {},
   "outputs": [],
   "source": [
    "def constructGroundTruth(truelist,seq_names):\n",
    "    count_tsv={}\n",
    "    for name in seq_names:\n",
    "        count_tsv[name] = 0\n",
    "    with open(truelist) as fp:\n",
    "        lines = fp.readlines()\n",
    "        for line in lines:\n",
    "            tr = line.strip().split(\"/\")[-1]\n",
    "            count_tsv[tr] += 1\n",
    "    return count_tsv"
   ]
  },
  {
   "cell_type": "code",
   "execution_count": 382,
   "metadata": {},
   "outputs": [],
   "source": [
    "seq_names = getNames(\"/mnt/scratch7/hirak/bleed_through_7/reference/transcripts_all.fa\")"
   ]
  },
  {
   "cell_type": "code",
   "execution_count": 256,
   "metadata": {},
   "outputs": [],
   "source": [
    "def batchWriteTruth(types,prefix=\"/mnt/scratch1/bleed_through_human/poly_reads\"):\n",
    "    for t in tqdm.tqdm(types):\n",
    "        truth_list = \"/\".join([prefix,t,\"truth.list\"])\n",
    "        count_tsv = constructGroundTruth(truth_list, \\\n",
    "                                         seq_names)\n",
    "        ground_df = pd.DataFrame(list(count_tsv.items()))\n",
    "        ground_df.columns = ['transcript_id','count']\n",
    "        ground_df.to_csv(\"/\".join([prefix,\"quant\",t,\"truth.tsv\"]), \\\n",
    "                         sep=\"\\t\",index=False)"
   ]
  },
  {
   "cell_type": "code",
   "execution_count": null,
   "metadata": {},
   "outputs": [],
   "source": [
    "#ground_df = pd.read_table(\"\")"
   ]
  },
  {
   "cell_type": "code",
   "execution_count": 47,
   "metadata": {},
   "outputs": [],
   "source": [
    "#ground_df.to_csv(\"/mnt/scratch1/bleed_through_human/poly_reads/quant/reads_101/truth.tsv\",sep=\"\\t\",index=False)"
   ]
  },
  {
   "cell_type": "code",
   "execution_count": 969,
   "metadata": {},
   "outputs": [],
   "source": [
    "##samplenames\n",
    "all_types = []\n",
    "import glob\n",
    "fastq_files=glob.glob(\"/mnt/scratch7/hirak/bleed_through_7/subsets/poly_reads_salmon/*/*1.fasta.gz\")\n",
    "for f in fastq_files:\n",
    "    dirname = f.split(\"/\")[-2]\n",
    "    all_types.append(dirname)"
   ]
  },
  {
   "cell_type": "code",
   "execution_count": 970,
   "metadata": {},
   "outputs": [
    {
     "data": {
      "text/plain": [
       "['reads_56', 'reads_33', 'reads_96', 'reads_199', 'reads_70']"
      ]
     },
     "execution_count": 970,
     "metadata": {},
     "output_type": "execute_result"
    }
   ],
   "source": [
    "all_types"
   ]
  },
  {
   "cell_type": "code",
   "execution_count": 974,
   "metadata": {},
   "outputs": [
    {
     "name": "stderr",
     "output_type": "stream",
     "text": [
      "100%|██████████| 5/5 [00:46<00:00,  9.38s/it]\n"
     ]
    }
   ],
   "source": [
    "batchWriteTruth(all_types,\"/mnt/scratch7/hirak/bleed_through_7/subsets/poly_reads_salmon/\")"
   ]
  },
  {
   "cell_type": "code",
   "execution_count": 961,
   "metadata": {},
   "outputs": [],
   "source": [
    "def getMergedDataFrameSalmons(typeof,files):\n",
    "    truth = pd.read_table(files[typeof][\"truth\"], delim_whitespace=True, \\\n",
    "       usecols=[\"transcript_id\", \"count\"])\n",
    "    df = truth\n",
    "    df.rename(index=str, \\\n",
    "            columns={\"transcript_id\": \"Name\", \"count\": \"count\"}, inplace = True)\n",
    "    \n",
    "    sla = pd.read_table(files[typeof][\"SLA\"], delim_whitespace=True, \\\n",
    "                                 usecols=[\"Name\", \"NumReads\"])\n",
    "    df = pd.merge(df,sla, how=\"outer\", on = \"Name\").fillna(0.0)\n",
    "    \n",
    "    \n",
    "    #bowtie = pd.read_table(files[typeof][\"bowtie\"], delim_whitespace=True, \\\n",
    "     #                            usecols=[\"Name\", \"NumReads\"])\n",
    "    #bowtie.rename(index=str, columns = {\"Name\" : \"Name\", \\\n",
    "     #                                   \"NumReads\": \"NumReads_BT\"}, inplace = True)\n",
    "    \n",
    "    #df = pd.merge(df,bowtie, how=\"outer\", on = \"Name\").fillna(0.0)\n",
    "    \n",
    "    kallisto = pd.read_table(files[typeof][\"kallisto\"], delim_whitespace=True, \\\n",
    "                                     usecols=[\"target_id\", \"est_counts\"])\n",
    "    kallisto.rename(index=str, columns={\"target_id\": \"Name\", \\\n",
    "                                                \"est_counts\": \"NumReads_KAL\"}, inplace = True)\n",
    "    df = pd.merge(df,kallisto, how=\"outer\", on = \"Name\").fillna(0.0)\n",
    "    \n",
    "    hera = pd.read_table(files[typeof][\"hera\"], delim_whitespace=True, \\\n",
    "                                     usecols=[\"#target_id\", \"est_counts\"])\n",
    "    hera[\"#target_id\"]= hera[\"#target_id\"].str.split(\":\",expand=True)[0]\n",
    "    hera.rename(index=str, columns={\"#target_id\": \"Name\", \\\n",
    "                                               \"est_counts\": \"NumReads_hera\"}, inplace = True)\n",
    "    \n",
    "    df = pd.merge(df,hera, how=\"outer\", on = \"Name\").fillna(0.0)\n",
    "    \n",
    "    \n",
    "    #hera_mod = pd.read_table(files[typeof][\"hera_mod\"], delim_whitespace=True, \\\n",
    "    #                                 usecols=[\"#target_id\", \"est_counts\"])\n",
    "    #hera_mod[\"#target_id\"]= hera_mod[\"#target_id\"].str.split(\":\",expand=True)[0]\n",
    "    #hera_mod.rename(index=str, columns={\"#target_id\": \"Name\", \\\n",
    "     #                                          \"est_counts\": \"NumReads_hera_mod\"}, inplace = True)\n",
    "    \n",
    "    #df = pd.merge(df,hera_mod, how=\"outer\", on = \"Name\").fillna(0.0)\n",
    "    return (df,truth,sla,kallisto,hera)"
   ]
  },
  {
   "cell_type": "code",
   "execution_count": 962,
   "metadata": {},
   "outputs": [],
   "source": [
    "def getMergedDataFrameFast(typeof,files):\n",
    "    truth = pd.read_table(files[typeof][\"truth\"], delim_whitespace=True, \\\n",
    "       usecols=[\"transcript_id\", \"count\"])\n",
    "    df = truth\n",
    "    df.rename(index=str, \\\n",
    "            columns={\"transcript_id\": \"Name\", \"count\": \"count\"}, inplace = True)\n",
    "    \n",
    "    sla = pd.read_table(files[typeof][\"SLA\"], delim_whitespace=True, \\\n",
    "                                 usecols=[\"Name\", \"NumReads\"])\n",
    "    df = pd.merge(df,sla, how=\"outer\", on = \"Name\").fillna(0.0)\n",
    "    \n",
    "    \n",
    "    bowtie = pd.read_table(files[typeof][\"bowtie\"], delim_whitespace=True, \\\n",
    "                                 usecols=[\"Name\", \"NumReads\"])\n",
    "    bowtie.rename(index=str, columns = {\"Name\" : \"Name\", \\\n",
    "                                        \"NumReads\": \"NumReads_BT\"}, inplace = True)\n",
    "    \n",
    "    df = pd.merge(df,bowtie, how=\"outer\", on = \"Name\").fillna(0.0)\n",
    "    \n",
    "    kallisto = pd.read_table(files[typeof][\"kallisto\"], delim_whitespace=True, \\\n",
    "                                     usecols=[\"target_id\", \"est_counts\"])\n",
    "    kallisto.rename(index=str, columns={\"target_id\": \"Name\", \\\n",
    "                                                \"est_counts\": \"NumReads_KAL\"}, inplace = True)\n",
    "    df = pd.merge(df,kallisto, how=\"outer\", on = \"Name\").fillna(0.0)\n",
    "    \n",
    "    hera = pd.read_table(files[typeof][\"hera\"], delim_whitespace=True, \\\n",
    "                                     usecols=[\"#target_id\", \"est_counts\"])\n",
    "    hera[\"#target_id\"]= hera[\"#target_id\"].str.split(\":\",expand=True)[0]\n",
    "    hera.rename(index=str, columns={\"#target_id\": \"Name\", \\\n",
    "                                               \"est_counts\": \"NumReads_hera\"}, inplace = True)\n",
    "    \n",
    "    df = pd.merge(df,hera, how=\"outer\", on = \"Name\").fillna(0.0)\n",
    "    \n",
    "    \n",
    "    #hera_mod = pd.read_table(files[typeof][\"hera_mod\"], delim_whitespace=True, \\\n",
    "    #                                 usecols=[\"#target_id\", \"est_counts\"])\n",
    "    #hera_mod[\"#target_id\"]= hera_mod[\"#target_id\"].str.split(\":\",expand=True)[0]\n",
    "    #hera_mod.rename(index=str, columns={\"#target_id\": \"Name\", \\\n",
    "     #                                          \"est_counts\": \"NumReads_hera_mod\"}, inplace = True)\n",
    "    \n",
    "    #df = pd.merge(df,hera_mod, how=\"outer\", on = \"Name\").fillna(0.0)\n",
    "    return (df,truth,sla,kallisto,hera)"
   ]
  },
  {
   "cell_type": "code",
   "execution_count": 963,
   "metadata": {},
   "outputs": [],
   "source": [
    "def mergeHeraKallisto(typeof,files):\n",
    "    \n",
    "    #truth\n",
    "    truth = pd.read_table(files[typeof][\"truth\"], delim_whitespace=True, \\\n",
    "       usecols=[\"transcript_id\", \"count\"])\n",
    "    df = truth\n",
    "    df.rename(index=str, \\\n",
    "            columns={\"transcript_id\": \"Name\", \"count\": \"count\"}, inplace = True)\n",
    "    \n",
    "    #SLA\n",
    "    sla = pd.read_table(files[typeof][\"SLA\"], delim_whitespace=True, \\\n",
    "                                 usecols=[\"Name\", \"NumReads\"])\n",
    "    df = pd.merge(df,sla, how=\"outer\", on = \"Name\").fillna(0.0)\n",
    "    \n",
    "    #hera\n",
    "    hera = pd.read_table(files[typeof][\"hera\"], delim_whitespace=True, \\\n",
    "                                     usecols=[\"#target_id\", \"est_counts\"])\n",
    "    hera[\"#target_id\"]= hera[\"#target_id\"].str.split(\":\",expand=True)[0]\n",
    "    hera.rename(index=str, columns={\"#target_id\": \"Name\", \\\n",
    "                                               \"est_counts\": \"NumReads_hera\"}, inplace = True)\n",
    "    df = pd.merge(df,hera, how=\"outer\", on = \"Name\").fillna(0.0)\n",
    "    \n",
    "    #kallisto\n",
    "    kallisto = pd.read_table(files[typeof][\"kallisto\"], delim_whitespace=True, \\\n",
    "                                     usecols=[\"target_id\", \"est_counts\"])\n",
    "    kallisto.rename(index=str, columns={\"target_id\": \"Name\", \\\n",
    "                                                \"est_counts\": \"NumReads_KAL\"}, inplace = True)\n",
    "    df = pd.merge(df,kallisto, how=\"outer\", on = \"Name\").fillna(0.0)\n",
    "    \n",
    "    return df"
   ]
  },
  {
   "cell_type": "code",
   "execution_count": 964,
   "metadata": {},
   "outputs": [],
   "source": [
    "def relDiff(c1, c2, DF, cutoff=0.01, verbose=False):\n",
    "    import pandas as pd\n",
    "    \"\"\"\n",
    "    Computes the relative difference between the values\n",
    "    in columns c1 and c2 of DF.\n",
    "    c1 and c2 are column names and DF is a Pandas data frame.\n",
    "    Values less than cutoff will be treated as 0.\n",
    "    The relative difference is defined as\n",
    "    d(x_i, y_i) =\n",
    "        0.0 if x_i and y_i are 0\n",
    "        (x_i - y_i) / (0.5 * |x_i - y_i|) otherwise\n",
    "    This function returns two values.\n",
    "    rd is a DataFrame where the \"relDiff\" column contains all\n",
    "    of the computed relative differences.\n",
    "    nz is a set of indexes into rd for data points where\n",
    "    x_i and y_i were not *both* zero.\n",
    "    \"\"\"\n",
    "    import numpy as np\n",
    "    rd = pd.DataFrame(data = {\"Name\" : DF.index, \"relDiff\" : np.zeros(len(DF.index))*np.nan})\n",
    "    rd.set_index(\"Name\", inplace=True)\n",
    "    bothZero = DF.loc[(DF[c1] <= cutoff) & (DF[c2] <= cutoff)].index\n",
    "    nonZero = DF.index.difference(bothZero)\n",
    "    if (verbose):\n",
    "        print(\"Zero occurs in both columns {} times\".format(len(rd.loc[bothZero])))\n",
    "        print(\"Nonzero occurs in at least 1 column {} times\".format(len(rd.loc[nonZero])))\n",
    "    allRD = 1.0 * ((DF[c1] - DF[c2]) / (DF[c1] + DF[c2]).abs())\n",
    "    assert(len(rd.loc[nonZero][\"relDiff\"]) == len(allRD[nonZero]))\n",
    "    rd[\"relDiff\"][nonZero] = allRD[nonZero]\n",
    "    if len(bothZero) > 0:\n",
    "        rd[\"relDiff\"][bothZero] = 0.0\n",
    "    return rd, nonZero"
   ]
  },
  {
   "cell_type": "code",
   "execution_count": 965,
   "metadata": {},
   "outputs": [],
   "source": [
    "types_n = [\"reads_101\",\"reads_121\",\"reads_114\",\"reads_131\",\"reads_120\",\"reads_137\"]"
   ]
  },
  {
   "cell_type": "code",
   "execution_count": 971,
   "metadata": {},
   "outputs": [],
   "source": [
    "def prepareFileInfo(salmon_type):\n",
    "    #prefix = \"/mnt/scratch1/bleed_through_human/poly_reads/quant\"\n",
    "    prefix = \"/mnt/scratch7/hirak/bleed_through_7/subsets/poly_reads_salmon/quant\"\n",
    "    #types = [\"reads_101\"]\n",
    "    types = all_types\n",
    "    #types = [ 'reads_85', 'reads_188', 'reads_141']\n",
    "    files = {}\n",
    "    for t in types:\n",
    "        fileinfo = {}\n",
    "        fileinfo[\"truth\"]= \"/\".join([prefix,t,\"truth.tsv\"])\n",
    "        #fileinfo[\"SLA\"] =  \"/\".join([prefix,t,\"salmon_out_noeff\",\"quant.sf\"])\n",
    "        #fileinfo[\"SLA\"] =  \"/\".join([prefix,t,\"salmon_out\",\"quant.sf\"])\n",
    "        fileinfo[\"SLA\"] =  \"/\".join([prefix,t,\"salmon_out\",salmon_type,\"quant.sf\"])\n",
    "        #fileinfo[\"SLA\"] = \"/home/rob/salmon_rescue_orphan/salmon/build/polyester_101/quant.sf\"\n",
    "        fileinfo[\"kallisto\"] = \"/\".join([prefix,t,\"kallisto_out\",\"abundance.tsv\"])\n",
    "        #fileinfo[\"bowtie\"] = \"/\".join([prefix,t,\"bowtie_out\",salmon_type,\"quant.sf\"])\n",
    "        fileinfo[\"hera\"] = \"/\".join([prefix,t,\"hera_out\",\"abundance.tsv\"])\n",
    "        #fileinfo[\"hera_mod\"] = \"/\".join([\"/home/rob/our_hera/hera-master\",t,\"abundance.tsv\"])\n",
    "        files[t] = fileinfo\n",
    "    return files"
   ]
  },
  {
   "cell_type": "code",
   "execution_count": null,
   "metadata": {},
   "outputs": [],
   "source": []
  },
  {
   "cell_type": "code",
   "execution_count": 972,
   "metadata": {},
   "outputs": [],
   "source": [
    "def getDataframe(files):\n",
    "    result_df = pd.DataFrame(columns=['sample','kallisto', 'SLA', 'hera'])\n",
    "    #types = [\"reads_101\"]\n",
    "    types = all_types\n",
    "    #types = [ 'reads_85', 'reads_188', 'reads_141']\n",
    "    for i,t in enumerate(types):\n",
    "        #print(t)\n",
    "        #df, truth, sla,kallisto,hera = getMergedDataFrameFast(t,files)\n",
    "        #df, truth, sla,kallisto,hera = mergeHeraKallisto(t,files)\n",
    "        df = mergeHeraKallisto(t,files)\n",
    "        #print df.columns\n",
    "        kal=df[\"count\"].corr(df[\"NumReads_KAL\"],method=\"spearman\")\n",
    "        sla=df[\"count\"].corr(df[\"NumReads\"],method=\"spearman\")\n",
    "        hera=df[\"count\"].corr(df[\"NumReads_hera\"],method=\"spearman\")\n",
    "        #kal=np.log(df[\"count\"]+1).corr(np.log(df[\"NumReads_KAL\"]+1),method=\"pearson\")\n",
    "        #sla=np.log(df[\"count\"]+1).corr(np.log(df[\"NumReads\"]+1),method=\"pearson\")\n",
    "        #hera=np.log(df[\"count\"]+1).corr(np.log(df[\"NumReads_hera\"]+1),method=\"pearson\")\n",
    "        \n",
    "        #bt=df[\"count\"].corr(df[\"NumReads_BT\"],method=\"spearman\")\n",
    "        #hera_mod=df[\"count\"].corr(df[\"NumReads_hera_mod\"],method=\"spearman\")\n",
    "        result_df.loc[i] = [t,kal,sla,hera]\n",
    "        #print(\"sample name: {}\".format(t))\n",
    "        #print(\"kallisto\",df[\"count\"].corr(df[\"NumReads_KAL\"],method=\"spearman\"))\n",
    "        #print(\"SLA\",df[\"count\"].corr(df[\"NumReads\"],method=\"spearman\"))\n",
    "        #print(\"BowTie2\",df_30[\"count\"].corr(df_30[\"NumReads_BT\"],method=\"spearman\"))\n",
    "        #print(\"hera\",df[\"count\"].corr(df[\"NumReads_hera\"],method=\"spearman\"))\n",
    "    return result_df"
   ]
  },
  {
   "cell_type": "code",
   "execution_count": 975,
   "metadata": {},
   "outputs": [
    {
     "name": "stdout",
     "output_type": "stream",
     "text": [
      "no_option\n",
      "      sample  kallisto       SLA      hera\n",
      "0   reads_56  0.899018  0.925225  0.870006\n",
      "1   reads_33  0.898364  0.924622  0.850446\n",
      "2   reads_96  0.898037  0.924147  0.801252\n",
      "3  reads_199  0.898622  0.923795  0.816789\n",
      "4   reads_70  0.897556  0.925029  0.878071\n",
      "no_eff\n",
      "      sample  kallisto       SLA      hera\n",
      "0   reads_56  0.899018  0.940185  0.870006\n",
      "1   reads_33  0.898364  0.940213  0.850446\n",
      "2   reads_96  0.898037  0.940204  0.801252\n",
      "3  reads_199  0.898622  0.940375  0.816789\n",
      "4   reads_70  0.897556  0.940983  0.878071\n"
     ]
    }
   ],
   "source": [
    "#result_df = pd.DataFrame(columns=['sample','kallisto', 'SLA', 'hera'])\n",
    "salmon_types = ['no_option','no_eff']\n",
    "#salmon_types = ['no_option']\n",
    "result_dict = {}\n",
    "for salmon_type in salmon_types:\n",
    "    print(salmon_type)\n",
    "    files = prepareFileInfo(salmon_type)\n",
    "    #result_df.append(getDataframe(files),ignore_index=True)\n",
    "    result_df = getDataframe(files)\n",
    "    print result_df"
   ]
  },
  {
   "cell_type": "code",
   "execution_count": 927,
   "metadata": {},
   "outputs": [
    {
     "name": "stdout",
     "output_type": "stream",
     "text": [
      "no_option\n",
      "     sample  kallisto       SLA      hera\n",
      "0  reads_52  0.855514  0.889599  0.842389\n",
      "1  reads_49  0.850211  0.887771  0.875235\n",
      "2   reads_7  0.807171  0.840258  0.701791\n",
      "no_eff\n",
      "     sample  kallisto       SLA      hera\n",
      "0  reads_52  0.855514  0.912096  0.842389\n",
      "1  reads_49  0.850211  0.913035  0.875235\n",
      "2   reads_7  0.807171  0.864966  0.701791\n"
     ]
    }
   ],
   "source": [
    "#result_df = pd.DataFrame(columns=['sample','kallisto', 'SLA', 'hera'])\n",
    "salmon_types = ['no_option','no_eff']\n",
    "#salmon_types = ['no_option']\n",
    "result_dict = {}\n",
    "for salmon_type in salmon_types:\n",
    "    print(salmon_type)\n",
    "    files = prepareFileInfo(salmon_type)\n",
    "    #result_df.append(getDataframe(files),ignore_index=True)\n",
    "    result_df = getDataframe(files)\n",
    "    print result_df"
   ]
  },
  {
   "cell_type": "code",
   "execution_count": 508,
   "metadata": {},
   "outputs": [
    {
     "name": "stdout",
     "output_type": "stream",
     "text": [
      "no_option\n",
      "      sample  kallisto       SLA      hera\n",
      "0   reads_44  0.853658  0.886023  0.813214\n",
      "1  reads_179  0.851528  0.883645  0.855343\n",
      "2   reads_98  0.850943  0.883794  0.856524\n",
      "3   reads_92  0.850995  0.884072  0.801731\n",
      "4  reads_153  0.847678  0.914188  0.809491\n"
     ]
    }
   ],
   "source": [
    "salmon_types = ['no_option']\n",
    "for salmon_type in salmon_types:\n",
    "    print(salmon_type)\n",
    "    files = prepareFileInfo(salmon_type)\n",
    "    #result_df.append(getDataframe(files),ignore_index=True)\n",
    "    result_df = getDataframe(files)\n",
    "    print result_df"
   ]
  },
  {
   "cell_type": "code",
   "execution_count": 577,
   "metadata": {},
   "outputs": [
    {
     "name": "stdout",
     "output_type": "stream",
     "text": [
      "no_option\n",
      "      sample  kallisto       SLA      hera\n",
      "0   reads_44  0.853658  0.886023  0.813214\n",
      "1  reads_179  0.851528  0.883645  0.855343\n",
      "2   reads_98  0.850943  0.913969  0.856524\n",
      "3   reads_92  0.850995  0.884072  0.801731\n",
      "4  reads_153  0.847678  0.914188  0.809491\n"
     ]
    }
   ],
   "source": [
    "salmon_types = ['no_option']\n",
    "for salmon_type in salmon_types:\n",
    "    print(salmon_type)\n",
    "    files = prepareFileInfo(salmon_type)\n",
    "    #result_df.append(getDataframe(files),ignore_index=True)\n",
    "    result_df = getDataframe(files)\n",
    "    print result_df"
   ]
  },
  {
   "cell_type": "code",
   "execution_count": 949,
   "metadata": {},
   "outputs": [],
   "source": [
    "df_eff_length_salmon  = pd.read_table(\"/mnt/scratch7/hirak/bleed_through_7/exp_1_14/SRR5638585_salmon/quant.sf\",\n",
    "                                   usecols=['Name','EffectiveLength','Length','TPM'])\n",
    "df_salmon_7_eff  = pd.read_table(\"/mnt/scratch7/hirak/bleed_through_7/exp_1_14/poly_reads_salmon/\\\n",
    "quant/reads_7/salmon_out/no_option/quant.sf\",\n",
    "                                   usecols=['Name','EffectiveLength','Length','TPM'])\n",
    "df_salmon_7_no_eff  = pd.read_table(\"/mnt/scratch7/hirak/bleed_through_7/exp_1_14/poly_reads_salmon/\\\n",
    "quant/reads_7/salmon_out/no_eff/quant.sf\",\n",
    "                                   usecols=['Name','EffectiveLength','Length','TPM'])"
   ]
  },
  {
   "cell_type": "code",
   "execution_count": 950,
   "metadata": {},
   "outputs": [
    {
     "data": {
      "text/plain": [
       "<matplotlib.legend.Legend at 0x7fa36d8f3a50>"
      ]
     },
     "execution_count": 950,
     "metadata": {},
     "output_type": "execute_result"
    },
    {
     "data": {
      "image/png": "[encoded data removed]",
      "text/plain": [
       "<Figure size 432x288 with 1 Axes>"
      ]
     },
     "metadata": {},
     "output_type": "display_data"
    }
   ],
   "source": [
    "\n",
    "sns.distplot(df_salmon_7_no_eff.loc[df_salmon_7_no_eff['TPM'] > 0].Length, label = \"true\", hist_kws={'log':True})\n",
    "sns.distplot(df_salmon_7_eff.loc[df_salmon_7_eff['TPM'] > 0].Length, label =\"estimated\", hist_kws={'log':True})\n",
    "\n",
    "plt.legend()\n",
    "#sns.distplot(df_salmon.loc[df_salmon['TPM'] > 0].EffectiveLength)"
   ]
  },
  {
   "cell_type": "code",
   "execution_count": 955,
   "metadata": {},
   "outputs": [
    {
     "data": {
      "text/plain": [
       "<seaborn.axisgrid.JointGrid at 0x7fa349863650>"
      ]
     },
     "execution_count": 955,
     "metadata": {},
     "output_type": "execute_result"
    },
    {
     "data": {
      "image/png": "[encoded data removed]",
      "text/plain": [
       "<Figure size 432x432 with 3 Axes>"
      ]
     },
     "metadata": {},
     "output_type": "display_data"
    }
   ],
   "source": [
    "sns.jointplot(np.log(df_salmon_7_no_eff['TPM']+1),np.log(df_salmon_7_eff['TPM']+1), alpha=0.05 )"
   ]
  },
  {
   "cell_type": "code",
   "execution_count": null,
   "metadata": {},
   "outputs": [],
   "source": []
  },
  {
   "cell_type": "code",
   "execution_count": 935,
   "metadata": {},
   "outputs": [],
   "source": [
    "df_eff_length_salmon['Diff'] = df_eff_length_salmon.Length - df_eff_length_salmon.EffectiveLength"
   ]
  },
  {
   "cell_type": "code",
   "execution_count": 936,
   "metadata": {},
   "outputs": [
    {
     "data": {
      "text/plain": [
       "<matplotlib.collections.PathCollection at 0x7fa369d11a50>"
      ]
     },
     "execution_count": 936,
     "metadata": {},
     "output_type": "execute_result"
    },
    {
     "data": {
      "image/png": "[encoded data removed]",
      "text/plain": [
       "<Figure size 432x288 with 1 Axes>"
      ]
     },
     "metadata": {},
     "output_type": "display_data"
    }
   ],
   "source": [
    "plt.scatter(df_eff_length_salmon.loc[(df_eff_length_salmon.TPM > 0.0) & \\\n",
    "                         (df_eff_length_salmon.Length < 1000)].Length,\\\n",
    "            df_eff_length_salmon.loc[(df_eff_length_salmon.TPM > 0.0) & \\\n",
    "                         (df_eff_length_salmon.Length < 1000)].Diff)"
   ]
  },
  {
   "cell_type": "code",
   "execution_count": null,
   "metadata": {},
   "outputs": [],
   "source": [
    "# x1 = expressed trancript length in the subset True \n",
    "# x2 = estimated exprssed  "
   ]
  },
  {
   "cell_type": "code",
   "execution_count": 937,
   "metadata": {},
   "outputs": [
    {
     "data": {
      "text/html": [
       "<div>\n",
       "<table border=\"1\" class=\"dataframe\">\n",
       "  <thead>\n",
       "    <tr style=\"text-align: right;\">\n",
       "      <th></th>\n",
       "      <th>Name</th>\n",
       "      <th>Length</th>\n",
       "      <th>EffectiveLength</th>\n",
       "      <th>TPM</th>\n",
       "      <th>Diff</th>\n",
       "    </tr>\n",
       "  </thead>\n",
       "  <tbody>\n",
       "    <tr>\n",
       "      <th>0</th>\n",
       "      <td>ENST00000502854.5</td>\n",
       "      <td>1480</td>\n",
       "      <td>1301.115</td>\n",
       "      <td>2.112073</td>\n",
       "      <td>178.885</td>\n",
       "    </tr>\n",
       "    <tr>\n",
       "      <th>1</th>\n",
       "      <td>ENST00000502634.1</td>\n",
       "      <td>1404</td>\n",
       "      <td>1225.115</td>\n",
       "      <td>30.029835</td>\n",
       "      <td>178.885</td>\n",
       "    </tr>\n",
       "    <tr>\n",
       "      <th>6</th>\n",
       "      <td>ENST00000521146.1</td>\n",
       "      <td>1258</td>\n",
       "      <td>1079.115</td>\n",
       "      <td>0.025214</td>\n",
       "      <td>178.885</td>\n",
       "    </tr>\n",
       "    <tr>\n",
       "      <th>8</th>\n",
       "      <td>ENST00000510163.5</td>\n",
       "      <td>2237</td>\n",
       "      <td>2058.115</td>\n",
       "      <td>17.490145</td>\n",
       "      <td>178.885</td>\n",
       "    </tr>\n",
       "    <tr>\n",
       "      <th>10</th>\n",
       "      <td>ENST00000355943.7</td>\n",
       "      <td>2385</td>\n",
       "      <td>2206.115</td>\n",
       "      <td>26.331339</td>\n",
       "      <td>178.885</td>\n",
       "    </tr>\n",
       "    <tr>\n",
       "      <th>11</th>\n",
       "      <td>ENST00000313368.7</td>\n",
       "      <td>2334</td>\n",
       "      <td>2155.115</td>\n",
       "      <td>78.590873</td>\n",
       "      <td>178.885</td>\n",
       "    </tr>\n",
       "    <tr>\n",
       "      <th>12</th>\n",
       "      <td>ENST00000350881.6</td>\n",
       "      <td>3222</td>\n",
       "      <td>3043.115</td>\n",
       "      <td>0.715278</td>\n",
       "      <td>178.885</td>\n",
       "    </tr>\n",
       "    <tr>\n",
       "      <th>13</th>\n",
       "      <td>ENST00000393792.2</td>\n",
       "      <td>3301</td>\n",
       "      <td>3122.115</td>\n",
       "      <td>18.865535</td>\n",
       "      <td>178.885</td>\n",
       "    </tr>\n",
       "    <tr>\n",
       "      <th>14</th>\n",
       "      <td>ENST00000274599.9</td>\n",
       "      <td>3268</td>\n",
       "      <td>3089.115</td>\n",
       "      <td>6.242604</td>\n",
       "      <td>178.885</td>\n",
       "    </tr>\n",
       "    <tr>\n",
       "      <th>16</th>\n",
       "      <td>ENST00000264930.9</td>\n",
       "      <td>5280</td>\n",
       "      <td>5101.115</td>\n",
       "      <td>0.010668</td>\n",
       "      <td>178.885</td>\n",
       "    </tr>\n",
       "    <tr>\n",
       "      <th>17</th>\n",
       "      <td>ENST00000458100.6</td>\n",
       "      <td>1962</td>\n",
       "      <td>1783.115</td>\n",
       "      <td>0.045777</td>\n",
       "      <td>178.885</td>\n",
       "    </tr>\n",
       "    <tr>\n",
       "      <th>20</th>\n",
       "      <td>ENST00000508316.2</td>\n",
       "      <td>1912</td>\n",
       "      <td>1733.115</td>\n",
       "      <td>0.613797</td>\n",
       "      <td>178.885</td>\n",
       "    </tr>\n",
       "    <tr>\n",
       "      <th>22</th>\n",
       "      <td>ENST00000264935.5</td>\n",
       "      <td>2434</td>\n",
       "      <td>2255.115</td>\n",
       "      <td>7.251185</td>\n",
       "      <td>178.885</td>\n",
       "    </tr>\n",
       "    <tr>\n",
       "      <th>23</th>\n",
       "      <td>ENST00000256443.7</td>\n",
       "      <td>1439</td>\n",
       "      <td>1260.115</td>\n",
       "      <td>29.127617</td>\n",
       "      <td>178.885</td>\n",
       "    </tr>\n",
       "    <tr>\n",
       "      <th>26</th>\n",
       "      <td>ENST00000503857.5</td>\n",
       "      <td>2138</td>\n",
       "      <td>1959.115</td>\n",
       "      <td>11.471582</td>\n",
       "      <td>178.885</td>\n",
       "    </tr>\n",
       "    <tr>\n",
       "      <th>30</th>\n",
       "      <td>ENST00000289409.8</td>\n",
       "      <td>2535</td>\n",
       "      <td>2356.115</td>\n",
       "      <td>0.369536</td>\n",
       "      <td>178.885</td>\n",
       "    </tr>\n",
       "    <tr>\n",
       "      <th>33</th>\n",
       "      <td>ENST00000264668.6</td>\n",
       "      <td>3274</td>\n",
       "      <td>3095.115</td>\n",
       "      <td>22.082389</td>\n",
       "      <td>178.885</td>\n",
       "    </tr>\n",
       "    <tr>\n",
       "      <th>35</th>\n",
       "      <td>ENST00000511044.1</td>\n",
       "      <td>2674</td>\n",
       "      <td>2495.115</td>\n",
       "      <td>0.054523</td>\n",
       "      <td>178.885</td>\n",
       "    </tr>\n",
       "    <tr>\n",
       "      <th>36</th>\n",
       "      <td>ENST00000503492.5</td>\n",
       "      <td>2373</td>\n",
       "      <td>2194.115</td>\n",
       "      <td>0.012401</td>\n",
       "      <td>178.885</td>\n",
       "    </tr>\n",
       "    <tr>\n",
       "      <th>39</th>\n",
       "      <td>ENST00000514852.1</td>\n",
       "      <td>1386</td>\n",
       "      <td>1207.115</td>\n",
       "      <td>0.135240</td>\n",
       "      <td>178.885</td>\n",
       "    </tr>\n",
       "    <tr>\n",
       "      <th>40</th>\n",
       "      <td>ENST00000380918.7</td>\n",
       "      <td>2433</td>\n",
       "      <td>2254.115</td>\n",
       "      <td>40.038022</td>\n",
       "      <td>178.885</td>\n",
       "    </tr>\n",
       "    <tr>\n",
       "      <th>42</th>\n",
       "      <td>ENST00000311337.10</td>\n",
       "      <td>2273</td>\n",
       "      <td>2094.115</td>\n",
       "      <td>45.110994</td>\n",
       "      <td>178.885</td>\n",
       "    </tr>\n",
       "    <tr>\n",
       "      <th>43</th>\n",
       "      <td>ENST00000604354.1</td>\n",
       "      <td>1066</td>\n",
       "      <td>887.115</td>\n",
       "      <td>52.831682</td>\n",
       "      <td>178.885</td>\n",
       "    </tr>\n",
       "    <tr>\n",
       "      <th>44</th>\n",
       "      <td>ENST00000502001.2</td>\n",
       "      <td>1005</td>\n",
       "      <td>826.115</td>\n",
       "      <td>3.128861</td>\n",
       "      <td>178.885</td>\n",
       "    </tr>\n",
       "    <tr>\n",
       "      <th>45</th>\n",
       "      <td>ENST00000334602.10</td>\n",
       "      <td>3210</td>\n",
       "      <td>3031.115</td>\n",
       "      <td>2.737793</td>\n",
       "      <td>178.885</td>\n",
       "    </tr>\n",
       "    <tr>\n",
       "      <th>47</th>\n",
       "      <td>ENST00000507505.5</td>\n",
       "      <td>1009</td>\n",
       "      <td>830.115</td>\n",
       "      <td>0.693303</td>\n",
       "      <td>178.885</td>\n",
       "    </tr>\n",
       "    <tr>\n",
       "      <th>48</th>\n",
       "      <td>ENST00000255764.3</td>\n",
       "      <td>1141</td>\n",
       "      <td>962.115</td>\n",
       "      <td>24.575138</td>\n",
       "      <td>178.885</td>\n",
       "    </tr>\n",
       "    <tr>\n",
       "      <th>49</th>\n",
       "      <td>ENST00000318469.2</td>\n",
       "      <td>2119</td>\n",
       "      <td>1940.115</td>\n",
       "      <td>0.687182</td>\n",
       "      <td>178.885</td>\n",
       "    </tr>\n",
       "    <tr>\n",
       "      <th>51</th>\n",
       "      <td>ENST00000381403.4</td>\n",
       "      <td>1326</td>\n",
       "      <td>1147.115</td>\n",
       "      <td>29.506426</td>\n",
       "      <td>178.885</td>\n",
       "    </tr>\n",
       "    <tr>\n",
       "      <th>56</th>\n",
       "      <td>ENST00000504656.1</td>\n",
       "      <td>1203</td>\n",
       "      <td>1024.115</td>\n",
       "      <td>20.982749</td>\n",
       "      <td>178.885</td>\n",
       "    </tr>\n",
       "    <tr>\n",
       "      <th>...</th>\n",
       "      <td>...</td>\n",
       "      <td>...</td>\n",
       "      <td>...</td>\n",
       "      <td>...</td>\n",
       "      <td>...</td>\n",
       "    </tr>\n",
       "    <tr>\n",
       "      <th>22486</th>\n",
       "      <td>ENST00000421771.1</td>\n",
       "      <td>1078</td>\n",
       "      <td>899.115</td>\n",
       "      <td>0.302613</td>\n",
       "      <td>178.885</td>\n",
       "    </tr>\n",
       "    <tr>\n",
       "      <th>22487</th>\n",
       "      <td>ENST00000300482.9</td>\n",
       "      <td>5989</td>\n",
       "      <td>5810.115</td>\n",
       "      <td>0.060878</td>\n",
       "      <td>178.885</td>\n",
       "    </tr>\n",
       "    <tr>\n",
       "      <th>22491</th>\n",
       "      <td>ENST00000398499.5</td>\n",
       "      <td>5806</td>\n",
       "      <td>5627.115</td>\n",
       "      <td>4.636989</td>\n",
       "      <td>178.885</td>\n",
       "    </tr>\n",
       "    <tr>\n",
       "      <th>22493</th>\n",
       "      <td>ENST00000400566.5</td>\n",
       "      <td>1888</td>\n",
       "      <td>1709.115</td>\n",
       "      <td>0.254713</td>\n",
       "      <td>178.885</td>\n",
       "    </tr>\n",
       "    <tr>\n",
       "      <th>22494</th>\n",
       "      <td>ENST00000397743.1</td>\n",
       "      <td>1834</td>\n",
       "      <td>1655.115</td>\n",
       "      <td>0.230146</td>\n",
       "      <td>178.885</td>\n",
       "    </tr>\n",
       "    <tr>\n",
       "      <th>22496</th>\n",
       "      <td>ENST00000325223.7</td>\n",
       "      <td>1283</td>\n",
       "      <td>1104.115</td>\n",
       "      <td>4.534263</td>\n",
       "      <td>178.885</td>\n",
       "    </tr>\n",
       "    <tr>\n",
       "      <th>22500</th>\n",
       "      <td>ENST00000389861.7</td>\n",
       "      <td>5031</td>\n",
       "      <td>4852.115</td>\n",
       "      <td>3.443028</td>\n",
       "      <td>178.885</td>\n",
       "    </tr>\n",
       "    <tr>\n",
       "      <th>22501</th>\n",
       "      <td>ENST00000623919.1</td>\n",
       "      <td>1422</td>\n",
       "      <td>1243.115</td>\n",
       "      <td>2.495150</td>\n",
       "      <td>178.885</td>\n",
       "    </tr>\n",
       "    <tr>\n",
       "      <th>22503</th>\n",
       "      <td>ENST00000416067.5</td>\n",
       "      <td>1599</td>\n",
       "      <td>1420.115</td>\n",
       "      <td>12.819705</td>\n",
       "      <td>178.885</td>\n",
       "    </tr>\n",
       "    <tr>\n",
       "      <th>22505</th>\n",
       "      <td>ENST00000349485.9</td>\n",
       "      <td>2871</td>\n",
       "      <td>2692.115</td>\n",
       "      <td>16.564890</td>\n",
       "      <td>178.885</td>\n",
       "    </tr>\n",
       "    <tr>\n",
       "      <th>22507</th>\n",
       "      <td>ENST00000400308.5</td>\n",
       "      <td>1911</td>\n",
       "      <td>1732.115</td>\n",
       "      <td>2.560437</td>\n",
       "      <td>178.885</td>\n",
       "    </tr>\n",
       "    <tr>\n",
       "      <th>22509</th>\n",
       "      <td>ENST00000285681.6</td>\n",
       "      <td>5216</td>\n",
       "      <td>5037.115</td>\n",
       "      <td>13.082643</td>\n",
       "      <td>178.885</td>\n",
       "    </tr>\n",
       "    <tr>\n",
       "      <th>22510</th>\n",
       "      <td>ENST00000399975.7</td>\n",
       "      <td>2960</td>\n",
       "      <td>2781.115</td>\n",
       "      <td>19.243702</td>\n",
       "      <td>178.885</td>\n",
       "    </tr>\n",
       "    <tr>\n",
       "      <th>22512</th>\n",
       "      <td>ENST00000285667.3</td>\n",
       "      <td>3986</td>\n",
       "      <td>3807.115</td>\n",
       "      <td>22.876675</td>\n",
       "      <td>178.885</td>\n",
       "    </tr>\n",
       "    <tr>\n",
       "      <th>22514</th>\n",
       "      <td>ENST00000433951.1</td>\n",
       "      <td>1109</td>\n",
       "      <td>930.115</td>\n",
       "      <td>1.580255</td>\n",
       "      <td>178.885</td>\n",
       "    </tr>\n",
       "    <tr>\n",
       "      <th>22518</th>\n",
       "      <td>ENST00000400362.2</td>\n",
       "      <td>1460</td>\n",
       "      <td>1281.115</td>\n",
       "      <td>8.962466</td>\n",
       "      <td>178.885</td>\n",
       "    </tr>\n",
       "    <tr>\n",
       "      <th>22520</th>\n",
       "      <td>ENST00000487113.1</td>\n",
       "      <td>1009</td>\n",
       "      <td>830.115</td>\n",
       "      <td>0.065553</td>\n",
       "      <td>178.885</td>\n",
       "    </tr>\n",
       "    <tr>\n",
       "      <th>22523</th>\n",
       "      <td>ENST00000445935.5</td>\n",
       "      <td>1931</td>\n",
       "      <td>1752.115</td>\n",
       "      <td>3.447415</td>\n",
       "      <td>178.885</td>\n",
       "    </tr>\n",
       "    <tr>\n",
       "      <th>22524</th>\n",
       "      <td>ENST00000284885.7</td>\n",
       "      <td>3947</td>\n",
       "      <td>3768.115</td>\n",
       "      <td>94.763015</td>\n",
       "      <td>178.885</td>\n",
       "    </tr>\n",
       "    <tr>\n",
       "      <th>22527</th>\n",
       "      <td>ENST00000623095.3</td>\n",
       "      <td>2247</td>\n",
       "      <td>2068.115</td>\n",
       "      <td>9.001535</td>\n",
       "      <td>178.885</td>\n",
       "    </tr>\n",
       "    <tr>\n",
       "      <th>22528</th>\n",
       "      <td>ENST00000338326.4</td>\n",
       "      <td>1974</td>\n",
       "      <td>1795.115</td>\n",
       "      <td>0.454708</td>\n",
       "      <td>178.885</td>\n",
       "    </tr>\n",
       "    <tr>\n",
       "      <th>22530</th>\n",
       "      <td>ENST00000286827.7</td>\n",
       "      <td>7200</td>\n",
       "      <td>7021.115</td>\n",
       "      <td>0.852550</td>\n",
       "      <td>178.885</td>\n",
       "    </tr>\n",
       "    <tr>\n",
       "      <th>22532</th>\n",
       "      <td>ENST00000419628.1</td>\n",
       "      <td>1775</td>\n",
       "      <td>1596.115</td>\n",
       "      <td>2.471764</td>\n",
       "      <td>178.885</td>\n",
       "    </tr>\n",
       "    <tr>\n",
       "      <th>22533</th>\n",
       "      <td>ENST00000398225.7</td>\n",
       "      <td>1963</td>\n",
       "      <td>1784.115</td>\n",
       "      <td>0.015250</td>\n",
       "      <td>178.885</td>\n",
       "    </tr>\n",
       "    <tr>\n",
       "      <th>22535</th>\n",
       "      <td>ENST00000290310.3</td>\n",
       "      <td>1051</td>\n",
       "      <td>872.115</td>\n",
       "      <td>0.187189</td>\n",
       "      <td>178.885</td>\n",
       "    </tr>\n",
       "    <tr>\n",
       "      <th>22541</th>\n",
       "      <td>ENST00000450895.1</td>\n",
       "      <td>1050</td>\n",
       "      <td>871.115</td>\n",
       "      <td>0.031234</td>\n",
       "      <td>178.885</td>\n",
       "    </tr>\n",
       "    <tr>\n",
       "      <th>22544</th>\n",
       "      <td>ENST00000349048.8</td>\n",
       "      <td>2912</td>\n",
       "      <td>2733.115</td>\n",
       "      <td>83.533182</td>\n",
       "      <td>178.885</td>\n",
       "    </tr>\n",
       "    <tr>\n",
       "      <th>22545</th>\n",
       "      <td>ENST00000332131.8</td>\n",
       "      <td>3015</td>\n",
       "      <td>2836.115</td>\n",
       "      <td>5.727350</td>\n",
       "      <td>178.885</td>\n",
       "    </tr>\n",
       "    <tr>\n",
       "      <th>22546</th>\n",
       "      <td>ENST00000332587.8</td>\n",
       "      <td>1476</td>\n",
       "      <td>1297.115</td>\n",
       "      <td>0.020976</td>\n",
       "      <td>178.885</td>\n",
       "    </tr>\n",
       "    <tr>\n",
       "      <th>22547</th>\n",
       "      <td>ENST00000300278.8</td>\n",
       "      <td>7477</td>\n",
       "      <td>7298.115</td>\n",
       "      <td>47.720226</td>\n",
       "      <td>178.885</td>\n",
       "    </tr>\n",
       "  </tbody>\n",
       "</table>\n",
       "<p>10640 rows × 5 columns</p>\n",
       "</div>"
      ],
      "text/plain": [
       "                     Name  Length  EffectiveLength        TPM     Diff\n",
       "0       ENST00000502854.5    1480         1301.115   2.112073  178.885\n",
       "1       ENST00000502634.1    1404         1225.115  30.029835  178.885\n",
       "6       ENST00000521146.1    1258         1079.115   0.025214  178.885\n",
       "8       ENST00000510163.5    2237         2058.115  17.490145  178.885\n",
       "10      ENST00000355943.7    2385         2206.115  26.331339  178.885\n",
       "11      ENST00000313368.7    2334         2155.115  78.590873  178.885\n",
       "12      ENST00000350881.6    3222         3043.115   0.715278  178.885\n",
       "13      ENST00000393792.2    3301         3122.115  18.865535  178.885\n",
       "14      ENST00000274599.9    3268         3089.115   6.242604  178.885\n",
       "16      ENST00000264930.9    5280         5101.115   0.010668  178.885\n",
       "17      ENST00000458100.6    1962         1783.115   0.045777  178.885\n",
       "20      ENST00000508316.2    1912         1733.115   0.613797  178.885\n",
       "22      ENST00000264935.5    2434         2255.115   7.251185  178.885\n",
       "23      ENST00000256443.7    1439         1260.115  29.127617  178.885\n",
       "26      ENST00000503857.5    2138         1959.115  11.471582  178.885\n",
       "30      ENST00000289409.8    2535         2356.115   0.369536  178.885\n",
       "33      ENST00000264668.6    3274         3095.115  22.082389  178.885\n",
       "35      ENST00000511044.1    2674         2495.115   0.054523  178.885\n",
       "36      ENST00000503492.5    2373         2194.115   0.012401  178.885\n",
       "39      ENST00000514852.1    1386         1207.115   0.135240  178.885\n",
       "40      ENST00000380918.7    2433         2254.115  40.038022  178.885\n",
       "42     ENST00000311337.10    2273         2094.115  45.110994  178.885\n",
       "43      ENST00000604354.1    1066          887.115  52.831682  178.885\n",
       "44      ENST00000502001.2    1005          826.115   3.128861  178.885\n",
       "45     ENST00000334602.10    3210         3031.115   2.737793  178.885\n",
       "47      ENST00000507505.5    1009          830.115   0.693303  178.885\n",
       "48      ENST00000255764.3    1141          962.115  24.575138  178.885\n",
       "49      ENST00000318469.2    2119         1940.115   0.687182  178.885\n",
       "51      ENST00000381403.4    1326         1147.115  29.506426  178.885\n",
       "56      ENST00000504656.1    1203         1024.115  20.982749  178.885\n",
       "...                   ...     ...              ...        ...      ...\n",
       "22486   ENST00000421771.1    1078          899.115   0.302613  178.885\n",
       "22487   ENST00000300482.9    5989         5810.115   0.060878  178.885\n",
       "22491   ENST00000398499.5    5806         5627.115   4.636989  178.885\n",
       "22493   ENST00000400566.5    1888         1709.115   0.254713  178.885\n",
       "22494   ENST00000397743.1    1834         1655.115   0.230146  178.885\n",
       "22496   ENST00000325223.7    1283         1104.115   4.534263  178.885\n",
       "22500   ENST00000389861.7    5031         4852.115   3.443028  178.885\n",
       "22501   ENST00000623919.1    1422         1243.115   2.495150  178.885\n",
       "22503   ENST00000416067.5    1599         1420.115  12.819705  178.885\n",
       "22505   ENST00000349485.9    2871         2692.115  16.564890  178.885\n",
       "22507   ENST00000400308.5    1911         1732.115   2.560437  178.885\n",
       "22509   ENST00000285681.6    5216         5037.115  13.082643  178.885\n",
       "22510   ENST00000399975.7    2960         2781.115  19.243702  178.885\n",
       "22512   ENST00000285667.3    3986         3807.115  22.876675  178.885\n",
       "22514   ENST00000433951.1    1109          930.115   1.580255  178.885\n",
       "22518   ENST00000400362.2    1460         1281.115   8.962466  178.885\n",
       "22520   ENST00000487113.1    1009          830.115   0.065553  178.885\n",
       "22523   ENST00000445935.5    1931         1752.115   3.447415  178.885\n",
       "22524   ENST00000284885.7    3947         3768.115  94.763015  178.885\n",
       "22527   ENST00000623095.3    2247         2068.115   9.001535  178.885\n",
       "22528   ENST00000338326.4    1974         1795.115   0.454708  178.885\n",
       "22530   ENST00000286827.7    7200         7021.115   0.852550  178.885\n",
       "22532   ENST00000419628.1    1775         1596.115   2.471764  178.885\n",
       "22533   ENST00000398225.7    1963         1784.115   0.015250  178.885\n",
       "22535   ENST00000290310.3    1051          872.115   0.187189  178.885\n",
       "22541   ENST00000450895.1    1050          871.115   0.031234  178.885\n",
       "22544   ENST00000349048.8    2912         2733.115  83.533182  178.885\n",
       "22545   ENST00000332131.8    3015         2836.115   5.727350  178.885\n",
       "22546   ENST00000332587.8    1476         1297.115   0.020976  178.885\n",
       "22547   ENST00000300278.8    7477         7298.115  47.720226  178.885\n",
       "\n",
       "[10640 rows x 5 columns]"
      ]
     },
     "execution_count": 937,
     "metadata": {},
     "output_type": "execute_result"
    }
   ],
   "source": [
    "df_eff_length_salmon.loc[(df_eff_length_salmon.TPM > 0) & (df_eff_length_salmon.Length > 1000)]"
   ]
  },
  {
   "cell_type": "code",
   "execution_count": 563,
   "metadata": {},
   "outputs": [
    {
     "data": {
      "text/plain": [
       "8953"
      ]
     },
     "execution_count": 563,
     "metadata": {},
     "output_type": "execute_result"
    }
   ],
   "source": [
    "len(df_eff_length_salmon.loc[df_eff_length_salmon.Diff < 200.0])"
   ]
  },
  {
   "cell_type": "code",
   "execution_count": 571,
   "metadata": {},
   "outputs": [
    {
     "data": {
      "text/plain": [
       "186674"
      ]
     },
     "execution_count": 571,
     "metadata": {},
     "output_type": "execute_result"
    }
   ],
   "source": [
    "len(df_eff_length_salmon.loc[(df_eff_length_salmon.Diff > 246.0) &\\\n",
    "                             (df_eff_length_salmon.Diff < 250.0)])"
   ]
  },
  {
   "cell_type": "code",
   "execution_count": 562,
   "metadata": {},
   "outputs": [
    {
     "data": {
      "text/plain": [
       "<matplotlib.collections.PathCollection at 0x7fa36e699c10>"
      ]
     },
     "execution_count": 562,
     "metadata": {},
     "output_type": "execute_result"
    },
    {
     "data": {
      "image/png": "[encoded data removed]",
      "text/plain": [
       "<Figure size 432x288 with 1 Axes>"
      ]
     },
     "metadata": {},
     "output_type": "display_data"
    }
   ],
   "source": [
    "plt.scatter(np.log(df_eff_length_salmon.loc[df_eff_length_salmon.TPM > 0.0].TPM+1) ,\\\n",
    "            df_eff_length_salmon.loc[df_eff_length_salmon.TPM > 0.0].Diff,alpha=0.5)"
   ]
  },
  {
   "cell_type": "code",
   "execution_count": 543,
   "metadata": {},
   "outputs": [
    {
     "data": {
      "text/plain": [
       "241.9730941661968"
      ]
     },
     "execution_count": 543,
     "metadata": {},
     "output_type": "execute_result"
    }
   ],
   "source": [
    "df_eff_length_salmon.Diff.mean()"
   ]
  },
  {
   "cell_type": "code",
   "execution_count": 532,
   "metadata": {},
   "outputs": [
    {
     "data": {
      "text/plain": [
       "1415.9532147773314"
      ]
     },
     "execution_count": 532,
     "metadata": {},
     "output_type": "execute_result"
    }
   ],
   "source": [
    "df_eff_length_salmon.loc[(df_eff_length_salmon.TPM == 0.0) & \\\n",
    "                         (df_eff_length_salmon.Length - df_eff_length_salmon.EffectiveLength > 0)].Length.mean()"
   ]
  },
  {
   "cell_type": "code",
   "execution_count": 545,
   "metadata": {},
   "outputs": [],
   "source": [
    "df_eff_length_cut = pd.read_table(\"/mnt/scratch7/hirak/bleed_through_7/poly_reads_salmon\\\n",
    "/quant/reads_98/salmon_out/eff_cut/quant.sf\",\n",
    "                                   usecols=['Name','EffectiveLength','Length','TPM'])\n",
    "df_eff_length_cut['Diff'] = df_eff_length_cut.Length - df_eff_length_cut.EffectiveLength"
   ]
  },
  {
   "cell_type": "code",
   "execution_count": 546,
   "metadata": {},
   "outputs": [
    {
     "data": {
      "text/plain": [
       "235.9489271710221"
      ]
     },
     "execution_count": 546,
     "metadata": {},
     "output_type": "execute_result"
    }
   ],
   "source": [
    "df_eff_length_cut.Diff.mean()"
   ]
  },
  {
   "cell_type": "code",
   "execution_count": 398,
   "metadata": {},
   "outputs": [],
   "source": [
    "fs = prepareFileInfo(\"no_option\")"
   ]
  },
  {
   "cell_type": "code",
   "execution_count": 399,
   "metadata": {},
   "outputs": [],
   "source": [
    "fd  = mergeHeraKallisto('reads_85',fs)"
   ]
  },
  {
   "cell_type": "code",
   "execution_count": 407,
   "metadata": {},
   "outputs": [
    {
     "data": {
      "text/plain": [
       "0.8433905395026604"
      ]
     },
     "execution_count": 407,
     "metadata": {},
     "output_type": "execute_result"
    }
   ],
   "source": [
    "fd[\"count\"].corr(fd[\"NumReads_KAL\"],method=\"spearman\")"
   ]
  },
  {
   "cell_type": "code",
   "execution_count": 489,
   "metadata": {},
   "outputs": [
    {
     "name": "stdout",
     "output_type": "stream",
     "text": [
      "no_option\n",
      "vb_opt\n",
      "no_eff\n",
      "no_eff_vb\n"
     ]
    }
   ],
   "source": [
    "salmon_types = ['no_option','vb_opt','no_eff','no_eff_vb']\n",
    "#salmon_types = ['no_option']\n",
    "dataframe_dict = {}\n",
    "for salmon_type in salmon_types:\n",
    "    print(salmon_type)\n",
    "    files = prepareFileInfo(salmon_type)\n",
    "    #result_df.append(getDataframe(files),ignore_index=True)\n",
    "    result_df = getDataframe(files)\n",
    "    dataframe_dict[salmon_type] = result_df\n",
    "    #print(\"kallisto\\thera\\tSLA\\tBT\")\n",
    "    #print (\"{0:.4f}\\t{0:.4f}\\t{0:.4f}\\t{0:.4f}\".format(result_df['kallisto'].mean(),\\\n",
    "    #                 result_df['hera'].mean(),result_df['SLA'].mean(),result_df['BT'].mean()))"
   ]
  },
  {
   "cell_type": "code",
   "execution_count": 490,
   "metadata": {},
   "outputs": [
    {
     "data": {
      "text/plain": [
       "'\\nfor salmon_type in salmon_types:\\n    print salmon_type\\n    result_df = dataframe_dict[salmon_type]\\n    print(\"Agg\\tkallisto\\thera\\tSLA\\tBT\")\\n    #print result_df\\n    print (\"Mean\\t{0:.4f}\\t\\t{1:.4f}\\t{2:.4f}\\t{3:.4f}\".format(result_df[\\'kallisto\\'].mean(),                     result_df[\\'hera\\'].mean(),result_df[\\'SLA\\'].mean(),result_df[\\'BT\\'].mean()))\\n    print (\"SE\\t{0:.4f}\\t\\t{1:.4f}\\t{2:.4f}\\t{3:.4f}\".format(result_df[\\'kallisto\\'].sem(),                     result_df[\\'hera\\'].sem(),result_df[\\'SLA\\'].sem(),result_df[\\'BT\\'].sem()))\\n    print (\"Median\\t{0:.4f}\\t\\t{1:.4f}\\t{2:.4f}\\t{3:.4f}\".format(result_df[\\'kallisto\\'].median(),                     result_df[\\'hera\\'].median(),result_df[\\'SLA\\'].median(),result_df[\\'BT\\'].median()))\\n'"
      ]
     },
     "execution_count": 490,
     "metadata": {},
     "output_type": "execute_result"
    }
   ],
   "source": [
    "'''\n",
    "for salmon_type in salmon_types:\n",
    "    print salmon_type\n",
    "    result_df = dataframe_dict[salmon_type]\n",
    "    print(\"Agg\\tkallisto\\thera\\tSLA\\tBT\")\n",
    "    #print result_df\n",
    "    print (\"Mean\\t{0:.4f}\\t\\t{1:.4f}\\t{2:.4f}\\t{3:.4f}\".format(result_df['kallisto'].mean(),\\\n",
    "                     result_df['hera'].mean(),result_df['SLA'].mean(),result_df['BT'].mean()))\n",
    "    print (\"SE\\t{0:.4f}\\t\\t{1:.4f}\\t{2:.4f}\\t{3:.4f}\".format(result_df['kallisto'].sem(),\\\n",
    "                     result_df['hera'].sem(),result_df['SLA'].sem(),result_df['BT'].sem()))\n",
    "    print (\"Median\\t{0:.4f}\\t\\t{1:.4f}\\t{2:.4f}\\t{3:.4f}\".format(result_df['kallisto'].median(),\\\n",
    "                     result_df['hera'].median(),result_df['SLA'].median(),result_df['BT'].median()))\n",
    "'''"
   ]
  },
  {
   "cell_type": "code",
   "execution_count": 491,
   "metadata": {},
   "outputs": [
    {
     "name": "stdout",
     "output_type": "stream",
     "text": [
      "no_option\n",
      "Agg\tkallisto\thera\tSLA\n",
      "Mean\t0.8510\t\t0.8273\t0.8837\n",
      "SE\t0.0010\t\t0.0119\t0.0008\n",
      "Median\t0.8510\t\t0.8132\t0.8839\n",
      "vb_opt\n",
      "Agg\tkallisto\thera\tSLA\n",
      "Mean\t0.8510\t\t0.8273\t0.9035\n",
      "SE\t0.0010\t\t0.0119\t0.0004\n",
      "Median\t0.8510\t\t0.8132\t0.9034\n",
      "no_eff\n",
      "Agg\tkallisto\thera\tSLA\n",
      "Mean\t0.8510\t\t0.8273\t0.9143\n",
      "SE\t0.0010\t\t0.0119\t0.0006\n",
      "Median\t0.8510\t\t0.8132\t0.9143\n",
      "no_eff_vb\n",
      "Agg\tkallisto\thera\tSLA\n",
      "Mean\t0.8510\t\t0.8273\t0.9048\n",
      "SE\t0.0010\t\t0.0119\t0.0004\n",
      "Median\t0.8510\t\t0.8132\t0.9046\n"
     ]
    }
   ],
   "source": [
    "for salmon_type in salmon_types:\n",
    "    print salmon_type\n",
    "    result_df = dataframe_dict[salmon_type]\n",
    "    print(\"Agg\\tkallisto\\thera\\tSLA\")\n",
    "    #print result_df\n",
    "    print (\"Mean\\t{0:.4f}\\t\\t{1:.4f}\\t{2:.4f}\".format(result_df['kallisto'].mean(),\\\n",
    "                     result_df['hera'].mean(),result_df['SLA'].mean()))\n",
    "    print (\"SE\\t{0:.4f}\\t\\t{1:.4f}\\t{2:.4f}\".format(result_df['kallisto'].sem(),\\\n",
    "                     result_df['hera'].sem(),result_df['SLA'].sem()))\n",
    "    print (\"Median\\t{0:.4f}\\t\\t{1:.4f}\\t{2:.4f}\".format(result_df['kallisto'].median(),\\\n",
    "                     result_df['hera'].median(),result_df['SLA'].median()))"
   ]
  },
  {
   "cell_type": "code",
   "execution_count": 492,
   "metadata": {},
   "outputs": [
    {
     "name": "stdout",
     "output_type": "stream",
     "text": [
      "no_option\n",
      "       kallisto       SLA      hera\n",
      "count  5.000000  5.000000  5.000000\n",
      "mean   0.850961  0.883745  0.827261\n",
      "std    0.002144  0.001772  0.026504\n",
      "min    0.847678  0.881043  0.801731\n",
      "25%    0.850943  0.883793  0.809491\n",
      "50%    0.850995  0.883919  0.813214\n",
      "75%    0.851528  0.883946  0.855343\n",
      "max    0.853658  0.886022  0.856524\n",
      "vb_opt\n",
      "       kallisto       SLA      hera\n",
      "count  5.000000  5.000000  5.000000\n",
      "mean   0.850961  0.903521  0.827261\n",
      "std    0.002144  0.000951  0.026504\n",
      "min    0.847678  0.902391  0.801731\n",
      "25%    0.850943  0.902972  0.809491\n",
      "50%    0.850995  0.903408  0.813214\n",
      "75%    0.851528  0.903961  0.855343\n",
      "max    0.853658  0.904874  0.856524\n",
      "no_eff\n",
      "       kallisto       SLA      hera\n",
      "count  5.000000  5.000000  5.000000\n",
      "mean   0.850961  0.914313  0.827261\n",
      "std    0.002144  0.001325  0.026504\n",
      "min    0.847678  0.912672  0.801731\n",
      "25%    0.850943  0.913813  0.809491\n",
      "50%    0.850995  0.914312  0.813214\n",
      "75%    0.851528  0.914438  0.855343\n",
      "max    0.853658  0.916330  0.856524\n",
      "no_eff_vb\n",
      "       kallisto       SLA      hera\n",
      "count  5.000000  5.000000  5.000000\n",
      "mean   0.850961  0.904786  0.827261\n",
      "std    0.002144  0.000995  0.026504\n",
      "min    0.847678  0.903990  0.801731\n",
      "25%    0.850943  0.904180  0.809491\n",
      "50%    0.850995  0.904606  0.813214\n",
      "75%    0.851528  0.904664  0.855343\n",
      "max    0.853658  0.906492  0.856524\n"
     ]
    }
   ],
   "source": [
    "for salmon_type in salmon_types:\n",
    "    print salmon_type\n",
    "    result_df = dataframe_dict[salmon_type]\n",
    "    #print(\"Agg\\tkallisto\\thera\\tSLA\\tBT\")\n",
    "    #print result_df\n",
    "    print result_df.describe()"
   ]
  },
  {
   "cell_type": "code",
   "execution_count": 487,
   "metadata": {},
   "outputs": [
    {
     "name": "stdout",
     "output_type": "stream",
     "text": [
      "0.8387\n"
     ]
    }
   ],
   "source": [
    "print(\"{0:.4f}\".format(dataframe_dict['vb_opt']['hera'].mean()))"
   ]
  },
  {
   "cell_type": "code",
   "execution_count": 488,
   "metadata": {
    "scrolled": true
   },
   "outputs": [
    {
     "data": {
      "text/plain": [
       "<matplotlib.axes._subplots.AxesSubplot at 0x7fa36d4a1ad0>"
      ]
     },
     "execution_count": 488,
     "metadata": {},
     "output_type": "execute_result"
    },
    {
     "data": {
      "image/png": "[encoded data removed]",
      "text/plain": [
       "<Figure size 432x288 with 1 Axes>"
      ]
     },
     "metadata": {},
     "output_type": "display_data"
    }
   ],
   "source": [
    "sns.set_style(\"white\")\n",
    "fig = plt.figure()\n",
    "ax = fig.add_subplot(111)\n",
    "result_df.plot(marker='o',rot=60,ax=ax)\n",
    "#ax.set_xticks(result_df.index)"
   ]
  },
  {
   "cell_type": "code",
   "execution_count": 180,
   "metadata": {},
   "outputs": [],
   "source": [
    "prefix = \"/mnt/scratch1/bleed_through_human/poly_reads/quant\"\n",
    "#types = [\"reads_101\"]\n",
    "files_rsem = {}\n",
    "for t in types:\n",
    "    fileinfo = {}\n",
    "    #fileinfo[\"truth\"]= \"/mnt/scratch1/bleed_through_human/bleed_through_200K/rsem_exp/model.isoforms.results\"\n",
    "    fileinfo[\"truth\"]= \"/\".join([prefix,t,\"truth.tsv\"])\n",
    "    fileinfo[\"SLA\"] =  \"/\".join([prefix,t,\"salmon_out\",\"quant.sf\"])\n",
    "    fileinfo[\"kallisto\"] = \"/\".join([prefix,t,\"kallisto_out\",\"abundance.tsv\"])\n",
    "    #fileinfo[\"bowtie\"] = \"/\".join([prefix,t,\"quant\",\"bowtie_out\",\"quant.sf\"])\n",
    "    fileinfo[\"hera_mod\"] = \"/\".join([\"/home/rob/our_hera/hera-master\",t,\"abundance.tsv\"])\n",
    "    fileinfo[\"hera\"] = \"/\".join([prefix,t,\"hera_out\",\"abundance.tsv\"])\n",
    "    files_rsem[t] = fileinfo"
   ]
  },
  {
   "cell_type": "code",
   "execution_count": 181,
   "metadata": {},
   "outputs": [],
   "source": [
    "result_rsem_df = pd.DataFrame(columns=['sample','kallisto', 'SLA', 'hera','hera_mod'])\n",
    "for i,t in enumerate(types):\n",
    "    df, truth, sla,kallisto,hera = getMergedDataFrameFast(t,files_rsem)\n",
    "    kal=df[\"count\"].corr(df[\"NumReads_KAL\"],method=\"spearman\")\n",
    "    sla=df[\"count\"].corr(df[\"NumReads\"],method=\"spearman\")\n",
    "    hera_mod=df[\"count\"].corr(df[\"NumReads_hera_mod\"],method=\"spearman\")\n",
    "    hera=df[\"count\"].corr(df[\"NumReads_hera\"],method=\"spearman\")\n",
    "    result_rsem_df.loc[i] = [t,kal,sla,hera,hera_mod]\n",
    "    #print(\"sample name: {}\".format(t))\n",
    "    #print(\"kallisto\",df[\"count\"].corr(df[\"NumReads_KAL\"],method=\"spearman\"))\n",
    "    #print(\"SLA\",df[\"count\"].corr(df[\"NumReads\"],method=\"spearman\"))\n",
    "    #print(\"BowTie2\",df_30[\"count\"].corr(df_30[\"NumReads_BT\"],method=\"spearman\"))\n",
    "    #print(\"hera\",df[\"count\"].corr(df[\"NumReads_hera\"],method=\"spearman\"))"
   ]
  },
  {
   "cell_type": "code",
   "execution_count": 888,
   "metadata": {},
   "outputs": [],
   "source": [
    "df_eff_length_truth = pd.read_table(\"/mnt/scratch1/bleed_through_human/read_31415926/sim.sim.isoforms.results\",\n",
    "                                   usecols=['transcript_id','effective_length','count'])\n",
    "df_eff_length_salmon = pd.read_table(\"/mnt/scratch1/bleed_through_human/read_31415926/quant/salmon_rsem_out/quant.sf\",\n",
    "                                   usecols=['Name','EffectiveLength','Length','TPM','NumReads'])\n",
    "df_eff_length_hera = pd.read_table(\"/mnt/scratch1/bleed_through_human/read_31415926/quant/hera_out/abundance.tsv\",\n",
    "                                   usecols=['#target_id','eff_length','est_counts'])\n",
    "df_eff_length_hera[\"#target_id\"]= df_eff_length_hera[\"#target_id\"].str.split(\":\",expand=True)[0]\n",
    "\n",
    "df_eff_length_hera.set_index(\"#target_id\",inplace=True)\n",
    "\n",
    "df_eff_length_truth.set_index(\"transcript_id\",inplace=True)\n",
    "df_eff_length_salmon.set_index(\"Name\",inplace=True)"
   ]
  },
  {
   "cell_type": "code",
   "execution_count": 889,
   "metadata": {},
   "outputs": [],
   "source": [
    "df_eff = df_eff_length_truth.join(df_eff_length_salmon,how='right').fillna(0)\n",
    "df_eff = df_eff.join(df_eff_length_hera,how='left')"
   ]
  },
  {
   "cell_type": "code",
   "execution_count": 890,
   "metadata": {},
   "outputs": [
    {
     "data": {
      "text/plain": [
       "(21838, 146890, 146890)"
      ]
     },
     "execution_count": 890,
     "metadata": {},
     "output_type": "execute_result"
    }
   ],
   "source": [
    "len(df_eff_length_truth), len(df_eff_length_salmon),len(df_eff)"
   ]
  },
  {
   "cell_type": "code",
   "execution_count": 891,
   "metadata": {},
   "outputs": [],
   "source": [
    "df_tmp = df_eff.loc[(df_eff.Length < 1000) & (df_eff['count'] > 0)]"
   ]
  },
  {
   "cell_type": "code",
   "execution_count": 892,
   "metadata": {},
   "outputs": [],
   "source": [
    "ind_48 = df_tmp.loc[(abs(df_tmp[\"eff_length\"] -  df_tmp[\"EffectiveLength\"]) > 0)].index"
   ]
  },
  {
   "cell_type": "code",
   "execution_count": 893,
   "metadata": {},
   "outputs": [
    {
     "data": {
      "text/plain": [
       "12451"
      ]
     },
     "execution_count": 893,
     "metadata": {},
     "output_type": "execute_result"
    }
   ],
   "source": [
    "sum(df_eff['count'] > 0)"
   ]
  },
  {
   "cell_type": "code",
   "execution_count": 894,
   "metadata": {},
   "outputs": [],
   "source": [
    "#df_eff_length_truth.loc[df_eff_length_truth.index.isin(ind_48)]"
   ]
  },
  {
   "cell_type": "code",
   "execution_count": 895,
   "metadata": {},
   "outputs": [
    {
     "data": {
      "text/plain": [
       "0.8206307054113883"
      ]
     },
     "execution_count": 895,
     "metadata": {},
     "output_type": "execute_result"
    }
   ],
   "source": [
    "df_eff['count'].corr(df_eff['NumReads'],method=\"spearman\")"
   ]
  },
  {
   "cell_type": "code",
   "execution_count": 896,
   "metadata": {},
   "outputs": [],
   "source": [
    "laraib = df_eff.loc[np.abs(df_eff['effective_length'] - df_eff['EffectiveLength']) / np.abs(df_eff['effective_length'] + df_eff['EffectiveLength']) > 0.0, :]"
   ]
  },
  {
   "cell_type": "code",
   "execution_count": 887,
   "metadata": {},
   "outputs": [
    {
     "data": {
      "text/plain": [
       "<matplotlib.colorbar.Colorbar at 0x7fa34be103d0>"
      ]
     },
     "execution_count": 887,
     "metadata": {},
     "output_type": "execute_result"
    },
    {
     "data": {
      "image/png": "[encoded data removed]",
      "text/plain": [
       "<Figure size 432x288 with 2 Axes>"
      ]
     },
     "metadata": {},
     "output_type": "display_data"
    }
   ],
   "source": [
    "from matplotlib import cm\n",
    "plt.scatter(np.abs(laraib['count'] - laraib['NumReads']) / (np.abs(laraib['count'] + laraib['NumReads'])), \\\n",
    "            np.log(laraib.Length), cmap=cm.coolwarm, c=np.abs(laraib['effective_length'] - laraib['EffectiveLength']) / np.abs(laraib['effective_length'] + laraib['EffectiveLength']),alpha=0.15)\n",
    "plt.colorbar()"
   ]
  },
  {
   "cell_type": "code",
   "execution_count": 897,
   "metadata": {},
   "outputs": [
    {
     "data": {
      "text/plain": [
       "0.8510439865595324"
      ]
     },
     "execution_count": 897,
     "metadata": {},
     "output_type": "execute_result"
    }
   ],
   "source": [
    "df_eff['count'].corr(df_eff['est_counts'],method=\"spearman\")"
   ]
  },
  {
   "cell_type": "code",
   "execution_count": 783,
   "metadata": {},
   "outputs": [],
   "source": [
    "df_eff.loc[ind_48,'NumReads'] = df_eff.loc[ind_48,'count']"
   ]
  },
  {
   "cell_type": "code",
   "execution_count": 784,
   "metadata": {},
   "outputs": [
    {
     "data": {
      "text/plain": [
       "0.8619939455324438"
      ]
     },
     "execution_count": 784,
     "metadata": {},
     "output_type": "execute_result"
    }
   ],
   "source": [
    "df_eff['count'].corr(df_eff['NumReads'],method=\"spearman\")"
   ]
  },
  {
   "cell_type": "code",
   "execution_count": 630,
   "metadata": {},
   "outputs": [
    {
     "data": {
      "text/plain": [
       "21838"
      ]
     },
     "execution_count": 630,
     "metadata": {},
     "output_type": "execute_result"
    }
   ],
   "source": [
    "len(df_eff)"
   ]
  },
  {
   "cell_type": "code",
   "execution_count": 602,
   "metadata": {},
   "outputs": [
    {
     "data": {
      "text/plain": [
       "(array([13.,  4., 12.,  5., 10.,  0.,  1.,  2.,  0.,  1.]),\n",
       " array([ 9.123594, 10.823594, 12.523594, 14.223594, 15.923594, 17.623594,\n",
       "        19.323594, 21.023594, 22.723594, 24.423594, 26.123594]),\n",
       " <a list of 10 Patch objects>)"
      ]
     },
     "execution_count": 602,
     "metadata": {},
     "output_type": "execute_result"
    },
    {
     "data": {
      "image/png": "[encoded data removed]",
      "text/plain": [
       "<Figure size 432x288 with 1 Axes>"
      ]
     },
     "metadata": {},
     "output_type": "display_data"
    }
   ],
   "source": [
    "plt.hist(abs(df_tmp_2[\"eff_length\"] -  df_tmp_2[\"EffectiveLength\"]), bins = 10)"
   ]
  },
  {
   "cell_type": "code",
   "execution_count": 469,
   "metadata": {},
   "outputs": [
    {
     "data": {
      "text/html": [
       "<div>\n",
       "<table border=\"1\" class=\"dataframe\">\n",
       "  <thead>\n",
       "    <tr style=\"text-align: right;\">\n",
       "      <th></th>\n",
       "      <th>effective_length</th>\n",
       "      <th>count</th>\n",
       "      <th>Length</th>\n",
       "      <th>EffectiveLength</th>\n",
       "      <th>TPM</th>\n",
       "      <th>eff_length</th>\n",
       "    </tr>\n",
       "    <tr>\n",
       "      <th>transcript_id</th>\n",
       "      <th></th>\n",
       "      <th></th>\n",
       "      <th></th>\n",
       "      <th></th>\n",
       "      <th></th>\n",
       "      <th></th>\n",
       "    </tr>\n",
       "  </thead>\n",
       "  <tbody>\n",
       "    <tr>\n",
       "      <th>ENST00000001146.6</th>\n",
       "      <td>4550.63</td>\n",
       "      <td>0.0</td>\n",
       "      <td>4732</td>\n",
       "      <td>4550.713</td>\n",
       "      <td>0.000000</td>\n",
       "      <td>4549.836594</td>\n",
       "    </tr>\n",
       "    <tr>\n",
       "      <th>ENST00000003084.10</th>\n",
       "      <td>5950.63</td>\n",
       "      <td>2.0</td>\n",
       "      <td>6132</td>\n",
       "      <td>5950.713</td>\n",
       "      <td>0.030887</td>\n",
       "      <td>5949.836594</td>\n",
       "    </tr>\n",
       "    <tr>\n",
       "      <th>ENST00000004531.14</th>\n",
       "      <td>7378.63</td>\n",
       "      <td>2.0</td>\n",
       "      <td>7560</td>\n",
       "      <td>7378.713</td>\n",
       "      <td>0.006101</td>\n",
       "      <td>7377.836594</td>\n",
       "    </tr>\n",
       "    <tr>\n",
       "      <th>ENST00000004982.5</th>\n",
       "      <td>1275.63</td>\n",
       "      <td>19.0</td>\n",
       "      <td>1457</td>\n",
       "      <td>1275.713</td>\n",
       "      <td>1.368743</td>\n",
       "      <td>1274.836594</td>\n",
       "    </tr>\n",
       "    <tr>\n",
       "      <th>ENST00000005178.5</th>\n",
       "      <td>3394.63</td>\n",
       "      <td>1.0</td>\n",
       "      <td>3576</td>\n",
       "      <td>3394.713</td>\n",
       "      <td>0.027072</td>\n",
       "      <td>3393.836594</td>\n",
       "    </tr>\n",
       "  </tbody>\n",
       "</table>\n",
       "</div>"
      ],
      "text/plain": [
       "                    effective_length  count  Length  EffectiveLength  \\\n",
       "transcript_id                                                          \n",
       "ENST00000001146.6            4550.63    0.0    4732         4550.713   \n",
       "ENST00000003084.10           5950.63    2.0    6132         5950.713   \n",
       "ENST00000004531.14           7378.63    2.0    7560         7378.713   \n",
       "ENST00000004982.5            1275.63   19.0    1457         1275.713   \n",
       "ENST00000005178.5            3394.63    1.0    3576         3394.713   \n",
       "\n",
       "                         TPM   eff_length  \n",
       "transcript_id                              \n",
       "ENST00000001146.6   0.000000  4549.836594  \n",
       "ENST00000003084.10  0.030887  5949.836594  \n",
       "ENST00000004531.14  0.006101  7377.836594  \n",
       "ENST00000004982.5   1.368743  1274.836594  \n",
       "ENST00000005178.5   0.027072  3393.836594  "
      ]
     },
     "execution_count": 469,
     "metadata": {},
     "output_type": "execute_result"
    }
   ],
   "source": [
    "df_eff.head()"
   ]
  },
  {
   "cell_type": "code",
   "execution_count": 453,
   "metadata": {},
   "outputs": [
    {
     "data": {
      "text/html": [
       "<div>\n",
       "<table border=\"1\" class=\"dataframe\">\n",
       "  <thead>\n",
       "    <tr style=\"text-align: right;\">\n",
       "      <th></th>\n",
       "      <th>effective_length</th>\n",
       "      <th>Length</th>\n",
       "      <th>EffectiveLength</th>\n",
       "      <th>TPM</th>\n",
       "    </tr>\n",
       "    <tr>\n",
       "      <th>transcript_id</th>\n",
       "      <th></th>\n",
       "      <th></th>\n",
       "      <th></th>\n",
       "      <th></th>\n",
       "    </tr>\n",
       "  </thead>\n",
       "  <tbody>\n",
       "  </tbody>\n",
       "</table>\n",
       "</div>"
      ],
      "text/plain": [
       "Empty DataFrame\n",
       "Columns: [effective_length, Length, EffectiveLength, TPM]\n",
       "Index: []"
      ]
     },
     "execution_count": 453,
     "metadata": {},
     "output_type": "execute_result"
    }
   ],
   "source": [
    "df_eff.loc[(df_eff['effective_length'] == 0) & (df_eff['TPM'] != 0)]"
   ]
  },
  {
   "cell_type": "code",
   "execution_count": 470,
   "metadata": {},
   "outputs": [],
   "source": [
    "df_eff_filt = df_eff.loc[df_eff['count'] > 0, :]"
   ]
  },
  {
   "cell_type": "code",
   "execution_count": 475,
   "metadata": {},
   "outputs": [
    {
     "data": {
      "text/plain": [
       "<matplotlib.collections.PathCollection at 0x7fa36cddf690>"
      ]
     },
     "execution_count": 475,
     "metadata": {},
     "output_type": "execute_result"
    },
    {
     "data": {
      "image/png": "[encoded data removed]",
      "text/plain": [
       "<Figure size 432x288 with 1 Axes>"
      ]
     },
     "metadata": {},
     "output_type": "display_data"
    }
   ],
   "source": [
    "plt.scatter(np.log(df_eff_filt['effective_length']),df_eff_filt['EffectiveLength']/df_eff_filt['effective_length'],alpha=0.4)"
   ]
  },
  {
   "cell_type": "code",
   "execution_count": 463,
   "metadata": {},
   "outputs": [
    {
     "data": {
      "text/plain": [
       "<matplotlib.collections.PathCollection at 0x7fa36aa555d0>"
      ]
     },
     "execution_count": 463,
     "metadata": {},
     "output_type": "execute_result"
    },
    {
     "data": {
      "image/png": "[encoded data removed]",
      "text/plain": [
       "<Figure size 432x288 with 1 Axes>"
      ]
     },
     "metadata": {},
     "output_type": "display_data"
    }
   ],
   "source": [
    "plt.scatter(np.log(df_eff['effective_length']+1),np.log(df_eff['eff_length']+1),alpha=0.4)"
   ]
  },
  {
   "cell_type": "code",
   "execution_count": 477,
   "metadata": {},
   "outputs": [
    {
     "data": {
      "text/plain": [
       "<matplotlib.collections.PathCollection at 0x7fa36d4a1350>"
      ]
     },
     "execution_count": 477,
     "metadata": {},
     "output_type": "execute_result"
    },
    {
     "data": {
      "image/png": "[encoded data removed]",
      "text/plain": [
       "<Figure size 432x288 with 1 Axes>"
      ]
     },
     "metadata": {},
     "output_type": "display_data"
    }
   ],
   "source": [
    "plt.scatter(np.log(df_eff_filt['effective_length']),df_eff_filt['Length']/df_eff_filt['effective_length'])"
   ]
  },
  {
   "cell_type": "code",
   "execution_count": 182,
   "metadata": {},
   "outputs": [],
   "source": [
    "result_rsem_df.set_index(['sample'],inplace=True)"
   ]
  },
  {
   "cell_type": "code",
   "execution_count": 183,
   "metadata": {},
   "outputs": [
    {
     "data": {
      "text/plain": [
       "<matplotlib.axes._subplots.AxesSubplot at 0x7fa3ba796790>"
      ]
     },
     "execution_count": 183,
     "metadata": {},
     "output_type": "execute_result"
    },
    {
     "data": {
      "image/png": "[encoded data removed]",
      "text/plain": [
       "<Figure size 432x288 with 1 Axes>"
      ]
     },
     "metadata": {},
     "output_type": "display_data"
    }
   ],
   "source": [
    "result_rsem_df.plot()"
   ]
  },
  {
   "cell_type": "code",
   "execution_count": 308,
   "metadata": {},
   "outputs": [],
   "source": [
    "prefix = \"/mnt/scratch1/bleed_through_human\"\n",
    "#types_of = [\"read_31415926\"]\n",
    "#prefix = \"/mnt/scratch6/hirak/SLA_benchmark/bleed_through_human/\"\n",
    "#types_of = [\"read_11563\" , \"read_26368\" , \"read_9636\"]\n",
    "types_of = [\"read_31415926\"]\n",
    "files_rsem = {}\n",
    "for t in types_of:\n",
    "    fileinfo = {}\n",
    "    fileinfo[\"truth\"]= \"/\".join([prefix , t,\"sim.sim.isoforms.results\"])\n",
    "    fileinfo[\"SLA\"] =  \"/\".join([prefix,t,\"quant\",\"salmon_out_noeff\",\"quant.sf\"])\n",
    "    fileinfo[\"kallisto\"] = \"/\".join([prefix,t,\"quant\",\"kallisto_out\",\"abundance.tsv\"])\n",
    "    fileinfo[\"hera\"] = \"/\".join([prefix,t,\"quant\",\"hera_out\",\"abundance.tsv\"])\n",
    "    files_rsem[t] = fileinfo\n"
   ]
  },
  {
   "cell_type": "code",
   "execution_count": 309,
   "metadata": {},
   "outputs": [],
   "source": [
    "result_rsem_df = pd.DataFrame(columns=['sample','kallisto', 'SLA','hera'])\n",
    "for i,t in enumerate(types_of):\n",
    "    df = mergeHeraKallisto(t,files_rsem)\n",
    "    kal=df[\"count\"].corr(df[\"NumReads_KAL\"],method=\"spearman\")\n",
    "    sla=df[\"count\"].corr(df[\"NumReads\"],method=\"spearman\")\n",
    "    hera=df[\"count\"].corr(df[\"NumReads_hera\"],method=\"spearman\")\n",
    "    result_rsem_df.loc[i] = [t,kal,sla,hera]"
   ]
  },
  {
   "cell_type": "code",
   "execution_count": 307,
   "metadata": {},
   "outputs": [
    {
     "data": {
      "text/html": [
       "<div>\n",
       "<table border=\"1\" class=\"dataframe\">\n",
       "  <thead>\n",
       "    <tr style=\"text-align: right;\">\n",
       "      <th></th>\n",
       "      <th>sample</th>\n",
       "      <th>kallisto</th>\n",
       "      <th>SLA</th>\n",
       "      <th>hera</th>\n",
       "    </tr>\n",
       "  </thead>\n",
       "  <tbody>\n",
       "    <tr>\n",
       "      <th>0</th>\n",
       "      <td>read_31415926</td>\n",
       "      <td>0.749622</td>\n",
       "      <td>0.821377</td>\n",
       "      <td>0.822163</td>\n",
       "    </tr>\n",
       "  </tbody>\n",
       "</table>\n",
       "</div>"
      ],
      "text/plain": [
       "          sample  kallisto       SLA      hera\n",
       "0  read_31415926  0.749622  0.821377  0.822163"
      ]
     },
     "execution_count": 307,
     "metadata": {},
     "output_type": "execute_result"
    }
   ],
   "source": [
    "result_rsem_df"
   ]
  },
  {
   "cell_type": "code",
   "execution_count": 310,
   "metadata": {},
   "outputs": [
    {
     "data": {
      "text/html": [
       "<div>\n",
       "<table border=\"1\" class=\"dataframe\">\n",
       "  <thead>\n",
       "    <tr style=\"text-align: right;\">\n",
       "      <th></th>\n",
       "      <th>sample</th>\n",
       "      <th>kallisto</th>\n",
       "      <th>SLA</th>\n",
       "      <th>hera</th>\n",
       "    </tr>\n",
       "  </thead>\n",
       "  <tbody>\n",
       "    <tr>\n",
       "      <th>0</th>\n",
       "      <td>read_31415926</td>\n",
       "      <td>0.749622</td>\n",
       "      <td>0.861327</td>\n",
       "      <td>0.822163</td>\n",
       "    </tr>\n",
       "  </tbody>\n",
       "</table>\n",
       "</div>"
      ],
      "text/plain": [
       "          sample  kallisto       SLA      hera\n",
       "0  read_31415926  0.749622  0.861327  0.822163"
      ]
     },
     "execution_count": 310,
     "metadata": {},
     "output_type": "execute_result"
    }
   ],
   "source": [
    "result_rsem_df"
   ]
  },
  {
   "cell_type": "code",
   "execution_count": 241,
   "metadata": {},
   "outputs": [
    {
     "name": "stdout",
     "output_type": "stream",
     "text": [
      "relDiff    0.029856\n",
      "dtype: float64\n",
      "relDiff    0.031383\n",
      "dtype: float64\n",
      "relDiff    0.050081\n",
      "dtype: float64\n"
     ]
    }
   ],
   "source": [
    "rd,non_zeros = relDiff('count','NumReads_hera',df)\n",
    "print rd.abs().mean()\n",
    "rd,non_zeros = relDiff('count','NumReads',df)\n",
    "print rd.abs().mean()\n",
    "rd,non_zeros = relDiff('count','NumReads_KAL',df)\n",
    "print rd.abs().mean()"
   ]
  },
  {
   "cell_type": "code",
   "execution_count": 244,
   "metadata": {},
   "outputs": [
    {
     "name": "stdout",
     "output_type": "stream",
     "text": [
      "0.02985572183733916\n",
      "relDiff    0.031383\n",
      "dtype: float64\n",
      "relDiff    0.050081\n",
      "dtype: float64\n"
     ]
    }
   ],
   "source": [
    "rd,non_zeros = relDiff('count','NumReads_hera',df)\n",
    "print rd.abs().mean()[0]\n",
    "rd,non_zeros = relDiff('count','NumReads',df)\n",
    "print rd.abs().mean()\n",
    "rd,non_zeros = relDiff('count','NumReads_KAL',df)\n",
    "print rd.abs().mean()"
   ]
  },
  {
   "cell_type": "code",
   "execution_count": 210,
   "metadata": {},
   "outputs": [],
   "source": [
    "prefix = \"/mnt/scratch1/bleed_through_human\"\n",
    "types = [\"bleed_through_200K\"]\n",
    "files = {}\n",
    "for t in types:\n",
    "    fileinfo = {}\n",
    "    fileinfo[\"truth\"]= \"/\".join([prefix,t,\"rsem_sim\",\"sim.sim.isoforms.results\"])\n",
    "    fileinfo[\"SLA\"] =  \"/\".join([prefix,t,\"quant\",\"salmon_out\",\"quant.sf\"])\n",
    "    fileinfo[\"kallisto\"] = \"/\".join([prefix,t,\"quant\",\"kallisto_out\",\"abundance.tsv\"])\n",
    "    #fileinfo[\"bowtie\"] = \"/\".join([prefix,t,\"quant\",\"bowtie_out\",\"quant.sf\"])\n",
    "    #fileinfo[\"hera\"] = \"/\".join([prefix,t,\"quant\",\"hera_out\",\"abundance.tsv\"])\n",
    "    #fileinfo[\"hera\"] = \"/\".join([prefix,\"hera_new\",\"abundance.tsv\"])\n",
    "    fileinfo[\"hera\"] = \"/\".join([prefix,\"hera_new_2\",\"abundance.tsv\"])\n",
    "    files[t] = fileinfo"
   ]
  },
  {
   "cell_type": "code",
   "execution_count": 211,
   "metadata": {},
   "outputs": [],
   "source": [
    "df = mergeHeraKallisto(\"bleed_through_200K\",files)"
   ]
  },
  {
   "cell_type": "code",
   "execution_count": 212,
   "metadata": {},
   "outputs": [
    {
     "name": "stdout",
     "output_type": "stream",
     "text": [
      "('kallisto', 0.7450557220439691)\n",
      "('SLA', 0.8198710974237589)\n",
      "('hera', 0.8193086327038834)\n"
     ]
    }
   ],
   "source": [
    "print(\"kallisto\",df[\"count\"].corr(df[\"NumReads_KAL\"],method=\"spearman\"))\n",
    "print(\"SLA\",df[\"count\"].corr(df[\"NumReads\"],method=\"spearman\"))\n",
    "#print(\"BowTie2\",df_30[\"count\"].corr(df_30[\"NumReads_BT\"],method=\"spearman\"))\n",
    "print(\"hera\",df[\"count\"].corr(df[\"NumReads_hera\"],method=\"spearman\"))"
   ]
  },
  {
   "cell_type": "code",
   "execution_count": null,
   "metadata": {},
   "outputs": [],
   "source": []
  }
 ],
 "metadata": {
  "kernelspec": {
   "display_name": "Python 2",
   "language": "python",
   "name": "python2"
  },
  "language_info": {
   "codemirror_mode": {
    "name": "ipython",
    "version": 2
   },
   "file_extension": ".py",
   "mimetype": "text/x-python",
   "name": "python",
   "nbconvert_exporter": "python",
   "pygments_lexer": "ipython2",
   "version": "2.7.14"
  }
 },
 "nbformat": 4,
 "nbformat_minor": 2
}
