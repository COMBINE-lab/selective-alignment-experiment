{
 "cells": [
  {
   "cell_type": "code",
   "execution_count": 1,
   "metadata": {},
   "outputs": [],
   "source": [
    "%matplotlib inline\n",
    "import numpy as np\n",
    "import matplotlib\n",
    "import matplotlib.pyplot as plt\n",
    "import seaborn as sns\n",
    "sns.set(color_codes=True)\n",
    "import pandas as pd\n",
    "import scipy.stats\n",
    "import math"
   ]
  },
  {
   "cell_type": "code",
   "execution_count": 90,
   "metadata": {},
   "outputs": [],
   "source": [
    "from pyfasta import Fasta\n",
    "import tqdm\n",
    "import seaborn as sns"
   ]
  },
  {
   "cell_type": "code",
   "execution_count": 4,
   "metadata": {},
   "outputs": [],
   "source": [
    "def getNames(fastafile):\n",
    "    f = Fasta(fastafile)\n",
    "    return f.keys()"
   ]
  },
  {
   "cell_type": "code",
   "execution_count": 6,
   "metadata": {},
   "outputs": [],
   "source": [
    "def constructGroundTruth(truelist,seq_names):\n",
    "    count_tsv={}\n",
    "    for name in seq_names:\n",
    "        count_tsv[name] = 0\n",
    "    with open(truelist) as fp:\n",
    "        lines = fp.readlines()\n",
    "        for line in lines:\n",
    "            tr = line.strip().split(\"/\")[-1]\n",
    "            count_tsv[tr] += 1\n",
    "    return count_tsv"
   ]
  },
  {
   "cell_type": "code",
   "execution_count": 5,
   "metadata": {},
   "outputs": [],
   "source": [
    "seq_names = getNames(\"/mnt/scratch1/bleed_through_human/ref/transcript_clean_200K.fa\")\n"
   ]
  },
  {
   "cell_type": "code",
   "execution_count": 59,
   "metadata": {},
   "outputs": [],
   "source": [
    "def batchWriteTruth(types):\n",
    "    for t in tqdm.tqdm(types):\n",
    "        truth_list = \"/\".join([\"/mnt/scratch1/bleed_through_human/poly_reads\",t,\"truth.list\"])\n",
    "        count_tsv = constructGroundTruth(truth_list, \\\n",
    "                                         seq_names)\n",
    "        ground_df = pd.DataFrame(list(count_tsv.items()))\n",
    "        ground_df.columns = ['transcript_id','expected_count']\n",
    "        ground_df.to_csv(\"/\".join([\"/mnt/scratch1/bleed_through_human/poly_reads/quant\",t,\"truth.tsv\"]), \\\n",
    "                         sep=\"\\t\",index=False)"
   ]
  },
  {
   "cell_type": "code",
   "execution_count": null,
   "metadata": {},
   "outputs": [],
   "source": [
    "ground_df = pd.read_table(\"\")"
   ]
  },
  {
   "cell_type": "code",
   "execution_count": 47,
   "metadata": {},
   "outputs": [],
   "source": [
    "#ground_df.to_csv(\"/mnt/scratch1/bleed_through_human/poly_reads/quant/reads_101/truth.tsv\",sep=\"\\t\",index=False)"
   ]
  },
  {
   "cell_type": "code",
   "execution_count": 178,
   "metadata": {},
   "outputs": [],
   "source": [
    "##samplenames\n",
    "types = []\n",
    "import glob\n",
    "fastq_files=glob.glob(\"/mnt/scratch1/bleed_through_human/poly_reads/*/*1.fasta.gz\")\n",
    "for f in fastq_files:\n",
    "    dirname = f.split(\"/\")[-2]\n",
    "    types.append(dirname)"
   ]
  },
  {
   "cell_type": "code",
   "execution_count": 60,
   "metadata": {},
   "outputs": [
    {
     "name": "stderr",
     "output_type": "stream",
     "text": [
      "100%|██████████| 14/14 [07:14<00:00, 31.52s/it]\n"
     ]
    }
   ],
   "source": [
    "batchWriteTruth(types)"
   ]
  },
  {
   "cell_type": "code",
   "execution_count": 165,
   "metadata": {},
   "outputs": [],
   "source": [
    "def getMergedDataFrameFast(typeof,files):\n",
    "    truth = pd.read_table(files[typeof][\"truth\"], delim_whitespace=True, \\\n",
    "       usecols=[\"transcript_id\", \"count\"])\n",
    "    df = truth\n",
    "    df.rename(index=str, \\\n",
    "            columns={\"transcript_id\": \"Name\", \"count\": \"count\"}, inplace = True)\n",
    "    \n",
    "    sla = pd.read_table(files[typeof][\"SLA\"], delim_whitespace=True, \\\n",
    "                                 usecols=[\"Name\", \"NumReads\"])\n",
    "    df = pd.merge(df,sla, how=\"outer\", on = \"Name\").fillna(0.0)\n",
    "    \n",
    "    \n",
    "    #bowtie = pd.read_table(files[typeof][\"bowtie\"], delim_whitespace=True, \\\n",
    "     #                            usecols=[\"Name\", \"NumReads\"])\n",
    "    #bowtie.rename(index=str, columns = {\"Name\" : \"Name\", \\\n",
    "     #                                   \"NumReads\": \"NumReads_BT\"}, inplace = True)\n",
    "    \n",
    "    #df = pd.merge(df,bowtie, how=\"outer\", on = \"Name\").fillna(0.0)\n",
    "    \n",
    "    kallisto = pd.read_table(files[typeof][\"kallisto\"], delim_whitespace=True, \\\n",
    "                                     usecols=[\"target_id\", \"est_counts\"])\n",
    "    kallisto.rename(index=str, columns={\"target_id\": \"Name\", \\\n",
    "                                                \"est_counts\": \"NumReads_KAL\"}, inplace = True)\n",
    "    df = pd.merge(df,kallisto, how=\"outer\", on = \"Name\").fillna(0.0)\n",
    "    \n",
    "    hera = pd.read_table(files[typeof][\"hera\"], delim_whitespace=True, \\\n",
    "                                     usecols=[\"#target_id\", \"est_counts\"])\n",
    "    hera[\"#target_id\"]= hera[\"#target_id\"].str.split(\":\",expand=True)[0]\n",
    "    hera.rename(index=str, columns={\"#target_id\": \"Name\", \\\n",
    "                                               \"est_counts\": \"NumReads_hera\"}, inplace = True)\n",
    "    \n",
    "    df = pd.merge(df,hera, how=\"outer\", on = \"Name\").fillna(0.0)\n",
    "    \n",
    "    \n",
    "    hera_mod = pd.read_table(files[typeof][\"hera_mod\"], delim_whitespace=True, \\\n",
    "                                     usecols=[\"#target_id\", \"est_counts\"])\n",
    "    hera_mod[\"#target_id\"]= hera_mod[\"#target_id\"].str.split(\":\",expand=True)[0]\n",
    "    hera_mod.rename(index=str, columns={\"#target_id\": \"Name\", \\\n",
    "                                               \"est_counts\": \"NumReads_hera_mod\"}, inplace = True)\n",
    "    \n",
    "    df = pd.merge(df,hera_mod, how=\"outer\", on = \"Name\").fillna(0.0)\n",
    "    return (df,truth,sla,kallisto,hera)"
   ]
  },
  {
   "cell_type": "code",
   "execution_count": 151,
   "metadata": {},
   "outputs": [],
   "source": [
    "def mergeHeraKallisto(typeof,files):\n",
    "    \n",
    "    #truth\n",
    "    truth = pd.read_table(files[typeof][\"truth\"], delim_whitespace=True, \\\n",
    "       usecols=[\"transcript_id\", \"count\"])\n",
    "    df = truth\n",
    "    df.rename(index=str, \\\n",
    "            columns={\"transcript_id\": \"Name\", \"count\": \"count\"}, inplace = True)\n",
    "    \n",
    "    #SLA\n",
    "    sla = pd.read_table(files[typeof][\"SLA\"], delim_whitespace=True, \\\n",
    "                                 usecols=[\"Name\", \"NumReads\"])\n",
    "    df = pd.merge(df,sla, how=\"outer\", on = \"Name\").fillna(0.0)\n",
    "    \n",
    "    #hera\n",
    "    hera = pd.read_table(files[typeof][\"hera\"], delim_whitespace=True, \\\n",
    "                                     usecols=[\"#target_id\", \"est_counts\"])\n",
    "    hera[\"#target_id\"]= hera[\"#target_id\"].str.split(\":\",expand=True)[0]\n",
    "    hera.rename(index=str, columns={\"#target_id\": \"Name\", \\\n",
    "                                               \"est_counts\": \"NumReads_hera\"}, inplace = True)\n",
    "    df = pd.merge(df,hera, how=\"outer\", on = \"Name\").fillna(0.0)\n",
    "    \n",
    "    #kallisto\n",
    "    kallisto = pd.read_table(files[typeof][\"kallisto\"], delim_whitespace=True, \\\n",
    "                                     usecols=[\"target_id\", \"est_counts\"])\n",
    "    kallisto.rename(index=str, columns={\"target_id\": \"Name\", \\\n",
    "                                                \"est_counts\": \"NumReads_KAL\"}, inplace = True)\n",
    "    df = pd.merge(df,kallisto, how=\"outer\", on = \"Name\").fillna(0.0)\n",
    "    \n",
    "    return df"
   ]
  },
  {
   "cell_type": "code",
   "execution_count": 213,
   "metadata": {},
   "outputs": [],
   "source": [
    "def relDiff(c1, c2, DF, cutoff=0.01, verbose=False):\n",
    "    import pandas as pd\n",
    "    \"\"\"\n",
    "    Computes the relative difference between the values\n",
    "    in columns c1 and c2 of DF.\n",
    "    c1 and c2 are column names and DF is a Pandas data frame.\n",
    "    Values less than cutoff will be treated as 0.\n",
    "    The relative difference is defined as\n",
    "    d(x_i, y_i) =\n",
    "        0.0 if x_i and y_i are 0\n",
    "        (x_i - y_i) / (0.5 * |x_i - y_i|) otherwise\n",
    "    This function returns two values.\n",
    "    rd is a DataFrame where the \"relDiff\" column contains all\n",
    "    of the computed relative differences.\n",
    "    nz is a set of indexes into rd for data points where\n",
    "    x_i and y_i were not *both* zero.\n",
    "    \"\"\"\n",
    "    import numpy as np\n",
    "    rd = pd.DataFrame(data = {\"Name\" : DF.index, \"relDiff\" : np.zeros(len(DF.index))*np.nan})\n",
    "    rd.set_index(\"Name\", inplace=True)\n",
    "    bothZero = DF.loc[(DF[c1] <= cutoff) & (DF[c2] <= cutoff)].index\n",
    "    nonZero = DF.index.difference(bothZero)\n",
    "    if (verbose):\n",
    "        print(\"Zero occurs in both columns {} times\".format(len(rd.loc[bothZero])))\n",
    "        print(\"Nonzero occurs in at least 1 column {} times\".format(len(rd.loc[nonZero])))\n",
    "    allRD = 1.0 * ((DF[c1] - DF[c2]) / (DF[c1] + DF[c2]).abs())\n",
    "    assert(len(rd.loc[nonZero][\"relDiff\"]) == len(allRD[nonZero]))\n",
    "    rd[\"relDiff\"][nonZero] = allRD[nonZero]\n",
    "    if len(bothZero) > 0:\n",
    "        rd[\"relDiff\"][bothZero] = 0.0\n",
    "    return rd, nonZero"
   ]
  },
  {
   "cell_type": "code",
   "execution_count": 133,
   "metadata": {},
   "outputs": [],
   "source": [
    "types_n = [\"reads_101\",\"reads_121\",\"reads_114\",\"reads_131\",\"reads_120\",\"reads_137\"]"
   ]
  },
  {
   "cell_type": "code",
   "execution_count": 174,
   "metadata": {},
   "outputs": [],
   "source": [
    "prefix = \"/mnt/scratch1/bleed_through_human/poly_reads/quant\"\n",
    "#types = [\"reads_101\"]\n",
    "files = {}\n",
    "for t in types_n:\n",
    "    fileinfo = {}\n",
    "    fileinfo[\"truth\"]= \"/\".join([prefix,t,\"truth.tsv\"])\n",
    "    fileinfo[\"SLA\"] =  \"/\".join([prefix,t,\"salmon_out\",\"quant.sf\"])\n",
    "    fileinfo[\"kallisto\"] = \"/\".join([prefix,t,\"kallisto_out\",\"abundance.tsv\"])\n",
    "    fileinfo[\"bowtie\"] = \"/\".join([prefix,t,\"bowtie_out\",\"quant.sf\"])\n",
    "    fileinfo[\"hera\"] = \"/\".join([prefix,t,\"hera_out\",\"abundance.tsv\"])\n",
    "    fileinfo[\"hera_mod\"] = \"/\".join([\"/home/rob/our_hera/hera-master\",t,\"abundance.tsv\"])\n",
    "    files[t] = fileinfo"
   ]
  },
  {
   "cell_type": "code",
   "execution_count": 176,
   "metadata": {},
   "outputs": [],
   "source": [
    "result_df = pd.DataFrame(columns=['sample','kallisto', 'SLA', 'hera','BT','hera_mod'])\n",
    "for i,t in enumerate(types_n):\n",
    "    df, truth, sla,kallisto,hera = getMergedDataFrameFast(t,files)\n",
    "    kal=df[\"count\"].corr(df[\"NumReads_KAL\"],method=\"spearman\")\n",
    "    sla=df[\"count\"].corr(df[\"NumReads\"],method=\"spearman\")\n",
    "    hera=df[\"count\"].corr(df[\"NumReads_hera\"],method=\"spearman\")\n",
    "    #bt=df[\"count\"].corr(df[\"NumReads_BT\"],method=\"spearman\")\n",
    "    hera_mod=df[\"count\"].corr(df[\"NumReads_hera_mod\"],method=\"spearman\")\n",
    "    result_df.loc[i] = [t,kal,sla,hera,bt,hera_mod]\n",
    "    #print(\"sample name: {}\".format(t))\n",
    "    #print(\"kallisto\",df[\"count\"].corr(df[\"NumReads_KAL\"],method=\"spearman\"))\n",
    "    #print(\"SLA\",df[\"count\"].corr(df[\"NumReads\"],method=\"spearman\"))\n",
    "    #print(\"BowTie2\",df_30[\"count\"].corr(df_30[\"NumReads_BT\"],method=\"spearman\"))\n",
    "    #print(\"hera\",df[\"count\"].corr(df[\"NumReads_hera\"],method=\"spearman\"))"
   ]
  },
  {
   "cell_type": "code",
   "execution_count": 163,
   "metadata": {},
   "outputs": [],
   "source": [
    "result_df.set_index(['sample'],inplace=True)"
   ]
  },
  {
   "cell_type": "code",
   "execution_count": 164,
   "metadata": {
    "scrolled": true
   },
   "outputs": [
    {
     "data": {
      "text/plain": [
       "<matplotlib.axes._subplots.AxesSubplot at 0x7fa3bba28a10>"
      ]
     },
     "execution_count": 164,
     "metadata": {},
     "output_type": "execute_result"
    },
    {
     "data": {
      "image/png": "[encoded data removed]",
      "text/plain": [
       "<Figure size 432x288 with 1 Axes>"
      ]
     },
     "metadata": {},
     "output_type": "display_data"
    }
   ],
   "source": [
    "sns.set_style(\"white\")\n",
    "fig = plt.figure()\n",
    "ax = fig.add_subplot(111)\n",
    "result_df.plot(marker='o',rot=60,ax=ax)\n",
    "#ax.set_xticks(result_df.index)"
   ]
  },
  {
   "cell_type": "code",
   "execution_count": 180,
   "metadata": {},
   "outputs": [],
   "source": [
    "prefix = \"/mnt/scratch1/bleed_through_human/poly_reads/quant\"\n",
    "#types = [\"reads_101\"]\n",
    "files_rsem = {}\n",
    "for t in types:\n",
    "    fileinfo = {}\n",
    "    #fileinfo[\"truth\"]= \"/mnt/scratch1/bleed_through_human/bleed_through_200K/rsem_exp/model.isoforms.results\"\n",
    "    fileinfo[\"truth\"]= \"/\".join([prefix,t,\"truth.tsv\"])\n",
    "    fileinfo[\"SLA\"] =  \"/\".join([prefix,t,\"salmon_out\",\"quant.sf\"])\n",
    "    fileinfo[\"kallisto\"] = \"/\".join([prefix,t,\"kallisto_out\",\"abundance.tsv\"])\n",
    "    #fileinfo[\"bowtie\"] = \"/\".join([prefix,t,\"quant\",\"bowtie_out\",\"quant.sf\"])\n",
    "    fileinfo[\"hera_mod\"] = \"/\".join([\"/home/rob/our_hera/hera-master\",t,\"abundance.tsv\"])\n",
    "    fileinfo[\"hera\"] = \"/\".join([prefix,t,\"hera_out\",\"abundance.tsv\"])\n",
    "    files_rsem[t] = fileinfo"
   ]
  },
  {
   "cell_type": "code",
   "execution_count": 181,
   "metadata": {},
   "outputs": [],
   "source": [
    "result_rsem_df = pd.DataFrame(columns=['sample','kallisto', 'SLA', 'hera','hera_mod'])\n",
    "for i,t in enumerate(types):\n",
    "    df, truth, sla,kallisto,hera = getMergedDataFrameFast(t,files_rsem)\n",
    "    kal=df[\"count\"].corr(df[\"NumReads_KAL\"],method=\"spearman\")\n",
    "    sla=df[\"count\"].corr(df[\"NumReads\"],method=\"spearman\")\n",
    "    hera_mod=df[\"count\"].corr(df[\"NumReads_hera_mod\"],method=\"spearman\")\n",
    "    hera=df[\"count\"].corr(df[\"NumReads_hera\"],method=\"spearman\")\n",
    "    result_rsem_df.loc[i] = [t,kal,sla,hera,hera_mod]\n",
    "    #print(\"sample name: {}\".format(t))\n",
    "    #print(\"kallisto\",df[\"count\"].corr(df[\"NumReads_KAL\"],method=\"spearman\"))\n",
    "    #print(\"SLA\",df[\"count\"].corr(df[\"NumReads\"],method=\"spearman\"))\n",
    "    #print(\"BowTie2\",df_30[\"count\"].corr(df_30[\"NumReads_BT\"],method=\"spearman\"))\n",
    "    #print(\"hera\",df[\"count\"].corr(df[\"NumReads_hera\"],method=\"spearman\"))"
   ]
  },
  {
   "cell_type": "code",
   "execution_count": 117,
   "metadata": {},
   "outputs": [],
   "source": [
    "#truth[truth['count'] > 0]"
   ]
  },
  {
   "cell_type": "code",
   "execution_count": 122,
   "metadata": {},
   "outputs": [
    {
     "data": {
      "text/html": [
       "<div>\n",
       "<table border=\"1\" class=\"dataframe\">\n",
       "  <thead>\n",
       "    <tr style=\"text-align: right;\">\n",
       "      <th></th>\n",
       "      <th>Name</th>\n",
       "      <th>count</th>\n",
       "      <th>NumReads</th>\n",
       "      <th>NumReads_KAL</th>\n",
       "      <th>NumReads_hera</th>\n",
       "    </tr>\n",
       "  </thead>\n",
       "  <tbody>\n",
       "    <tr>\n",
       "      <th>0</th>\n",
       "      <td>ENST00000001146.6</td>\n",
       "      <td>2.0</td>\n",
       "      <td>0.000000</td>\n",
       "      <td>0.0000</td>\n",
       "      <td>0.000000</td>\n",
       "    </tr>\n",
       "    <tr>\n",
       "      <th>1</th>\n",
       "      <td>ENST00000003084.10</td>\n",
       "      <td>12.0</td>\n",
       "      <td>11.873982</td>\n",
       "      <td>11.8762</td>\n",
       "      <td>12.000000</td>\n",
       "    </tr>\n",
       "    <tr>\n",
       "      <th>2</th>\n",
       "      <td>ENST00000004531.14</td>\n",
       "      <td>2.0</td>\n",
       "      <td>1.331202</td>\n",
       "      <td>1.3314</td>\n",
       "      <td>1.376547</td>\n",
       "    </tr>\n",
       "    <tr>\n",
       "      <th>3</th>\n",
       "      <td>ENST00000004982.5</td>\n",
       "      <td>51.0</td>\n",
       "      <td>51.000000</td>\n",
       "      <td>51.0000</td>\n",
       "      <td>50.999999</td>\n",
       "    </tr>\n",
       "    <tr>\n",
       "      <th>4</th>\n",
       "      <td>ENST00000005178.5</td>\n",
       "      <td>1.0</td>\n",
       "      <td>1.000000</td>\n",
       "      <td>1.0000</td>\n",
       "      <td>1.000000</td>\n",
       "    </tr>\n",
       "  </tbody>\n",
       "</table>\n",
       "</div>"
      ],
      "text/plain": [
       "                 Name  count   NumReads  NumReads_KAL  NumReads_hera\n",
       "0   ENST00000001146.6    2.0   0.000000        0.0000       0.000000\n",
       "1  ENST00000003084.10   12.0  11.873982       11.8762      12.000000\n",
       "2  ENST00000004531.14    2.0   1.331202        1.3314       1.376547\n",
       "3   ENST00000004982.5   51.0  51.000000       51.0000      50.999999\n",
       "4   ENST00000005178.5    1.0   1.000000        1.0000       1.000000"
      ]
     },
     "execution_count": 122,
     "metadata": {},
     "output_type": "execute_result"
    }
   ],
   "source": [
    "df.head()"
   ]
  },
  {
   "cell_type": "code",
   "execution_count": 123,
   "metadata": {},
   "outputs": [
    {
     "data": {
      "text/html": [
       "<div>\n",
       "<table border=\"1\" class=\"dataframe\">\n",
       "  <thead>\n",
       "    <tr style=\"text-align: right;\">\n",
       "      <th></th>\n",
       "      <th>sample</th>\n",
       "      <th>kallisto</th>\n",
       "      <th>SLA</th>\n",
       "      <th>hera</th>\n",
       "    </tr>\n",
       "  </thead>\n",
       "  <tbody>\n",
       "    <tr>\n",
       "      <th>0</th>\n",
       "      <td>reads_120</td>\n",
       "      <td>0.838190</td>\n",
       "      <td>0.880471</td>\n",
       "      <td>0.858538</td>\n",
       "    </tr>\n",
       "    <tr>\n",
       "      <th>1</th>\n",
       "      <td>reads_183</td>\n",
       "      <td>0.844257</td>\n",
       "      <td>0.883218</td>\n",
       "      <td>0.769569</td>\n",
       "    </tr>\n",
       "    <tr>\n",
       "      <th>2</th>\n",
       "      <td>reads_57</td>\n",
       "      <td>0.840117</td>\n",
       "      <td>0.882087</td>\n",
       "      <td>0.835708</td>\n",
       "    </tr>\n",
       "    <tr>\n",
       "      <th>3</th>\n",
       "      <td>reads_8</td>\n",
       "      <td>0.840448</td>\n",
       "      <td>0.881560</td>\n",
       "      <td>0.814663</td>\n",
       "    </tr>\n",
       "    <tr>\n",
       "      <th>4</th>\n",
       "      <td>reads_89</td>\n",
       "      <td>0.844323</td>\n",
       "      <td>0.882416</td>\n",
       "      <td>0.835867</td>\n",
       "    </tr>\n",
       "    <tr>\n",
       "      <th>5</th>\n",
       "      <td>reads_101</td>\n",
       "      <td>0.841888</td>\n",
       "      <td>0.881973</td>\n",
       "      <td>0.846735</td>\n",
       "    </tr>\n",
       "    <tr>\n",
       "      <th>6</th>\n",
       "      <td>reads_114</td>\n",
       "      <td>0.841786</td>\n",
       "      <td>0.880477</td>\n",
       "      <td>0.855581</td>\n",
       "    </tr>\n",
       "    <tr>\n",
       "      <th>7</th>\n",
       "      <td>reads_174</td>\n",
       "      <td>0.838364</td>\n",
       "      <td>0.880311</td>\n",
       "      <td>0.914093</td>\n",
       "    </tr>\n",
       "    <tr>\n",
       "      <th>8</th>\n",
       "      <td>reads_198</td>\n",
       "      <td>0.841931</td>\n",
       "      <td>0.882047</td>\n",
       "      <td>0.819594</td>\n",
       "    </tr>\n",
       "    <tr>\n",
       "      <th>9</th>\n",
       "      <td>reads_137</td>\n",
       "      <td>0.840578</td>\n",
       "      <td>0.882266</td>\n",
       "      <td>0.796470</td>\n",
       "    </tr>\n",
       "    <tr>\n",
       "      <th>10</th>\n",
       "      <td>reads_121</td>\n",
       "      <td>0.839132</td>\n",
       "      <td>0.879342</td>\n",
       "      <td>0.835368</td>\n",
       "    </tr>\n",
       "    <tr>\n",
       "      <th>11</th>\n",
       "      <td>reads_153</td>\n",
       "      <td>0.844731</td>\n",
       "      <td>0.881710</td>\n",
       "      <td>0.811644</td>\n",
       "    </tr>\n",
       "    <tr>\n",
       "      <th>12</th>\n",
       "      <td>reads_54</td>\n",
       "      <td>0.843868</td>\n",
       "      <td>0.883138</td>\n",
       "      <td>0.857834</td>\n",
       "    </tr>\n",
       "    <tr>\n",
       "      <th>13</th>\n",
       "      <td>reads_131</td>\n",
       "      <td>0.843291</td>\n",
       "      <td>0.881917</td>\n",
       "      <td>0.795394</td>\n",
       "    </tr>\n",
       "  </tbody>\n",
       "</table>\n",
       "</div>"
      ],
      "text/plain": [
       "       sample  kallisto       SLA      hera\n",
       "0   reads_120  0.838190  0.880471  0.858538\n",
       "1   reads_183  0.844257  0.883218  0.769569\n",
       "2    reads_57  0.840117  0.882087  0.835708\n",
       "3     reads_8  0.840448  0.881560  0.814663\n",
       "4    reads_89  0.844323  0.882416  0.835867\n",
       "5   reads_101  0.841888  0.881973  0.846735\n",
       "6   reads_114  0.841786  0.880477  0.855581\n",
       "7   reads_174  0.838364  0.880311  0.914093\n",
       "8   reads_198  0.841931  0.882047  0.819594\n",
       "9   reads_137  0.840578  0.882266  0.796470\n",
       "10  reads_121  0.839132  0.879342  0.835368\n",
       "11  reads_153  0.844731  0.881710  0.811644\n",
       "12   reads_54  0.843868  0.883138  0.857834\n",
       "13  reads_131  0.843291  0.881917  0.795394"
      ]
     },
     "execution_count": 123,
     "metadata": {},
     "output_type": "execute_result"
    }
   ],
   "source": [
    "rd,nonzero = "
   ]
  },
  {
   "cell_type": "code",
   "execution_count": 182,
   "metadata": {},
   "outputs": [],
   "source": [
    "result_rsem_df.set_index(['sample'],inplace=True)"
   ]
  },
  {
   "cell_type": "code",
   "execution_count": 183,
   "metadata": {},
   "outputs": [
    {
     "data": {
      "text/plain": [
       "<matplotlib.axes._subplots.AxesSubplot at 0x7fa3ba796790>"
      ]
     },
     "execution_count": 183,
     "metadata": {},
     "output_type": "execute_result"
    },
    {
     "data": {
      "image/png": "[encoded data removed]",
      "text/plain": [
       "<Figure size 432x288 with 1 Axes>"
      ]
     },
     "metadata": {},
     "output_type": "display_data"
    }
   ],
   "source": [
    "result_rsem_df.plot()"
   ]
  },
  {
   "cell_type": "code",
   "execution_count": 238,
   "metadata": {},
   "outputs": [],
   "source": [
    "prefix = \"/mnt/scratch1/bleed_through_human\"\n",
    "types_of = [\"read_31415926\"]\n",
    "#types_of = [\"read_11563\" , \"read_26368\" , \"read_9636\"]\n",
    "files_rsem = {}\n",
    "for t in types_of:\n",
    "    fileinfo = {}\n",
    "    fileinfo[\"truth\"]= prefix + \"/\" + t +\"/\" +\"sim.sim.isoforms.results\"\n",
    "    fileinfo[\"SLA\"] =  \"/\".join([prefix,t,\"quant\",\"salmon_out\",\"quant.sf\"])\n",
    "    fileinfo[\"kallisto\"] = \"/\".join([prefix,t,\"quant\",\"kallisto_out\",\"abundance.tsv\"])\n",
    "    fileinfo[\"hera\"] = \"/\".join([prefix,t,\"quant\",\"hera_out\",\"abundance.tsv\"])\n",
    "    files_rsem[t] = fileinfo"
   ]
  },
  {
   "cell_type": "code",
   "execution_count": 239,
   "metadata": {},
   "outputs": [],
   "source": [
    "result_rsem_df = pd.DataFrame(columns=['sample','kallisto', 'SLA','hera'])\n",
    "for i,t in enumerate(types_of):\n",
    "    df = mergeHeraKallisto(t,files_rsem)\n",
    "    kal=df[\"count\"].corr(df[\"NumReads_KAL\"],method=\"spearman\")\n",
    "    sla=df[\"count\"].corr(df[\"NumReads\"],method=\"spearman\")\n",
    "    hera=df[\"count\"].corr(df[\"NumReads_hera\"],method=\"spearman\")\n",
    "    result_rsem_df.loc[i] = [t,kal,sla,hera]"
   ]
  },
  {
   "cell_type": "code",
   "execution_count": 240,
   "metadata": {},
   "outputs": [
    {
     "data": {
      "text/html": [
       "<div>\n",
       "<table border=\"1\" class=\"dataframe\">\n",
       "  <thead>\n",
       "    <tr style=\"text-align: right;\">\n",
       "      <th></th>\n",
       "      <th>sample</th>\n",
       "      <th>kallisto</th>\n",
       "      <th>SLA</th>\n",
       "      <th>hera</th>\n",
       "    </tr>\n",
       "  </thead>\n",
       "  <tbody>\n",
       "    <tr>\n",
       "      <th>0</th>\n",
       "      <td>read_31415926</td>\n",
       "      <td>0.749622</td>\n",
       "      <td>0.821377</td>\n",
       "      <td>0.822163</td>\n",
       "    </tr>\n",
       "  </tbody>\n",
       "</table>\n",
       "</div>"
      ],
      "text/plain": [
       "          sample  kallisto       SLA      hera\n",
       "0  read_31415926  0.749622  0.821377  0.822163"
      ]
     },
     "execution_count": 240,
     "metadata": {},
     "output_type": "execute_result"
    }
   ],
   "source": [
    "result_rsem_df"
   ]
  },
  {
   "cell_type": "code",
   "execution_count": 241,
   "metadata": {},
   "outputs": [
    {
     "name": "stdout",
     "output_type": "stream",
     "text": [
      "relDiff    0.029856\n",
      "dtype: float64\n",
      "relDiff    0.031383\n",
      "dtype: float64\n",
      "relDiff    0.050081\n",
      "dtype: float64\n"
     ]
    }
   ],
   "source": [
    "rd,non_zeros = relDiff('count','NumReads_hera',df)\n",
    "print rd.abs().mean()\n",
    "rd,non_zeros = relDiff('count','NumReads',df)\n",
    "print rd.abs().mean()\n",
    "rd,non_zeros = relDiff('count','NumReads_KAL',df)\n",
    "print rd.abs().mean()"
   ]
  },
  {
   "cell_type": "code",
   "execution_count": 244,
   "metadata": {},
   "outputs": [
    {
     "name": "stdout",
     "output_type": "stream",
     "text": [
      "0.02985572183733916\n",
      "relDiff    0.031383\n",
      "dtype: float64\n",
      "relDiff    0.050081\n",
      "dtype: float64\n"
     ]
    }
   ],
   "source": [
    "rd,non_zeros = relDiff('count','NumReads_hera',df)\n",
    "print rd.abs().mean()[0]\n",
    "rd,non_zeros = relDiff('count','NumReads',df)\n",
    "print rd.abs().mean()\n",
    "rd,non_zeros = relDiff('count','NumReads_KAL',df)\n",
    "print rd.abs().mean()"
   ]
  },
  {
   "cell_type": "code",
   "execution_count": 210,
   "metadata": {},
   "outputs": [],
   "source": [
    "prefix = \"/mnt/scratch1/bleed_through_human\"\n",
    "types = [\"bleed_through_200K\"]\n",
    "files = {}\n",
    "for t in types:\n",
    "    fileinfo = {}\n",
    "    fileinfo[\"truth\"]= \"/\".join([prefix,t,\"rsem_sim\",\"sim.sim.isoforms.results\"])\n",
    "    fileinfo[\"SLA\"] =  \"/\".join([prefix,t,\"quant\",\"salmon_out\",\"quant.sf\"])\n",
    "    fileinfo[\"kallisto\"] = \"/\".join([prefix,t,\"quant\",\"kallisto_out\",\"abundance.tsv\"])\n",
    "    #fileinfo[\"bowtie\"] = \"/\".join([prefix,t,\"quant\",\"bowtie_out\",\"quant.sf\"])\n",
    "    #fileinfo[\"hera\"] = \"/\".join([prefix,t,\"quant\",\"hera_out\",\"abundance.tsv\"])\n",
    "    #fileinfo[\"hera\"] = \"/\".join([prefix,\"hera_new\",\"abundance.tsv\"])\n",
    "    fileinfo[\"hera\"] = \"/\".join([prefix,\"hera_new_2\",\"abundance.tsv\"])\n",
    "    files[t] = fileinfo"
   ]
  },
  {
   "cell_type": "code",
   "execution_count": 211,
   "metadata": {},
   "outputs": [],
   "source": [
    "df = mergeHeraKallisto(\"bleed_through_200K\",files)"
   ]
  },
  {
   "cell_type": "code",
   "execution_count": 212,
   "metadata": {},
   "outputs": [
    {
     "name": "stdout",
     "output_type": "stream",
     "text": [
      "('kallisto', 0.7450557220439691)\n",
      "('SLA', 0.8198710974237589)\n",
      "('hera', 0.8193086327038834)\n"
     ]
    }
   ],
   "source": [
    "print(\"kallisto\",df[\"count\"].corr(df[\"NumReads_KAL\"],method=\"spearman\"))\n",
    "print(\"SLA\",df[\"count\"].corr(df[\"NumReads\"],method=\"spearman\"))\n",
    "#print(\"BowTie2\",df_30[\"count\"].corr(df_30[\"NumReads_BT\"],method=\"spearman\"))\n",
    "print(\"hera\",df[\"count\"].corr(df[\"NumReads_hera\"],method=\"spearman\"))"
   ]
  },
  {
   "cell_type": "code",
   "execution_count": null,
   "metadata": {},
   "outputs": [],
   "source": []
  }
 ],
 "metadata": {
  "kernelspec": {
   "display_name": "Python 2",
   "language": "python",
   "name": "python2"
  },
  "language_info": {
   "codemirror_mode": {
    "name": "ipython",
    "version": 2
   },
   "file_extension": ".py",
   "mimetype": "text/x-python",
   "name": "python",
   "nbconvert_exporter": "python",
   "pygments_lexer": "ipython2",
   "version": "2.7.14"
  }
 },
 "nbformat": 4,
 "nbformat_minor": 2
}
