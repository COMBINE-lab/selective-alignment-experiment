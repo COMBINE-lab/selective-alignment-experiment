{
 "cells": [
  {
   "cell_type": "code",
   "execution_count": 1,
   "metadata": {},
   "outputs": [],
   "source": [
    "%matplotlib inline\n",
    "import numpy as np\n",
    "import matplotlib\n",
    "import matplotlib.pyplot as plt\n",
    "import seaborn as sns\n",
    "sns.set(color_codes=True)\n",
    "import pandas as pd\n",
    "import scipy.stats\n",
    "import math"
   ]
  },
  {
   "cell_type": "code",
   "execution_count": 90,
   "metadata": {},
   "outputs": [],
   "source": [
    "from pyfasta import Fasta\n",
    "import tqdm\n",
    "import seaborn as sns"
   ]
  },
  {
   "cell_type": "code",
   "execution_count": 4,
   "metadata": {},
   "outputs": [],
   "source": [
    "def getNames(fastafile):\n",
    "    f = Fasta(fastafile)\n",
    "    return f.keys()"
   ]
  },
  {
   "cell_type": "code",
   "execution_count": 6,
   "metadata": {},
   "outputs": [],
   "source": [
    "def constructGroundTruth(truelist,seq_names):\n",
    "    count_tsv={}\n",
    "    for name in seq_names:\n",
    "        count_tsv[name] = 0\n",
    "    with open(truelist) as fp:\n",
    "        lines = fp.readlines()\n",
    "        for line in lines:\n",
    "            tr = line.strip().split(\"/\")[-1]\n",
    "            count_tsv[tr] += 1\n",
    "    return count_tsv"
   ]
  },
  {
   "cell_type": "code",
   "execution_count": 382,
   "metadata": {},
   "outputs": [],
   "source": [
    "seq_names = getNames(\"/mnt/scratch7/hirak/bleed_through_7/reference/transcripts_all.fa\")"
   ]
  },
  {
   "cell_type": "code",
   "execution_count": 256,
   "metadata": {},
   "outputs": [],
   "source": [
    "def batchWriteTruth(types,prefix=\"/mnt/scratch1/bleed_through_human/poly_reads\"):\n",
    "    for t in tqdm.tqdm(types):\n",
    "        truth_list = \"/\".join([prefix,t,\"truth.list\"])\n",
    "        count_tsv = constructGroundTruth(truth_list, \\\n",
    "                                         seq_names)\n",
    "        ground_df = pd.DataFrame(list(count_tsv.items()))\n",
    "        ground_df.columns = ['transcript_id','count']\n",
    "        ground_df.to_csv(\"/\".join([prefix,\"quant\",t,\"truth.tsv\"]), \\\n",
    "                         sep=\"\\t\",index=False)"
   ]
  },
  {
   "cell_type": "code",
   "execution_count": null,
   "metadata": {},
   "outputs": [],
   "source": [
    "#ground_df = pd.read_table(\"\")"
   ]
  },
  {
   "cell_type": "code",
   "execution_count": 47,
   "metadata": {},
   "outputs": [],
   "source": [
    "#ground_df.to_csv(\"/mnt/scratch1/bleed_through_human/poly_reads/quant/reads_101/truth.tsv\",sep=\"\\t\",index=False)"
   ]
  },
  {
   "cell_type": "code",
   "execution_count": 898,
   "metadata": {},
   "outputs": [],
   "source": [
    "##samplenames\n",
    "all_types = []\n",
    "import glob\n",
    "fastq_files=glob.glob(\"/mnt/scratch7/hirak/bleed_through_7/exp_1_12/poly_reads_salmon/*/*1.fasta.gz\")\n",
    "for f in fastq_files:\n",
    "    dirname = f.split(\"/\")[-2]\n",
    "    all_types.append(dirname)"
   ]
  },
  {
   "cell_type": "code",
   "execution_count": 899,
   "metadata": {},
   "outputs": [
    {
     "data": {
      "text/plain": [
       "['reads_25', 'reads_190', 'reads_2']"
      ]
     },
     "execution_count": 899,
     "metadata": {},
     "output_type": "execute_result"
    }
   ],
   "source": [
    "all_types"
   ]
  },
  {
   "cell_type": "code",
   "execution_count": 901,
   "metadata": {},
   "outputs": [
    {
     "name": "stderr",
     "output_type": "stream",
     "text": [
      "100%|██████████| 3/3 [00:57<00:00, 19.20s/it]\n"
     ]
    }
   ],
   "source": [
    "batchWriteTruth(all_types,\"/mnt/scratch7/hirak/bleed_through_7/exp_1_12/poly_reads_salmon/\")"
   ]
  },
  {
   "cell_type": "code",
   "execution_count": 902,
   "metadata": {},
   "outputs": [],
   "source": [
    "def getMergedDataFrameSalmons(typeof,files):\n",
    "    truth = pd.read_table(files[typeof][\"truth\"], delim_whitespace=True, \\\n",
    "       usecols=[\"transcript_id\", \"count\"])\n",
    "    df = truth\n",
    "    df.rename(index=str, \\\n",
    "            columns={\"transcript_id\": \"Name\", \"count\": \"count\"}, inplace = True)\n",
    "    \n",
    "    sla = pd.read_table(files[typeof][\"SLA\"], delim_whitespace=True, \\\n",
    "                                 usecols=[\"Name\", \"NumReads\"])\n",
    "    df = pd.merge(df,sla, how=\"outer\", on = \"Name\").fillna(0.0)\n",
    "    \n",
    "    \n",
    "    #bowtie = pd.read_table(files[typeof][\"bowtie\"], delim_whitespace=True, \\\n",
    "     #                            usecols=[\"Name\", \"NumReads\"])\n",
    "    #bowtie.rename(index=str, columns = {\"Name\" : \"Name\", \\\n",
    "     #                                   \"NumReads\": \"NumReads_BT\"}, inplace = True)\n",
    "    \n",
    "    #df = pd.merge(df,bowtie, how=\"outer\", on = \"Name\").fillna(0.0)\n",
    "    \n",
    "    kallisto = pd.read_table(files[typeof][\"kallisto\"], delim_whitespace=True, \\\n",
    "                                     usecols=[\"target_id\", \"est_counts\"])\n",
    "    kallisto.rename(index=str, columns={\"target_id\": \"Name\", \\\n",
    "                                                \"est_counts\": \"NumReads_KAL\"}, inplace = True)\n",
    "    df = pd.merge(df,kallisto, how=\"outer\", on = \"Name\").fillna(0.0)\n",
    "    \n",
    "    hera = pd.read_table(files[typeof][\"hera\"], delim_whitespace=True, \\\n",
    "                                     usecols=[\"#target_id\", \"est_counts\"])\n",
    "    hera[\"#target_id\"]= hera[\"#target_id\"].str.split(\":\",expand=True)[0]\n",
    "    hera.rename(index=str, columns={\"#target_id\": \"Name\", \\\n",
    "                                               \"est_counts\": \"NumReads_hera\"}, inplace = True)\n",
    "    \n",
    "    df = pd.merge(df,hera, how=\"outer\", on = \"Name\").fillna(0.0)\n",
    "    \n",
    "    \n",
    "    #hera_mod = pd.read_table(files[typeof][\"hera_mod\"], delim_whitespace=True, \\\n",
    "    #                                 usecols=[\"#target_id\", \"est_counts\"])\n",
    "    #hera_mod[\"#target_id\"]= hera_mod[\"#target_id\"].str.split(\":\",expand=True)[0]\n",
    "    #hera_mod.rename(index=str, columns={\"#target_id\": \"Name\", \\\n",
    "     #                                          \"est_counts\": \"NumReads_hera_mod\"}, inplace = True)\n",
    "    \n",
    "    #df = pd.merge(df,hera_mod, how=\"outer\", on = \"Name\").fillna(0.0)\n",
    "    return (df,truth,sla,kallisto,hera)"
   ]
  },
  {
   "cell_type": "code",
   "execution_count": 903,
   "metadata": {},
   "outputs": [],
   "source": [
    "def getMergedDataFrameFast(typeof,files):\n",
    "    truth = pd.read_table(files[typeof][\"truth\"], delim_whitespace=True, \\\n",
    "       usecols=[\"transcript_id\", \"count\"])\n",
    "    df = truth\n",
    "    df.rename(index=str, \\\n",
    "            columns={\"transcript_id\": \"Name\", \"count\": \"count\"}, inplace = True)\n",
    "    \n",
    "    sla = pd.read_table(files[typeof][\"SLA\"], delim_whitespace=True, \\\n",
    "                                 usecols=[\"Name\", \"NumReads\"])\n",
    "    df = pd.merge(df,sla, how=\"outer\", on = \"Name\").fillna(0.0)\n",
    "    \n",
    "    \n",
    "    bowtie = pd.read_table(files[typeof][\"bowtie\"], delim_whitespace=True, \\\n",
    "                                 usecols=[\"Name\", \"NumReads\"])\n",
    "    bowtie.rename(index=str, columns = {\"Name\" : \"Name\", \\\n",
    "                                        \"NumReads\": \"NumReads_BT\"}, inplace = True)\n",
    "    \n",
    "    df = pd.merge(df,bowtie, how=\"outer\", on = \"Name\").fillna(0.0)\n",
    "    \n",
    "    kallisto = pd.read_table(files[typeof][\"kallisto\"], delim_whitespace=True, \\\n",
    "                                     usecols=[\"target_id\", \"est_counts\"])\n",
    "    kallisto.rename(index=str, columns={\"target_id\": \"Name\", \\\n",
    "                                                \"est_counts\": \"NumReads_KAL\"}, inplace = True)\n",
    "    df = pd.merge(df,kallisto, how=\"outer\", on = \"Name\").fillna(0.0)\n",
    "    \n",
    "    hera = pd.read_table(files[typeof][\"hera\"], delim_whitespace=True, \\\n",
    "                                     usecols=[\"#target_id\", \"est_counts\"])\n",
    "    hera[\"#target_id\"]= hera[\"#target_id\"].str.split(\":\",expand=True)[0]\n",
    "    hera.rename(index=str, columns={\"#target_id\": \"Name\", \\\n",
    "                                               \"est_counts\": \"NumReads_hera\"}, inplace = True)\n",
    "    \n",
    "    df = pd.merge(df,hera, how=\"outer\", on = \"Name\").fillna(0.0)\n",
    "    \n",
    "    \n",
    "    #hera_mod = pd.read_table(files[typeof][\"hera_mod\"], delim_whitespace=True, \\\n",
    "    #                                 usecols=[\"#target_id\", \"est_counts\"])\n",
    "    #hera_mod[\"#target_id\"]= hera_mod[\"#target_id\"].str.split(\":\",expand=True)[0]\n",
    "    #hera_mod.rename(index=str, columns={\"#target_id\": \"Name\", \\\n",
    "     #                                          \"est_counts\": \"NumReads_hera_mod\"}, inplace = True)\n",
    "    \n",
    "    #df = pd.merge(df,hera_mod, how=\"outer\", on = \"Name\").fillna(0.0)\n",
    "    return (df,truth,sla,kallisto,hera)"
   ]
  },
  {
   "cell_type": "code",
   "execution_count": 904,
   "metadata": {},
   "outputs": [],
   "source": [
    "def mergeHeraKallisto(typeof,files):\n",
    "    \n",
    "    #truth\n",
    "    truth = pd.read_table(files[typeof][\"truth\"], delim_whitespace=True, \\\n",
    "       usecols=[\"transcript_id\", \"count\"])\n",
    "    df = truth\n",
    "    df.rename(index=str, \\\n",
    "            columns={\"transcript_id\": \"Name\", \"count\": \"count\"}, inplace = True)\n",
    "    \n",
    "    #SLA\n",
    "    sla = pd.read_table(files[typeof][\"SLA\"], delim_whitespace=True, \\\n",
    "                                 usecols=[\"Name\", \"NumReads\"])\n",
    "    df = pd.merge(df,sla, how=\"outer\", on = \"Name\").fillna(0.0)\n",
    "    \n",
    "    #hera\n",
    "    hera = pd.read_table(files[typeof][\"hera\"], delim_whitespace=True, \\\n",
    "                                     usecols=[\"#target_id\", \"est_counts\"])\n",
    "    hera[\"#target_id\"]= hera[\"#target_id\"].str.split(\":\",expand=True)[0]\n",
    "    hera.rename(index=str, columns={\"#target_id\": \"Name\", \\\n",
    "                                               \"est_counts\": \"NumReads_hera\"}, inplace = True)\n",
    "    df = pd.merge(df,hera, how=\"outer\", on = \"Name\").fillna(0.0)\n",
    "    \n",
    "    #kallisto\n",
    "    kallisto = pd.read_table(files[typeof][\"kallisto\"], delim_whitespace=True, \\\n",
    "                                     usecols=[\"target_id\", \"est_counts\"])\n",
    "    kallisto.rename(index=str, columns={\"target_id\": \"Name\", \\\n",
    "                                                \"est_counts\": \"NumReads_KAL\"}, inplace = True)\n",
    "    df = pd.merge(df,kallisto, how=\"outer\", on = \"Name\").fillna(0.0)\n",
    "    \n",
    "    return df"
   ]
  },
  {
   "cell_type": "code",
   "execution_count": 905,
   "metadata": {},
   "outputs": [],
   "source": [
    "def relDiff(c1, c2, DF, cutoff=0.01, verbose=False):\n",
    "    import pandas as pd\n",
    "    \"\"\"\n",
    "    Computes the relative difference between the values\n",
    "    in columns c1 and c2 of DF.\n",
    "    c1 and c2 are column names and DF is a Pandas data frame.\n",
    "    Values less than cutoff will be treated as 0.\n",
    "    The relative difference is defined as\n",
    "    d(x_i, y_i) =\n",
    "        0.0 if x_i and y_i are 0\n",
    "        (x_i - y_i) / (0.5 * |x_i - y_i|) otherwise\n",
    "    This function returns two values.\n",
    "    rd is a DataFrame where the \"relDiff\" column contains all\n",
    "    of the computed relative differences.\n",
    "    nz is a set of indexes into rd for data points where\n",
    "    x_i and y_i were not *both* zero.\n",
    "    \"\"\"\n",
    "    import numpy as np\n",
    "    rd = pd.DataFrame(data = {\"Name\" : DF.index, \"relDiff\" : np.zeros(len(DF.index))*np.nan})\n",
    "    rd.set_index(\"Name\", inplace=True)\n",
    "    bothZero = DF.loc[(DF[c1] <= cutoff) & (DF[c2] <= cutoff)].index\n",
    "    nonZero = DF.index.difference(bothZero)\n",
    "    if (verbose):\n",
    "        print(\"Zero occurs in both columns {} times\".format(len(rd.loc[bothZero])))\n",
    "        print(\"Nonzero occurs in at least 1 column {} times\".format(len(rd.loc[nonZero])))\n",
    "    allRD = 1.0 * ((DF[c1] - DF[c2]) / (DF[c1] + DF[c2]).abs())\n",
    "    assert(len(rd.loc[nonZero][\"relDiff\"]) == len(allRD[nonZero]))\n",
    "    rd[\"relDiff\"][nonZero] = allRD[nonZero]\n",
    "    if len(bothZero) > 0:\n",
    "        rd[\"relDiff\"][bothZero] = 0.0\n",
    "    return rd, nonZero"
   ]
  },
  {
   "cell_type": "code",
   "execution_count": 906,
   "metadata": {},
   "outputs": [],
   "source": [
    "types_n = [\"reads_101\",\"reads_121\",\"reads_114\",\"reads_131\",\"reads_120\",\"reads_137\"]"
   ]
  },
  {
   "cell_type": "code",
   "execution_count": 910,
   "metadata": {},
   "outputs": [],
   "source": [
    "def prepareFileInfo(salmon_type):\n",
    "    #prefix = \"/mnt/scratch1/bleed_through_human/poly_reads/quant\"\n",
    "    prefix = \"/mnt/scratch7/hirak/bleed_through_7/exp_1_12/poly_reads_salmon/quant\"\n",
    "    #types = [\"reads_101\"]\n",
    "    types = all_types\n",
    "    #types = [ 'reads_85', 'reads_188', 'reads_141']\n",
    "    files = {}\n",
    "    for t in types:\n",
    "        fileinfo = {}\n",
    "        fileinfo[\"truth\"]= \"/\".join([prefix,t,\"truth.tsv\"])\n",
    "        #fileinfo[\"SLA\"] =  \"/\".join([prefix,t,\"salmon_out_noeff\",\"quant.sf\"])\n",
    "        #fileinfo[\"SLA\"] =  \"/\".join([prefix,t,\"salmon_out\",\"quant.sf\"])\n",
    "        fileinfo[\"SLA\"] =  \"/\".join([prefix,t,\"salmon_out\",salmon_type,\"quant.sf\"])\n",
    "        #fileinfo[\"SLA\"] = \"/home/rob/salmon_rescue_orphan/salmon/build/polyester_101/quant.sf\"\n",
    "        fileinfo[\"kallisto\"] = \"/\".join([prefix,t,\"kallisto_out\",\"abundance.tsv\"])\n",
    "        #fileinfo[\"bowtie\"] = \"/\".join([prefix,t,\"bowtie_out\",salmon_type,\"quant.sf\"])\n",
    "        fileinfo[\"hera\"] = \"/\".join([prefix,t,\"hera_out\",\"abundance.tsv\"])\n",
    "        #fileinfo[\"hera_mod\"] = \"/\".join([\"/home/rob/our_hera/hera-master\",t,\"abundance.tsv\"])\n",
    "        files[t] = fileinfo\n",
    "    return files"
   ]
  },
  {
   "cell_type": "code",
   "execution_count": null,
   "metadata": {},
   "outputs": [],
   "source": []
  },
  {
   "cell_type": "code",
   "execution_count": 911,
   "metadata": {},
   "outputs": [],
   "source": [
    "def getDataframe(files):\n",
    "    result_df = pd.DataFrame(columns=['sample','kallisto', 'SLA', 'hera'])\n",
    "    #types = [\"reads_101\"]\n",
    "    types = all_types\n",
    "    #types = [ 'reads_85', 'reads_188', 'reads_141']\n",
    "    for i,t in enumerate(types):\n",
    "        #print(t)\n",
    "        #df, truth, sla,kallisto,hera = getMergedDataFrameFast(t,files)\n",
    "        #df, truth, sla,kallisto,hera = mergeHeraKallisto(t,files)\n",
    "        df = mergeHeraKallisto(t,files)\n",
    "        #print df.columns\n",
    "        kal=df[\"count\"].corr(df[\"NumReads_KAL\"],method=\"spearman\")\n",
    "        sla=df[\"count\"].corr(df[\"NumReads\"],method=\"spearman\")\n",
    "        hera=df[\"count\"].corr(df[\"NumReads_hera\"],method=\"spearman\")\n",
    "        #kal=np.log(df[\"count\"]+1).corr(np.log(df[\"NumReads_KAL\"]+1),method=\"pearson\")\n",
    "        #sla=np.log(df[\"count\"]+1).corr(np.log(df[\"NumReads\"]+1),method=\"pearson\")\n",
    "        #hera=np.log(df[\"count\"]+1).corr(np.log(df[\"NumReads_hera\"]+1),method=\"pearson\")\n",
    "        \n",
    "        #bt=df[\"count\"].corr(df[\"NumReads_BT\"],method=\"spearman\")\n",
    "        #hera_mod=df[\"count\"].corr(df[\"NumReads_hera_mod\"],method=\"spearman\")\n",
    "        result_df.loc[i] = [t,kal,sla,hera]\n",
    "        #print(\"sample name: {}\".format(t))\n",
    "        #print(\"kallisto\",df[\"count\"].corr(df[\"NumReads_KAL\"],method=\"spearman\"))\n",
    "        #print(\"SLA\",df[\"count\"].corr(df[\"NumReads\"],method=\"spearman\"))\n",
    "        #print(\"BowTie2\",df_30[\"count\"].corr(df_30[\"NumReads_BT\"],method=\"spearman\"))\n",
    "        #print(\"hera\",df[\"count\"].corr(df[\"NumReads_hera\"],method=\"spearman\"))\n",
    "    return result_df"
   ]
  },
  {
   "cell_type": "code",
   "execution_count": 913,
   "metadata": {},
   "outputs": [
    {
     "name": "stdout",
     "output_type": "stream",
     "text": [
      "no_option\n",
      "      sample  kallisto       SLA      hera\n",
      "0   reads_25  0.855433  0.885988  0.812300\n",
      "1  reads_190  0.852799  0.884931  0.864503\n",
      "2    reads_2  0.849910  0.883271  0.793817\n",
      "no_eff\n",
      "      sample  kallisto       SLA      hera\n",
      "0   reads_25  0.855433  0.916158  0.812300\n",
      "1  reads_190  0.852799  0.916113  0.864503\n",
      "2    reads_2  0.849910  0.915263  0.793817\n"
     ]
    }
   ],
   "source": [
    "#result_df = pd.DataFrame(columns=['sample','kallisto', 'SLA', 'hera'])\n",
    "salmon_types = ['no_option','no_eff']\n",
    "#salmon_types = ['no_option']\n",
    "for salmon_type in salmon_types:\n",
    "    print(salmon_type)\n",
    "    files = prepareFileInfo(salmon_type)\n",
    "    #result_df.append(getDataframe(files),ignore_index=True)\n",
    "    result_df = getDataframe(files)\n",
    "    print result_df"
   ]
  },
  {
   "cell_type": "code",
   "execution_count": 508,
   "metadata": {},
   "outputs": [
    {
     "name": "stdout",
     "output_type": "stream",
     "text": [
      "no_option\n",
      "      sample  kallisto       SLA      hera\n",
      "0   reads_44  0.853658  0.886023  0.813214\n",
      "1  reads_179  0.851528  0.883645  0.855343\n",
      "2   reads_98  0.850943  0.883794  0.856524\n",
      "3   reads_92  0.850995  0.884072  0.801731\n",
      "4  reads_153  0.847678  0.914188  0.809491\n"
     ]
    }
   ],
   "source": [
    "salmon_types = ['no_option']\n",
    "for salmon_type in salmon_types:\n",
    "    print(salmon_type)\n",
    "    files = prepareFileInfo(salmon_type)\n",
    "    #result_df.append(getDataframe(files),ignore_index=True)\n",
    "    result_df = getDataframe(files)\n",
    "    print result_df"
   ]
  },
  {
   "cell_type": "code",
   "execution_count": 577,
   "metadata": {},
   "outputs": [
    {
     "name": "stdout",
     "output_type": "stream",
     "text": [
      "no_option\n",
      "      sample  kallisto       SLA      hera\n",
      "0   reads_44  0.853658  0.886023  0.813214\n",
      "1  reads_179  0.851528  0.883645  0.855343\n",
      "2   reads_98  0.850943  0.913969  0.856524\n",
      "3   reads_92  0.850995  0.884072  0.801731\n",
      "4  reads_153  0.847678  0.914188  0.809491\n"
     ]
    }
   ],
   "source": [
    "salmon_types = ['no_option']\n",
    "for salmon_type in salmon_types:\n",
    "    print(salmon_type)\n",
    "    files = prepareFileInfo(salmon_type)\n",
    "    #result_df.append(getDataframe(files),ignore_index=True)\n",
    "    result_df = getDataframe(files)\n",
    "    print result_df"
   ]
  },
  {
   "cell_type": "code",
   "execution_count": 535,
   "metadata": {},
   "outputs": [],
   "source": [
    "df_eff_length_salmon = pd.read_table(\"/mnt/scratch7/hirak/bleed_through_7/poly_reads_salmon\\\n",
    "/quant/reads_98/salmon_out/no_option/quant.sf\",\n",
    "                                   usecols=['Name','EffectiveLength','Length','TPM'])"
   ]
  },
  {
   "cell_type": "code",
   "execution_count": 537,
   "metadata": {},
   "outputs": [],
   "source": [
    "df_eff_length_salmon['Diff'] = df_eff_length_salmon.Length - df_eff_length_salmon.EffectiveLength"
   ]
  },
  {
   "cell_type": "code",
   "execution_count": 575,
   "metadata": {},
   "outputs": [
    {
     "data": {
      "text/plain": [
       "<matplotlib.collections.PathCollection at 0x7fa36f4b6b50>"
      ]
     },
     "execution_count": 575,
     "metadata": {},
     "output_type": "execute_result"
    },
    {
     "data": {
      "image/png": "[encoded data removed]",
      "text/plain": [
       "<Figure size 432x288 with 1 Axes>"
      ]
     },
     "metadata": {},
     "output_type": "display_data"
    }
   ],
   "source": [
    "plt.scatter(df_eff_length_salmon.loc[(df_eff_length_salmon.TPM > 0.0) & \\\n",
    "                         (df_eff_length_salmon.Length < 1000)].Length,\\\n",
    "            df_eff_length_salmon.loc[(df_eff_length_salmon.TPM > 0.0) & \\\n",
    "                         (df_eff_length_salmon.Length < 1000)].Diff)"
   ]
  },
  {
   "cell_type": "code",
   "execution_count": 582,
   "metadata": {},
   "outputs": [
    {
     "data": {
      "text/html": [
       "<div>\n",
       "<table border=\"1\" class=\"dataframe\">\n",
       "  <thead>\n",
       "    <tr style=\"text-align: right;\">\n",
       "      <th></th>\n",
       "      <th>Name</th>\n",
       "      <th>Length</th>\n",
       "      <th>EffectiveLength</th>\n",
       "      <th>TPM</th>\n",
       "      <th>Diff</th>\n",
       "    </tr>\n",
       "  </thead>\n",
       "  <tbody>\n",
       "    <tr>\n",
       "      <th>5</th>\n",
       "      <td>ENST00000502854.5</td>\n",
       "      <td>1480</td>\n",
       "      <td>1230.959</td>\n",
       "      <td>2.000641</td>\n",
       "      <td>249.041</td>\n",
       "    </tr>\n",
       "    <tr>\n",
       "      <th>42</th>\n",
       "      <td>ENST00000510479.5</td>\n",
       "      <td>2800</td>\n",
       "      <td>2550.959</td>\n",
       "      <td>17.176554</td>\n",
       "      <td>249.041</td>\n",
       "    </tr>\n",
       "    <tr>\n",
       "      <th>66</th>\n",
       "      <td>ENST00000355943.7</td>\n",
       "      <td>2385</td>\n",
       "      <td>2135.959</td>\n",
       "      <td>24.372294</td>\n",
       "      <td>249.041</td>\n",
       "    </tr>\n",
       "    <tr>\n",
       "      <th>74</th>\n",
       "      <td>ENST00000313368.7</td>\n",
       "      <td>2334</td>\n",
       "      <td>2084.959</td>\n",
       "      <td>72.776929</td>\n",
       "      <td>249.041</td>\n",
       "    </tr>\n",
       "    <tr>\n",
       "      <th>88</th>\n",
       "      <td>ENST00000350881.6</td>\n",
       "      <td>3222</td>\n",
       "      <td>2972.959</td>\n",
       "      <td>0.656134</td>\n",
       "      <td>249.041</td>\n",
       "    </tr>\n",
       "    <tr>\n",
       "      <th>93</th>\n",
       "      <td>ENST00000446148.6</td>\n",
       "      <td>3323</td>\n",
       "      <td>3073.959</td>\n",
       "      <td>5.885688</td>\n",
       "      <td>249.041</td>\n",
       "    </tr>\n",
       "    <tr>\n",
       "      <th>101</th>\n",
       "      <td>ENST00000606203.1</td>\n",
       "      <td>2436</td>\n",
       "      <td>2186.959</td>\n",
       "      <td>0.111494</td>\n",
       "      <td>249.041</td>\n",
       "    </tr>\n",
       "    <tr>\n",
       "      <th>106</th>\n",
       "      <td>ENST00000513223.2</td>\n",
       "      <td>1066</td>\n",
       "      <td>816.959</td>\n",
       "      <td>0.059693</td>\n",
       "      <td>249.041</td>\n",
       "    </tr>\n",
       "    <tr>\n",
       "      <th>111</th>\n",
       "      <td>ENST00000513588.5</td>\n",
       "      <td>3818</td>\n",
       "      <td>3568.959</td>\n",
       "      <td>0.020496</td>\n",
       "      <td>249.041</td>\n",
       "    </tr>\n",
       "    <tr>\n",
       "      <th>131</th>\n",
       "      <td>ENST00000508316.2</td>\n",
       "      <td>1912</td>\n",
       "      <td>1662.959</td>\n",
       "      <td>0.014663</td>\n",
       "      <td>249.041</td>\n",
       "    </tr>\n",
       "    <tr>\n",
       "      <th>143</th>\n",
       "      <td>ENST00000256443.7</td>\n",
       "      <td>1439</td>\n",
       "      <td>1189.959</td>\n",
       "      <td>27.662617</td>\n",
       "      <td>249.041</td>\n",
       "    </tr>\n",
       "    <tr>\n",
       "      <th>170</th>\n",
       "      <td>ENST00000161863.8</td>\n",
       "      <td>6316</td>\n",
       "      <td>6066.959</td>\n",
       "      <td>10.437399</td>\n",
       "      <td>249.041</td>\n",
       "    </tr>\n",
       "    <tr>\n",
       "      <th>198</th>\n",
       "      <td>ENST00000289422.11</td>\n",
       "      <td>2923</td>\n",
       "      <td>2673.959</td>\n",
       "      <td>0.300920</td>\n",
       "      <td>249.041</td>\n",
       "    </tr>\n",
       "    <tr>\n",
       "      <th>217</th>\n",
       "      <td>ENST00000329378.7</td>\n",
       "      <td>2262</td>\n",
       "      <td>2012.959</td>\n",
       "      <td>0.266489</td>\n",
       "      <td>249.041</td>\n",
       "    </tr>\n",
       "    <tr>\n",
       "      <th>244</th>\n",
       "      <td>ENST00000511461.5</td>\n",
       "      <td>3076</td>\n",
       "      <td>2826.959</td>\n",
       "      <td>21.485509</td>\n",
       "      <td>249.041</td>\n",
       "    </tr>\n",
       "    <tr>\n",
       "      <th>266</th>\n",
       "      <td>ENST00000287008.7</td>\n",
       "      <td>4793</td>\n",
       "      <td>4543.959</td>\n",
       "      <td>0.036870</td>\n",
       "      <td>249.041</td>\n",
       "    </tr>\n",
       "    <tr>\n",
       "      <th>280</th>\n",
       "      <td>ENST00000514852.1</td>\n",
       "      <td>1386</td>\n",
       "      <td>1136.959</td>\n",
       "      <td>0.128676</td>\n",
       "      <td>249.041</td>\n",
       "    </tr>\n",
       "    <tr>\n",
       "      <th>285</th>\n",
       "      <td>ENST00000520953.5</td>\n",
       "      <td>2172</td>\n",
       "      <td>1922.959</td>\n",
       "      <td>43.784259</td>\n",
       "      <td>249.041</td>\n",
       "    </tr>\n",
       "    <tr>\n",
       "      <th>305</th>\n",
       "      <td>ENST00000311337.10</td>\n",
       "      <td>2273</td>\n",
       "      <td>2023.959</td>\n",
       "      <td>41.828227</td>\n",
       "      <td>249.041</td>\n",
       "    </tr>\n",
       "    <tr>\n",
       "      <th>320</th>\n",
       "      <td>ENST00000604354.1</td>\n",
       "      <td>1066</td>\n",
       "      <td>816.959</td>\n",
       "      <td>33.783712</td>\n",
       "      <td>249.041</td>\n",
       "    </tr>\n",
       "    <tr>\n",
       "      <th>328</th>\n",
       "      <td>ENST00000502001.2</td>\n",
       "      <td>1005</td>\n",
       "      <td>755.959</td>\n",
       "      <td>3.064199</td>\n",
       "      <td>249.041</td>\n",
       "    </tr>\n",
       "    <tr>\n",
       "      <th>329</th>\n",
       "      <td>ENST00000310581.9</td>\n",
       "      <td>4018</td>\n",
       "      <td>3768.959</td>\n",
       "      <td>2.341955</td>\n",
       "      <td>249.041</td>\n",
       "    </tr>\n",
       "    <tr>\n",
       "      <th>341</th>\n",
       "      <td>ENST00000507505.5</td>\n",
       "      <td>1009</td>\n",
       "      <td>759.959</td>\n",
       "      <td>11.358073</td>\n",
       "      <td>249.041</td>\n",
       "    </tr>\n",
       "    <tr>\n",
       "      <th>350</th>\n",
       "      <td>ENST00000255764.3</td>\n",
       "      <td>1141</td>\n",
       "      <td>891.959</td>\n",
       "      <td>23.755622</td>\n",
       "      <td>249.041</td>\n",
       "    </tr>\n",
       "    <tr>\n",
       "      <th>354</th>\n",
       "      <td>ENST00000318469.2</td>\n",
       "      <td>2119</td>\n",
       "      <td>1869.959</td>\n",
       "      <td>0.612854</td>\n",
       "      <td>249.041</td>\n",
       "    </tr>\n",
       "    <tr>\n",
       "      <th>365</th>\n",
       "      <td>ENST00000381405.4</td>\n",
       "      <td>2169</td>\n",
       "      <td>1919.959</td>\n",
       "      <td>20.497601</td>\n",
       "      <td>249.041</td>\n",
       "    </tr>\n",
       "    <tr>\n",
       "      <th>369</th>\n",
       "      <td>ENST00000506471.1</td>\n",
       "      <td>2094</td>\n",
       "      <td>1844.959</td>\n",
       "      <td>0.026432</td>\n",
       "      <td>249.041</td>\n",
       "    </tr>\n",
       "    <tr>\n",
       "      <th>383</th>\n",
       "      <td>ENST00000508366.5</td>\n",
       "      <td>3524</td>\n",
       "      <td>3274.959</td>\n",
       "      <td>2.203826</td>\n",
       "      <td>249.041</td>\n",
       "    </tr>\n",
       "    <tr>\n",
       "      <th>429</th>\n",
       "      <td>ENST00000264669.9</td>\n",
       "      <td>2402</td>\n",
       "      <td>2152.959</td>\n",
       "      <td>7.554079</td>\n",
       "      <td>249.041</td>\n",
       "    </tr>\n",
       "    <tr>\n",
       "      <th>449</th>\n",
       "      <td>ENST00000518783.1</td>\n",
       "      <td>5233</td>\n",
       "      <td>4983.959</td>\n",
       "      <td>0.004892</td>\n",
       "      <td>249.041</td>\n",
       "    </tr>\n",
       "    <tr>\n",
       "      <th>...</th>\n",
       "      <td>...</td>\n",
       "      <td>...</td>\n",
       "      <td>...</td>\n",
       "      <td>...</td>\n",
       "      <td>...</td>\n",
       "    </tr>\n",
       "    <tr>\n",
       "      <th>199854</th>\n",
       "      <td>ENST00000621064.1</td>\n",
       "      <td>1669</td>\n",
       "      <td>1419.959</td>\n",
       "      <td>0.000447</td>\n",
       "      <td>249.041</td>\n",
       "    </tr>\n",
       "    <tr>\n",
       "      <th>199858</th>\n",
       "      <td>ENST00000338785.7</td>\n",
       "      <td>5498</td>\n",
       "      <td>5248.959</td>\n",
       "      <td>12.900131</td>\n",
       "      <td>249.041</td>\n",
       "    </tr>\n",
       "    <tr>\n",
       "      <th>199889</th>\n",
       "      <td>ENST00000398505.7</td>\n",
       "      <td>6846</td>\n",
       "      <td>6596.959</td>\n",
       "      <td>3.829194</td>\n",
       "      <td>249.041</td>\n",
       "    </tr>\n",
       "    <tr>\n",
       "      <th>199907</th>\n",
       "      <td>ENST00000619120.4</td>\n",
       "      <td>2028</td>\n",
       "      <td>1778.959</td>\n",
       "      <td>0.209607</td>\n",
       "      <td>249.041</td>\n",
       "    </tr>\n",
       "    <tr>\n",
       "      <th>199908</th>\n",
       "      <td>ENST00000400566.5</td>\n",
       "      <td>1888</td>\n",
       "      <td>1638.959</td>\n",
       "      <td>0.000003</td>\n",
       "      <td>249.041</td>\n",
       "    </tr>\n",
       "    <tr>\n",
       "      <th>199917</th>\n",
       "      <td>ENST00000397746.7</td>\n",
       "      <td>1878</td>\n",
       "      <td>1628.959</td>\n",
       "      <td>0.224529</td>\n",
       "      <td>249.041</td>\n",
       "    </tr>\n",
       "    <tr>\n",
       "      <th>199962</th>\n",
       "      <td>ENST00000389861.7</td>\n",
       "      <td>5031</td>\n",
       "      <td>4781.959</td>\n",
       "      <td>2.993303</td>\n",
       "      <td>249.041</td>\n",
       "    </tr>\n",
       "    <tr>\n",
       "      <th>199969</th>\n",
       "      <td>ENST00000629643.2</td>\n",
       "      <td>4583</td>\n",
       "      <td>4333.959</td>\n",
       "      <td>0.157325</td>\n",
       "      <td>249.041</td>\n",
       "    </tr>\n",
       "    <tr>\n",
       "      <th>199982</th>\n",
       "      <td>ENST00000623919.1</td>\n",
       "      <td>1422</td>\n",
       "      <td>1172.959</td>\n",
       "      <td>1.829327</td>\n",
       "      <td>249.041</td>\n",
       "    </tr>\n",
       "    <tr>\n",
       "      <th>199992</th>\n",
       "      <td>ENST00000416067.5</td>\n",
       "      <td>1599</td>\n",
       "      <td>1349.959</td>\n",
       "      <td>12.336490</td>\n",
       "      <td>249.041</td>\n",
       "    </tr>\n",
       "    <tr>\n",
       "      <th>200004</th>\n",
       "      <td>ENST00000611026.1</td>\n",
       "      <td>2195</td>\n",
       "      <td>1945.959</td>\n",
       "      <td>4.235205</td>\n",
       "      <td>249.041</td>\n",
       "    </tr>\n",
       "    <tr>\n",
       "      <th>200022</th>\n",
       "      <td>ENST00000334538.13</td>\n",
       "      <td>3077</td>\n",
       "      <td>2827.959</td>\n",
       "      <td>14.692237</td>\n",
       "      <td>249.041</td>\n",
       "    </tr>\n",
       "    <tr>\n",
       "      <th>200053</th>\n",
       "      <td>ENST00000400314.5</td>\n",
       "      <td>2202</td>\n",
       "      <td>1952.959</td>\n",
       "      <td>2.110012</td>\n",
       "      <td>249.041</td>\n",
       "    </tr>\n",
       "    <tr>\n",
       "      <th>200061</th>\n",
       "      <td>ENST00000285681.6</td>\n",
       "      <td>5216</td>\n",
       "      <td>4966.959</td>\n",
       "      <td>11.884902</td>\n",
       "      <td>249.041</td>\n",
       "    </tr>\n",
       "    <tr>\n",
       "      <th>200067</th>\n",
       "      <td>ENST00000399976.6</td>\n",
       "      <td>2963</td>\n",
       "      <td>2713.959</td>\n",
       "      <td>17.672277</td>\n",
       "      <td>249.041</td>\n",
       "    </tr>\n",
       "    <tr>\n",
       "      <th>200120</th>\n",
       "      <td>ENST00000433951.1</td>\n",
       "      <td>1109</td>\n",
       "      <td>859.959</td>\n",
       "      <td>1.616176</td>\n",
       "      <td>249.041</td>\n",
       "    </tr>\n",
       "    <tr>\n",
       "      <th>200130</th>\n",
       "      <td>ENST00000398598.7</td>\n",
       "      <td>2850</td>\n",
       "      <td>2600.959</td>\n",
       "      <td>3.721761</td>\n",
       "      <td>249.041</td>\n",
       "    </tr>\n",
       "    <tr>\n",
       "      <th>200151</th>\n",
       "      <td>ENST00000400362.2</td>\n",
       "      <td>1460</td>\n",
       "      <td>1210.959</td>\n",
       "      <td>8.497174</td>\n",
       "      <td>249.041</td>\n",
       "    </tr>\n",
       "    <tr>\n",
       "      <th>200157</th>\n",
       "      <td>ENST00000490358.5</td>\n",
       "      <td>1155</td>\n",
       "      <td>905.959</td>\n",
       "      <td>0.053829</td>\n",
       "      <td>249.041</td>\n",
       "    </tr>\n",
       "    <tr>\n",
       "      <th>200176</th>\n",
       "      <td>ENST00000475776.1</td>\n",
       "      <td>2178</td>\n",
       "      <td>1928.959</td>\n",
       "      <td>2.730374</td>\n",
       "      <td>249.041</td>\n",
       "    </tr>\n",
       "    <tr>\n",
       "      <th>200182</th>\n",
       "      <td>ENST00000284885.7</td>\n",
       "      <td>3947</td>\n",
       "      <td>3697.959</td>\n",
       "      <td>88.078674</td>\n",
       "      <td>249.041</td>\n",
       "    </tr>\n",
       "    <tr>\n",
       "      <th>200198</th>\n",
       "      <td>ENST00000615804.1</td>\n",
       "      <td>2195</td>\n",
       "      <td>1945.959</td>\n",
       "      <td>4.235205</td>\n",
       "      <td>249.041</td>\n",
       "    </tr>\n",
       "    <tr>\n",
       "      <th>200202</th>\n",
       "      <td>ENST00000400127.5</td>\n",
       "      <td>2239</td>\n",
       "      <td>1989.959</td>\n",
       "      <td>0.379847</td>\n",
       "      <td>249.041</td>\n",
       "    </tr>\n",
       "    <tr>\n",
       "      <th>200220</th>\n",
       "      <td>ENST00000286827.7</td>\n",
       "      <td>7200</td>\n",
       "      <td>6950.959</td>\n",
       "      <td>0.771737</td>\n",
       "      <td>249.041</td>\n",
       "    </tr>\n",
       "    <tr>\n",
       "      <th>200316</th>\n",
       "      <td>ENST00000450895.1</td>\n",
       "      <td>1050</td>\n",
       "      <td>800.959</td>\n",
       "      <td>0.015221</td>\n",
       "      <td>249.041</td>\n",
       "    </tr>\n",
       "    <tr>\n",
       "      <th>200321</th>\n",
       "      <td>ENST00000349048.8</td>\n",
       "      <td>2912</td>\n",
       "      <td>2662.959</td>\n",
       "      <td>76.767646</td>\n",
       "      <td>249.041</td>\n",
       "    </tr>\n",
       "    <tr>\n",
       "      <th>200337</th>\n",
       "      <td>ENST00000399208.6</td>\n",
       "      <td>1165</td>\n",
       "      <td>915.959</td>\n",
       "      <td>7.533033</td>\n",
       "      <td>249.041</td>\n",
       "    </tr>\n",
       "    <tr>\n",
       "      <th>200341</th>\n",
       "      <td>ENST00000487297.5</td>\n",
       "      <td>3358</td>\n",
       "      <td>3108.959</td>\n",
       "      <td>3.513617</td>\n",
       "      <td>249.041</td>\n",
       "    </tr>\n",
       "    <tr>\n",
       "      <th>200356</th>\n",
       "      <td>ENST00000332587.8</td>\n",
       "      <td>1476</td>\n",
       "      <td>1226.959</td>\n",
       "      <td>0.019873</td>\n",
       "      <td>249.041</td>\n",
       "    </tr>\n",
       "    <tr>\n",
       "      <th>200361</th>\n",
       "      <td>ENST00000455528.5</td>\n",
       "      <td>8394</td>\n",
       "      <td>8144.959</td>\n",
       "      <td>46.925623</td>\n",
       "      <td>249.041</td>\n",
       "    </tr>\n",
       "  </tbody>\n",
       "</table>\n",
       "<p>13105 rows × 5 columns</p>\n",
       "</div>"
      ],
      "text/plain": [
       "                      Name  Length  EffectiveLength        TPM     Diff\n",
       "5        ENST00000502854.5    1480         1230.959   2.000641  249.041\n",
       "42       ENST00000510479.5    2800         2550.959  17.176554  249.041\n",
       "66       ENST00000355943.7    2385         2135.959  24.372294  249.041\n",
       "74       ENST00000313368.7    2334         2084.959  72.776929  249.041\n",
       "88       ENST00000350881.6    3222         2972.959   0.656134  249.041\n",
       "93       ENST00000446148.6    3323         3073.959   5.885688  249.041\n",
       "101      ENST00000606203.1    2436         2186.959   0.111494  249.041\n",
       "106      ENST00000513223.2    1066          816.959   0.059693  249.041\n",
       "111      ENST00000513588.5    3818         3568.959   0.020496  249.041\n",
       "131      ENST00000508316.2    1912         1662.959   0.014663  249.041\n",
       "143      ENST00000256443.7    1439         1189.959  27.662617  249.041\n",
       "170      ENST00000161863.8    6316         6066.959  10.437399  249.041\n",
       "198     ENST00000289422.11    2923         2673.959   0.300920  249.041\n",
       "217      ENST00000329378.7    2262         2012.959   0.266489  249.041\n",
       "244      ENST00000511461.5    3076         2826.959  21.485509  249.041\n",
       "266      ENST00000287008.7    4793         4543.959   0.036870  249.041\n",
       "280      ENST00000514852.1    1386         1136.959   0.128676  249.041\n",
       "285      ENST00000520953.5    2172         1922.959  43.784259  249.041\n",
       "305     ENST00000311337.10    2273         2023.959  41.828227  249.041\n",
       "320      ENST00000604354.1    1066          816.959  33.783712  249.041\n",
       "328      ENST00000502001.2    1005          755.959   3.064199  249.041\n",
       "329      ENST00000310581.9    4018         3768.959   2.341955  249.041\n",
       "341      ENST00000507505.5    1009          759.959  11.358073  249.041\n",
       "350      ENST00000255764.3    1141          891.959  23.755622  249.041\n",
       "354      ENST00000318469.2    2119         1869.959   0.612854  249.041\n",
       "365      ENST00000381405.4    2169         1919.959  20.497601  249.041\n",
       "369      ENST00000506471.1    2094         1844.959   0.026432  249.041\n",
       "383      ENST00000508366.5    3524         3274.959   2.203826  249.041\n",
       "429      ENST00000264669.9    2402         2152.959   7.554079  249.041\n",
       "449      ENST00000518783.1    5233         4983.959   0.004892  249.041\n",
       "...                    ...     ...              ...        ...      ...\n",
       "199854   ENST00000621064.1    1669         1419.959   0.000447  249.041\n",
       "199858   ENST00000338785.7    5498         5248.959  12.900131  249.041\n",
       "199889   ENST00000398505.7    6846         6596.959   3.829194  249.041\n",
       "199907   ENST00000619120.4    2028         1778.959   0.209607  249.041\n",
       "199908   ENST00000400566.5    1888         1638.959   0.000003  249.041\n",
       "199917   ENST00000397746.7    1878         1628.959   0.224529  249.041\n",
       "199962   ENST00000389861.7    5031         4781.959   2.993303  249.041\n",
       "199969   ENST00000629643.2    4583         4333.959   0.157325  249.041\n",
       "199982   ENST00000623919.1    1422         1172.959   1.829327  249.041\n",
       "199992   ENST00000416067.5    1599         1349.959  12.336490  249.041\n",
       "200004   ENST00000611026.1    2195         1945.959   4.235205  249.041\n",
       "200022  ENST00000334538.13    3077         2827.959  14.692237  249.041\n",
       "200053   ENST00000400314.5    2202         1952.959   2.110012  249.041\n",
       "200061   ENST00000285681.6    5216         4966.959  11.884902  249.041\n",
       "200067   ENST00000399976.6    2963         2713.959  17.672277  249.041\n",
       "200120   ENST00000433951.1    1109          859.959   1.616176  249.041\n",
       "200130   ENST00000398598.7    2850         2600.959   3.721761  249.041\n",
       "200151   ENST00000400362.2    1460         1210.959   8.497174  249.041\n",
       "200157   ENST00000490358.5    1155          905.959   0.053829  249.041\n",
       "200176   ENST00000475776.1    2178         1928.959   2.730374  249.041\n",
       "200182   ENST00000284885.7    3947         3697.959  88.078674  249.041\n",
       "200198   ENST00000615804.1    2195         1945.959   4.235205  249.041\n",
       "200202   ENST00000400127.5    2239         1989.959   0.379847  249.041\n",
       "200220   ENST00000286827.7    7200         6950.959   0.771737  249.041\n",
       "200316   ENST00000450895.1    1050          800.959   0.015221  249.041\n",
       "200321   ENST00000349048.8    2912         2662.959  76.767646  249.041\n",
       "200337   ENST00000399208.6    1165          915.959   7.533033  249.041\n",
       "200341   ENST00000487297.5    3358         3108.959   3.513617  249.041\n",
       "200356   ENST00000332587.8    1476         1226.959   0.019873  249.041\n",
       "200361   ENST00000455528.5    8394         8144.959  46.925623  249.041\n",
       "\n",
       "[13105 rows x 5 columns]"
      ]
     },
     "execution_count": 582,
     "metadata": {},
     "output_type": "execute_result"
    }
   ],
   "source": [
    "df_eff_length_salmon.loc[(df_eff_length_salmon.TPM > 0) & (df_eff_length_salmon.Length > 1000)]"
   ]
  },
  {
   "cell_type": "code",
   "execution_count": 563,
   "metadata": {},
   "outputs": [
    {
     "data": {
      "text/plain": [
       "8953"
      ]
     },
     "execution_count": 563,
     "metadata": {},
     "output_type": "execute_result"
    }
   ],
   "source": [
    "len(df_eff_length_salmon.loc[df_eff_length_salmon.Diff < 200.0])"
   ]
  },
  {
   "cell_type": "code",
   "execution_count": 571,
   "metadata": {},
   "outputs": [
    {
     "data": {
      "text/plain": [
       "186674"
      ]
     },
     "execution_count": 571,
     "metadata": {},
     "output_type": "execute_result"
    }
   ],
   "source": [
    "len(df_eff_length_salmon.loc[(df_eff_length_salmon.Diff > 246.0) &\\\n",
    "                             (df_eff_length_salmon.Diff < 250.0)])"
   ]
  },
  {
   "cell_type": "code",
   "execution_count": 562,
   "metadata": {},
   "outputs": [
    {
     "data": {
      "text/plain": [
       "<matplotlib.collections.PathCollection at 0x7fa36e699c10>"
      ]
     },
     "execution_count": 562,
     "metadata": {},
     "output_type": "execute_result"
    },
    {
     "data": {
      "image/png": "[encoded data removed]",
      "text/plain": [
       "<Figure size 432x288 with 1 Axes>"
      ]
     },
     "metadata": {},
     "output_type": "display_data"
    }
   ],
   "source": [
    "plt.scatter(np.log(df_eff_length_salmon.loc[df_eff_length_salmon.TPM > 0.0].TPM+1) ,\\\n",
    "            df_eff_length_salmon.loc[df_eff_length_salmon.TPM > 0.0].Diff,alpha=0.5)"
   ]
  },
  {
   "cell_type": "code",
   "execution_count": 543,
   "metadata": {},
   "outputs": [
    {
     "data": {
      "text/plain": [
       "241.9730941661968"
      ]
     },
     "execution_count": 543,
     "metadata": {},
     "output_type": "execute_result"
    }
   ],
   "source": [
    "df_eff_length_salmon.Diff.mean()"
   ]
  },
  {
   "cell_type": "code",
   "execution_count": 532,
   "metadata": {},
   "outputs": [
    {
     "data": {
      "text/plain": [
       "1415.9532147773314"
      ]
     },
     "execution_count": 532,
     "metadata": {},
     "output_type": "execute_result"
    }
   ],
   "source": [
    "df_eff_length_salmon.loc[(df_eff_length_salmon.TPM == 0.0) & \\\n",
    "                         (df_eff_length_salmon.Length - df_eff_length_salmon.EffectiveLength > 0)].Length.mean()"
   ]
  },
  {
   "cell_type": "code",
   "execution_count": 545,
   "metadata": {},
   "outputs": [],
   "source": [
    "df_eff_length_cut = pd.read_table(\"/mnt/scratch7/hirak/bleed_through_7/poly_reads_salmon\\\n",
    "/quant/reads_98/salmon_out/eff_cut/quant.sf\",\n",
    "                                   usecols=['Name','EffectiveLength','Length','TPM'])\n",
    "df_eff_length_cut['Diff'] = df_eff_length_cut.Length - df_eff_length_cut.EffectiveLength"
   ]
  },
  {
   "cell_type": "code",
   "execution_count": 546,
   "metadata": {},
   "outputs": [
    {
     "data": {
      "text/plain": [
       "235.9489271710221"
      ]
     },
     "execution_count": 546,
     "metadata": {},
     "output_type": "execute_result"
    }
   ],
   "source": [
    "df_eff_length_cut.Diff.mean()"
   ]
  },
  {
   "cell_type": "code",
   "execution_count": 398,
   "metadata": {},
   "outputs": [],
   "source": [
    "fs = prepareFileInfo(\"no_option\")"
   ]
  },
  {
   "cell_type": "code",
   "execution_count": 399,
   "metadata": {},
   "outputs": [],
   "source": [
    "fd  = mergeHeraKallisto('reads_85',fs)"
   ]
  },
  {
   "cell_type": "code",
   "execution_count": 407,
   "metadata": {},
   "outputs": [
    {
     "data": {
      "text/plain": [
       "0.8433905395026604"
      ]
     },
     "execution_count": 407,
     "metadata": {},
     "output_type": "execute_result"
    }
   ],
   "source": [
    "fd[\"count\"].corr(fd[\"NumReads_KAL\"],method=\"spearman\")"
   ]
  },
  {
   "cell_type": "code",
   "execution_count": 489,
   "metadata": {},
   "outputs": [
    {
     "name": "stdout",
     "output_type": "stream",
     "text": [
      "no_option\n",
      "vb_opt\n",
      "no_eff\n",
      "no_eff_vb\n"
     ]
    }
   ],
   "source": [
    "salmon_types = ['no_option','vb_opt','no_eff','no_eff_vb']\n",
    "#salmon_types = ['no_option']\n",
    "dataframe_dict = {}\n",
    "for salmon_type in salmon_types:\n",
    "    print(salmon_type)\n",
    "    files = prepareFileInfo(salmon_type)\n",
    "    #result_df.append(getDataframe(files),ignore_index=True)\n",
    "    result_df = getDataframe(files)\n",
    "    dataframe_dict[salmon_type] = result_df\n",
    "    #print(\"kallisto\\thera\\tSLA\\tBT\")\n",
    "    #print (\"{0:.4f}\\t{0:.4f}\\t{0:.4f}\\t{0:.4f}\".format(result_df['kallisto'].mean(),\\\n",
    "    #                 result_df['hera'].mean(),result_df['SLA'].mean(),result_df['BT'].mean()))"
   ]
  },
  {
   "cell_type": "code",
   "execution_count": 490,
   "metadata": {},
   "outputs": [
    {
     "data": {
      "text/plain": [
       "'\\nfor salmon_type in salmon_types:\\n    print salmon_type\\n    result_df = dataframe_dict[salmon_type]\\n    print(\"Agg\\tkallisto\\thera\\tSLA\\tBT\")\\n    #print result_df\\n    print (\"Mean\\t{0:.4f}\\t\\t{1:.4f}\\t{2:.4f}\\t{3:.4f}\".format(result_df[\\'kallisto\\'].mean(),                     result_df[\\'hera\\'].mean(),result_df[\\'SLA\\'].mean(),result_df[\\'BT\\'].mean()))\\n    print (\"SE\\t{0:.4f}\\t\\t{1:.4f}\\t{2:.4f}\\t{3:.4f}\".format(result_df[\\'kallisto\\'].sem(),                     result_df[\\'hera\\'].sem(),result_df[\\'SLA\\'].sem(),result_df[\\'BT\\'].sem()))\\n    print (\"Median\\t{0:.4f}\\t\\t{1:.4f}\\t{2:.4f}\\t{3:.4f}\".format(result_df[\\'kallisto\\'].median(),                     result_df[\\'hera\\'].median(),result_df[\\'SLA\\'].median(),result_df[\\'BT\\'].median()))\\n'"
      ]
     },
     "execution_count": 490,
     "metadata": {},
     "output_type": "execute_result"
    }
   ],
   "source": [
    "'''\n",
    "for salmon_type in salmon_types:\n",
    "    print salmon_type\n",
    "    result_df = dataframe_dict[salmon_type]\n",
    "    print(\"Agg\\tkallisto\\thera\\tSLA\\tBT\")\n",
    "    #print result_df\n",
    "    print (\"Mean\\t{0:.4f}\\t\\t{1:.4f}\\t{2:.4f}\\t{3:.4f}\".format(result_df['kallisto'].mean(),\\\n",
    "                     result_df['hera'].mean(),result_df['SLA'].mean(),result_df['BT'].mean()))\n",
    "    print (\"SE\\t{0:.4f}\\t\\t{1:.4f}\\t{2:.4f}\\t{3:.4f}\".format(result_df['kallisto'].sem(),\\\n",
    "                     result_df['hera'].sem(),result_df['SLA'].sem(),result_df['BT'].sem()))\n",
    "    print (\"Median\\t{0:.4f}\\t\\t{1:.4f}\\t{2:.4f}\\t{3:.4f}\".format(result_df['kallisto'].median(),\\\n",
    "                     result_df['hera'].median(),result_df['SLA'].median(),result_df['BT'].median()))\n",
    "'''"
   ]
  },
  {
   "cell_type": "code",
   "execution_count": 491,
   "metadata": {},
   "outputs": [
    {
     "name": "stdout",
     "output_type": "stream",
     "text": [
      "no_option\n",
      "Agg\tkallisto\thera\tSLA\n",
      "Mean\t0.8510\t\t0.8273\t0.8837\n",
      "SE\t0.0010\t\t0.0119\t0.0008\n",
      "Median\t0.8510\t\t0.8132\t0.8839\n",
      "vb_opt\n",
      "Agg\tkallisto\thera\tSLA\n",
      "Mean\t0.8510\t\t0.8273\t0.9035\n",
      "SE\t0.0010\t\t0.0119\t0.0004\n",
      "Median\t0.8510\t\t0.8132\t0.9034\n",
      "no_eff\n",
      "Agg\tkallisto\thera\tSLA\n",
      "Mean\t0.8510\t\t0.8273\t0.9143\n",
      "SE\t0.0010\t\t0.0119\t0.0006\n",
      "Median\t0.8510\t\t0.8132\t0.9143\n",
      "no_eff_vb\n",
      "Agg\tkallisto\thera\tSLA\n",
      "Mean\t0.8510\t\t0.8273\t0.9048\n",
      "SE\t0.0010\t\t0.0119\t0.0004\n",
      "Median\t0.8510\t\t0.8132\t0.9046\n"
     ]
    }
   ],
   "source": [
    "for salmon_type in salmon_types:\n",
    "    print salmon_type\n",
    "    result_df = dataframe_dict[salmon_type]\n",
    "    print(\"Agg\\tkallisto\\thera\\tSLA\")\n",
    "    #print result_df\n",
    "    print (\"Mean\\t{0:.4f}\\t\\t{1:.4f}\\t{2:.4f}\".format(result_df['kallisto'].mean(),\\\n",
    "                     result_df['hera'].mean(),result_df['SLA'].mean()))\n",
    "    print (\"SE\\t{0:.4f}\\t\\t{1:.4f}\\t{2:.4f}\".format(result_df['kallisto'].sem(),\\\n",
    "                     result_df['hera'].sem(),result_df['SLA'].sem()))\n",
    "    print (\"Median\\t{0:.4f}\\t\\t{1:.4f}\\t{2:.4f}\".format(result_df['kallisto'].median(),\\\n",
    "                     result_df['hera'].median(),result_df['SLA'].median()))"
   ]
  },
  {
   "cell_type": "code",
   "execution_count": 492,
   "metadata": {},
   "outputs": [
    {
     "name": "stdout",
     "output_type": "stream",
     "text": [
      "no_option\n",
      "       kallisto       SLA      hera\n",
      "count  5.000000  5.000000  5.000000\n",
      "mean   0.850961  0.883745  0.827261\n",
      "std    0.002144  0.001772  0.026504\n",
      "min    0.847678  0.881043  0.801731\n",
      "25%    0.850943  0.883793  0.809491\n",
      "50%    0.850995  0.883919  0.813214\n",
      "75%    0.851528  0.883946  0.855343\n",
      "max    0.853658  0.886022  0.856524\n",
      "vb_opt\n",
      "       kallisto       SLA      hera\n",
      "count  5.000000  5.000000  5.000000\n",
      "mean   0.850961  0.903521  0.827261\n",
      "std    0.002144  0.000951  0.026504\n",
      "min    0.847678  0.902391  0.801731\n",
      "25%    0.850943  0.902972  0.809491\n",
      "50%    0.850995  0.903408  0.813214\n",
      "75%    0.851528  0.903961  0.855343\n",
      "max    0.853658  0.904874  0.856524\n",
      "no_eff\n",
      "       kallisto       SLA      hera\n",
      "count  5.000000  5.000000  5.000000\n",
      "mean   0.850961  0.914313  0.827261\n",
      "std    0.002144  0.001325  0.026504\n",
      "min    0.847678  0.912672  0.801731\n",
      "25%    0.850943  0.913813  0.809491\n",
      "50%    0.850995  0.914312  0.813214\n",
      "75%    0.851528  0.914438  0.855343\n",
      "max    0.853658  0.916330  0.856524\n",
      "no_eff_vb\n",
      "       kallisto       SLA      hera\n",
      "count  5.000000  5.000000  5.000000\n",
      "mean   0.850961  0.904786  0.827261\n",
      "std    0.002144  0.000995  0.026504\n",
      "min    0.847678  0.903990  0.801731\n",
      "25%    0.850943  0.904180  0.809491\n",
      "50%    0.850995  0.904606  0.813214\n",
      "75%    0.851528  0.904664  0.855343\n",
      "max    0.853658  0.906492  0.856524\n"
     ]
    }
   ],
   "source": [
    "for salmon_type in salmon_types:\n",
    "    print salmon_type\n",
    "    result_df = dataframe_dict[salmon_type]\n",
    "    #print(\"Agg\\tkallisto\\thera\\tSLA\\tBT\")\n",
    "    #print result_df\n",
    "    print result_df.describe()"
   ]
  },
  {
   "cell_type": "code",
   "execution_count": 487,
   "metadata": {},
   "outputs": [
    {
     "name": "stdout",
     "output_type": "stream",
     "text": [
      "0.8387\n"
     ]
    }
   ],
   "source": [
    "print(\"{0:.4f}\".format(dataframe_dict['vb_opt']['hera'].mean()))"
   ]
  },
  {
   "cell_type": "code",
   "execution_count": 488,
   "metadata": {
    "scrolled": true
   },
   "outputs": [
    {
     "data": {
      "text/plain": [
       "<matplotlib.axes._subplots.AxesSubplot at 0x7fa36d4a1ad0>"
      ]
     },
     "execution_count": 488,
     "metadata": {},
     "output_type": "execute_result"
    },
    {
     "data": {
      "image/png": "[encoded data removed]",
      "text/plain": [
       "<Figure size 432x288 with 1 Axes>"
      ]
     },
     "metadata": {},
     "output_type": "display_data"
    }
   ],
   "source": [
    "sns.set_style(\"white\")\n",
    "fig = plt.figure()\n",
    "ax = fig.add_subplot(111)\n",
    "result_df.plot(marker='o',rot=60,ax=ax)\n",
    "#ax.set_xticks(result_df.index)"
   ]
  },
  {
   "cell_type": "code",
   "execution_count": 180,
   "metadata": {},
   "outputs": [],
   "source": [
    "prefix = \"/mnt/scratch1/bleed_through_human/poly_reads/quant\"\n",
    "#types = [\"reads_101\"]\n",
    "files_rsem = {}\n",
    "for t in types:\n",
    "    fileinfo = {}\n",
    "    #fileinfo[\"truth\"]= \"/mnt/scratch1/bleed_through_human/bleed_through_200K/rsem_exp/model.isoforms.results\"\n",
    "    fileinfo[\"truth\"]= \"/\".join([prefix,t,\"truth.tsv\"])\n",
    "    fileinfo[\"SLA\"] =  \"/\".join([prefix,t,\"salmon_out\",\"quant.sf\"])\n",
    "    fileinfo[\"kallisto\"] = \"/\".join([prefix,t,\"kallisto_out\",\"abundance.tsv\"])\n",
    "    #fileinfo[\"bowtie\"] = \"/\".join([prefix,t,\"quant\",\"bowtie_out\",\"quant.sf\"])\n",
    "    fileinfo[\"hera_mod\"] = \"/\".join([\"/home/rob/our_hera/hera-master\",t,\"abundance.tsv\"])\n",
    "    fileinfo[\"hera\"] = \"/\".join([prefix,t,\"hera_out\",\"abundance.tsv\"])\n",
    "    files_rsem[t] = fileinfo"
   ]
  },
  {
   "cell_type": "code",
   "execution_count": 181,
   "metadata": {},
   "outputs": [],
   "source": [
    "result_rsem_df = pd.DataFrame(columns=['sample','kallisto', 'SLA', 'hera','hera_mod'])\n",
    "for i,t in enumerate(types):\n",
    "    df, truth, sla,kallisto,hera = getMergedDataFrameFast(t,files_rsem)\n",
    "    kal=df[\"count\"].corr(df[\"NumReads_KAL\"],method=\"spearman\")\n",
    "    sla=df[\"count\"].corr(df[\"NumReads\"],method=\"spearman\")\n",
    "    hera_mod=df[\"count\"].corr(df[\"NumReads_hera_mod\"],method=\"spearman\")\n",
    "    hera=df[\"count\"].corr(df[\"NumReads_hera\"],method=\"spearman\")\n",
    "    result_rsem_df.loc[i] = [t,kal,sla,hera,hera_mod]\n",
    "    #print(\"sample name: {}\".format(t))\n",
    "    #print(\"kallisto\",df[\"count\"].corr(df[\"NumReads_KAL\"],method=\"spearman\"))\n",
    "    #print(\"SLA\",df[\"count\"].corr(df[\"NumReads\"],method=\"spearman\"))\n",
    "    #print(\"BowTie2\",df_30[\"count\"].corr(df_30[\"NumReads_BT\"],method=\"spearman\"))\n",
    "    #print(\"hera\",df[\"count\"].corr(df[\"NumReads_hera\"],method=\"spearman\"))"
   ]
  },
  {
   "cell_type": "code",
   "execution_count": 888,
   "metadata": {},
   "outputs": [],
   "source": [
    "df_eff_length_truth = pd.read_table(\"/mnt/scratch1/bleed_through_human/read_31415926/sim.sim.isoforms.results\",\n",
    "                                   usecols=['transcript_id','effective_length','count'])\n",
    "df_eff_length_salmon = pd.read_table(\"/mnt/scratch1/bleed_through_human/read_31415926/quant/salmon_rsem_out/quant.sf\",\n",
    "                                   usecols=['Name','EffectiveLength','Length','TPM','NumReads'])\n",
    "df_eff_length_hera = pd.read_table(\"/mnt/scratch1/bleed_through_human/read_31415926/quant/hera_out/abundance.tsv\",\n",
    "                                   usecols=['#target_id','eff_length','est_counts'])\n",
    "df_eff_length_hera[\"#target_id\"]= df_eff_length_hera[\"#target_id\"].str.split(\":\",expand=True)[0]\n",
    "\n",
    "df_eff_length_hera.set_index(\"#target_id\",inplace=True)\n",
    "\n",
    "df_eff_length_truth.set_index(\"transcript_id\",inplace=True)\n",
    "df_eff_length_salmon.set_index(\"Name\",inplace=True)"
   ]
  },
  {
   "cell_type": "code",
   "execution_count": 889,
   "metadata": {},
   "outputs": [],
   "source": [
    "df_eff = df_eff_length_truth.join(df_eff_length_salmon,how='right').fillna(0)\n",
    "df_eff = df_eff.join(df_eff_length_hera,how='left')"
   ]
  },
  {
   "cell_type": "code",
   "execution_count": 890,
   "metadata": {},
   "outputs": [
    {
     "data": {
      "text/plain": [
       "(21838, 146890, 146890)"
      ]
     },
     "execution_count": 890,
     "metadata": {},
     "output_type": "execute_result"
    }
   ],
   "source": [
    "len(df_eff_length_truth), len(df_eff_length_salmon),len(df_eff)"
   ]
  },
  {
   "cell_type": "code",
   "execution_count": 891,
   "metadata": {},
   "outputs": [],
   "source": [
    "df_tmp = df_eff.loc[(df_eff.Length < 1000) & (df_eff['count'] > 0)]"
   ]
  },
  {
   "cell_type": "code",
   "execution_count": 892,
   "metadata": {},
   "outputs": [],
   "source": [
    "ind_48 = df_tmp.loc[(abs(df_tmp[\"eff_length\"] -  df_tmp[\"EffectiveLength\"]) > 0)].index"
   ]
  },
  {
   "cell_type": "code",
   "execution_count": 893,
   "metadata": {},
   "outputs": [
    {
     "data": {
      "text/plain": [
       "12451"
      ]
     },
     "execution_count": 893,
     "metadata": {},
     "output_type": "execute_result"
    }
   ],
   "source": [
    "sum(df_eff['count'] > 0)"
   ]
  },
  {
   "cell_type": "code",
   "execution_count": 894,
   "metadata": {},
   "outputs": [],
   "source": [
    "#df_eff_length_truth.loc[df_eff_length_truth.index.isin(ind_48)]"
   ]
  },
  {
   "cell_type": "code",
   "execution_count": 895,
   "metadata": {},
   "outputs": [
    {
     "data": {
      "text/plain": [
       "0.8206307054113883"
      ]
     },
     "execution_count": 895,
     "metadata": {},
     "output_type": "execute_result"
    }
   ],
   "source": [
    "df_eff['count'].corr(df_eff['NumReads'],method=\"spearman\")"
   ]
  },
  {
   "cell_type": "code",
   "execution_count": 896,
   "metadata": {},
   "outputs": [],
   "source": [
    "laraib = df_eff.loc[np.abs(df_eff['effective_length'] - df_eff['EffectiveLength']) / np.abs(df_eff['effective_length'] + df_eff['EffectiveLength']) > 0.0, :]"
   ]
  },
  {
   "cell_type": "code",
   "execution_count": 887,
   "metadata": {},
   "outputs": [
    {
     "data": {
      "text/plain": [
       "<matplotlib.colorbar.Colorbar at 0x7fa34be103d0>"
      ]
     },
     "execution_count": 887,
     "metadata": {},
     "output_type": "execute_result"
    },
    {
     "data": {
      "image/png": "[encoded data removed]",
      "text/plain": [
       "<Figure size 432x288 with 2 Axes>"
      ]
     },
     "metadata": {},
     "output_type": "display_data"
    }
   ],
   "source": [
    "from matplotlib import cm\n",
    "plt.scatter(np.abs(laraib['count'] - laraib['NumReads']) / (np.abs(laraib['count'] + laraib['NumReads'])), \\\n",
    "            np.log(laraib.Length), cmap=cm.coolwarm, c=np.abs(laraib['effective_length'] - laraib['EffectiveLength']) / np.abs(laraib['effective_length'] + laraib['EffectiveLength']),alpha=0.15)\n",
    "plt.colorbar()"
   ]
  },
  {
   "cell_type": "code",
   "execution_count": 897,
   "metadata": {},
   "outputs": [
    {
     "data": {
      "text/plain": [
       "0.8510439865595324"
      ]
     },
     "execution_count": 897,
     "metadata": {},
     "output_type": "execute_result"
    }
   ],
   "source": [
    "df_eff['count'].corr(df_eff['est_counts'],method=\"spearman\")"
   ]
  },
  {
   "cell_type": "code",
   "execution_count": 783,
   "metadata": {},
   "outputs": [],
   "source": [
    "df_eff.loc[ind_48,'NumReads'] = df_eff.loc[ind_48,'count']"
   ]
  },
  {
   "cell_type": "code",
   "execution_count": 784,
   "metadata": {},
   "outputs": [
    {
     "data": {
      "text/plain": [
       "0.8619939455324438"
      ]
     },
     "execution_count": 784,
     "metadata": {},
     "output_type": "execute_result"
    }
   ],
   "source": [
    "df_eff['count'].corr(df_eff['NumReads'],method=\"spearman\")"
   ]
  },
  {
   "cell_type": "code",
   "execution_count": 630,
   "metadata": {},
   "outputs": [
    {
     "data": {
      "text/plain": [
       "21838"
      ]
     },
     "execution_count": 630,
     "metadata": {},
     "output_type": "execute_result"
    }
   ],
   "source": [
    "len(df_eff)"
   ]
  },
  {
   "cell_type": "code",
   "execution_count": 602,
   "metadata": {},
   "outputs": [
    {
     "data": {
      "text/plain": [
       "(array([13.,  4., 12.,  5., 10.,  0.,  1.,  2.,  0.,  1.]),\n",
       " array([ 9.123594, 10.823594, 12.523594, 14.223594, 15.923594, 17.623594,\n",
       "        19.323594, 21.023594, 22.723594, 24.423594, 26.123594]),\n",
       " <a list of 10 Patch objects>)"
      ]
     },
     "execution_count": 602,
     "metadata": {},
     "output_type": "execute_result"
    },
    {
     "data": {
      "image/png": "[encoded data removed]",
      "text/plain": [
       "<Figure size 432x288 with 1 Axes>"
      ]
     },
     "metadata": {},
     "output_type": "display_data"
    }
   ],
   "source": [
    "plt.hist(abs(df_tmp_2[\"eff_length\"] -  df_tmp_2[\"EffectiveLength\"]), bins = 10)"
   ]
  },
  {
   "cell_type": "code",
   "execution_count": 469,
   "metadata": {},
   "outputs": [
    {
     "data": {
      "text/html": [
       "<div>\n",
       "<table border=\"1\" class=\"dataframe\">\n",
       "  <thead>\n",
       "    <tr style=\"text-align: right;\">\n",
       "      <th></th>\n",
       "      <th>effective_length</th>\n",
       "      <th>count</th>\n",
       "      <th>Length</th>\n",
       "      <th>EffectiveLength</th>\n",
       "      <th>TPM</th>\n",
       "      <th>eff_length</th>\n",
       "    </tr>\n",
       "    <tr>\n",
       "      <th>transcript_id</th>\n",
       "      <th></th>\n",
       "      <th></th>\n",
       "      <th></th>\n",
       "      <th></th>\n",
       "      <th></th>\n",
       "      <th></th>\n",
       "    </tr>\n",
       "  </thead>\n",
       "  <tbody>\n",
       "    <tr>\n",
       "      <th>ENST00000001146.6</th>\n",
       "      <td>4550.63</td>\n",
       "      <td>0.0</td>\n",
       "      <td>4732</td>\n",
       "      <td>4550.713</td>\n",
       "      <td>0.000000</td>\n",
       "      <td>4549.836594</td>\n",
       "    </tr>\n",
       "    <tr>\n",
       "      <th>ENST00000003084.10</th>\n",
       "      <td>5950.63</td>\n",
       "      <td>2.0</td>\n",
       "      <td>6132</td>\n",
       "      <td>5950.713</td>\n",
       "      <td>0.030887</td>\n",
       "      <td>5949.836594</td>\n",
       "    </tr>\n",
       "    <tr>\n",
       "      <th>ENST00000004531.14</th>\n",
       "      <td>7378.63</td>\n",
       "      <td>2.0</td>\n",
       "      <td>7560</td>\n",
       "      <td>7378.713</td>\n",
       "      <td>0.006101</td>\n",
       "      <td>7377.836594</td>\n",
       "    </tr>\n",
       "    <tr>\n",
       "      <th>ENST00000004982.5</th>\n",
       "      <td>1275.63</td>\n",
       "      <td>19.0</td>\n",
       "      <td>1457</td>\n",
       "      <td>1275.713</td>\n",
       "      <td>1.368743</td>\n",
       "      <td>1274.836594</td>\n",
       "    </tr>\n",
       "    <tr>\n",
       "      <th>ENST00000005178.5</th>\n",
       "      <td>3394.63</td>\n",
       "      <td>1.0</td>\n",
       "      <td>3576</td>\n",
       "      <td>3394.713</td>\n",
       "      <td>0.027072</td>\n",
       "      <td>3393.836594</td>\n",
       "    </tr>\n",
       "  </tbody>\n",
       "</table>\n",
       "</div>"
      ],
      "text/plain": [
       "                    effective_length  count  Length  EffectiveLength  \\\n",
       "transcript_id                                                          \n",
       "ENST00000001146.6            4550.63    0.0    4732         4550.713   \n",
       "ENST00000003084.10           5950.63    2.0    6132         5950.713   \n",
       "ENST00000004531.14           7378.63    2.0    7560         7378.713   \n",
       "ENST00000004982.5            1275.63   19.0    1457         1275.713   \n",
       "ENST00000005178.5            3394.63    1.0    3576         3394.713   \n",
       "\n",
       "                         TPM   eff_length  \n",
       "transcript_id                              \n",
       "ENST00000001146.6   0.000000  4549.836594  \n",
       "ENST00000003084.10  0.030887  5949.836594  \n",
       "ENST00000004531.14  0.006101  7377.836594  \n",
       "ENST00000004982.5   1.368743  1274.836594  \n",
       "ENST00000005178.5   0.027072  3393.836594  "
      ]
     },
     "execution_count": 469,
     "metadata": {},
     "output_type": "execute_result"
    }
   ],
   "source": [
    "df_eff.head()"
   ]
  },
  {
   "cell_type": "code",
   "execution_count": 453,
   "metadata": {},
   "outputs": [
    {
     "data": {
      "text/html": [
       "<div>\n",
       "<table border=\"1\" class=\"dataframe\">\n",
       "  <thead>\n",
       "    <tr style=\"text-align: right;\">\n",
       "      <th></th>\n",
       "      <th>effective_length</th>\n",
       "      <th>Length</th>\n",
       "      <th>EffectiveLength</th>\n",
       "      <th>TPM</th>\n",
       "    </tr>\n",
       "    <tr>\n",
       "      <th>transcript_id</th>\n",
       "      <th></th>\n",
       "      <th></th>\n",
       "      <th></th>\n",
       "      <th></th>\n",
       "    </tr>\n",
       "  </thead>\n",
       "  <tbody>\n",
       "  </tbody>\n",
       "</table>\n",
       "</div>"
      ],
      "text/plain": [
       "Empty DataFrame\n",
       "Columns: [effective_length, Length, EffectiveLength, TPM]\n",
       "Index: []"
      ]
     },
     "execution_count": 453,
     "metadata": {},
     "output_type": "execute_result"
    }
   ],
   "source": [
    "df_eff.loc[(df_eff['effective_length'] == 0) & (df_eff['TPM'] != 0)]"
   ]
  },
  {
   "cell_type": "code",
   "execution_count": 470,
   "metadata": {},
   "outputs": [],
   "source": [
    "df_eff_filt = df_eff.loc[df_eff['count'] > 0, :]"
   ]
  },
  {
   "cell_type": "code",
   "execution_count": 475,
   "metadata": {},
   "outputs": [
    {
     "data": {
      "text/plain": [
       "<matplotlib.collections.PathCollection at 0x7fa36cddf690>"
      ]
     },
     "execution_count": 475,
     "metadata": {},
     "output_type": "execute_result"
    },
    {
     "data": {
      "image/png": "[encoded data removed]",
      "text/plain": [
       "<Figure size 432x288 with 1 Axes>"
      ]
     },
     "metadata": {},
     "output_type": "display_data"
    }
   ],
   "source": [
    "plt.scatter(np.log(df_eff_filt['effective_length']),df_eff_filt['EffectiveLength']/df_eff_filt['effective_length'],alpha=0.4)"
   ]
  },
  {
   "cell_type": "code",
   "execution_count": 463,
   "metadata": {},
   "outputs": [
    {
     "data": {
      "text/plain": [
       "<matplotlib.collections.PathCollection at 0x7fa36aa555d0>"
      ]
     },
     "execution_count": 463,
     "metadata": {},
     "output_type": "execute_result"
    },
    {
     "data": {
      "image/png": "[encoded data removed]",
      "text/plain": [
       "<Figure size 432x288 with 1 Axes>"
      ]
     },
     "metadata": {},
     "output_type": "display_data"
    }
   ],
   "source": [
    "plt.scatter(np.log(df_eff['effective_length']+1),np.log(df_eff['eff_length']+1),alpha=0.4)"
   ]
  },
  {
   "cell_type": "code",
   "execution_count": 477,
   "metadata": {},
   "outputs": [
    {
     "data": {
      "text/plain": [
       "<matplotlib.collections.PathCollection at 0x7fa36d4a1350>"
      ]
     },
     "execution_count": 477,
     "metadata": {},
     "output_type": "execute_result"
    },
    {
     "data": {
      "image/png": "[encoded data removed]",
      "text/plain": [
       "<Figure size 432x288 with 1 Axes>"
      ]
     },
     "metadata": {},
     "output_type": "display_data"
    }
   ],
   "source": [
    "plt.scatter(np.log(df_eff_filt['effective_length']),df_eff_filt['Length']/df_eff_filt['effective_length'])"
   ]
  },
  {
   "cell_type": "code",
   "execution_count": 182,
   "metadata": {},
   "outputs": [],
   "source": [
    "result_rsem_df.set_index(['sample'],inplace=True)"
   ]
  },
  {
   "cell_type": "code",
   "execution_count": 183,
   "metadata": {},
   "outputs": [
    {
     "data": {
      "text/plain": [
       "<matplotlib.axes._subplots.AxesSubplot at 0x7fa3ba796790>"
      ]
     },
     "execution_count": 183,
     "metadata": {},
     "output_type": "execute_result"
    },
    {
     "data": {
      "image/png": "[encoded data removed]",
      "text/plain": [
       "<Figure size 432x288 with 1 Axes>"
      ]
     },
     "metadata": {},
     "output_type": "display_data"
    }
   ],
   "source": [
    "result_rsem_df.plot()"
   ]
  },
  {
   "cell_type": "code",
   "execution_count": 308,
   "metadata": {},
   "outputs": [],
   "source": [
    "prefix = \"/mnt/scratch1/bleed_through_human\"\n",
    "#types_of = [\"read_31415926\"]\n",
    "#prefix = \"/mnt/scratch6/hirak/SLA_benchmark/bleed_through_human/\"\n",
    "#types_of = [\"read_11563\" , \"read_26368\" , \"read_9636\"]\n",
    "types_of = [\"read_31415926\"]\n",
    "files_rsem = {}\n",
    "for t in types_of:\n",
    "    fileinfo = {}\n",
    "    fileinfo[\"truth\"]= \"/\".join([prefix , t,\"sim.sim.isoforms.results\"])\n",
    "    fileinfo[\"SLA\"] =  \"/\".join([prefix,t,\"quant\",\"salmon_out_noeff\",\"quant.sf\"])\n",
    "    fileinfo[\"kallisto\"] = \"/\".join([prefix,t,\"quant\",\"kallisto_out\",\"abundance.tsv\"])\n",
    "    fileinfo[\"hera\"] = \"/\".join([prefix,t,\"quant\",\"hera_out\",\"abundance.tsv\"])\n",
    "    files_rsem[t] = fileinfo\n"
   ]
  },
  {
   "cell_type": "code",
   "execution_count": 309,
   "metadata": {},
   "outputs": [],
   "source": [
    "result_rsem_df = pd.DataFrame(columns=['sample','kallisto', 'SLA','hera'])\n",
    "for i,t in enumerate(types_of):\n",
    "    df = mergeHeraKallisto(t,files_rsem)\n",
    "    kal=df[\"count\"].corr(df[\"NumReads_KAL\"],method=\"spearman\")\n",
    "    sla=df[\"count\"].corr(df[\"NumReads\"],method=\"spearman\")\n",
    "    hera=df[\"count\"].corr(df[\"NumReads_hera\"],method=\"spearman\")\n",
    "    result_rsem_df.loc[i] = [t,kal,sla,hera]"
   ]
  },
  {
   "cell_type": "code",
   "execution_count": 307,
   "metadata": {},
   "outputs": [
    {
     "data": {
      "text/html": [
       "<div>\n",
       "<table border=\"1\" class=\"dataframe\">\n",
       "  <thead>\n",
       "    <tr style=\"text-align: right;\">\n",
       "      <th></th>\n",
       "      <th>sample</th>\n",
       "      <th>kallisto</th>\n",
       "      <th>SLA</th>\n",
       "      <th>hera</th>\n",
       "    </tr>\n",
       "  </thead>\n",
       "  <tbody>\n",
       "    <tr>\n",
       "      <th>0</th>\n",
       "      <td>read_31415926</td>\n",
       "      <td>0.749622</td>\n",
       "      <td>0.821377</td>\n",
       "      <td>0.822163</td>\n",
       "    </tr>\n",
       "  </tbody>\n",
       "</table>\n",
       "</div>"
      ],
      "text/plain": [
       "          sample  kallisto       SLA      hera\n",
       "0  read_31415926  0.749622  0.821377  0.822163"
      ]
     },
     "execution_count": 307,
     "metadata": {},
     "output_type": "execute_result"
    }
   ],
   "source": [
    "result_rsem_df"
   ]
  },
  {
   "cell_type": "code",
   "execution_count": 310,
   "metadata": {},
   "outputs": [
    {
     "data": {
      "text/html": [
       "<div>\n",
       "<table border=\"1\" class=\"dataframe\">\n",
       "  <thead>\n",
       "    <tr style=\"text-align: right;\">\n",
       "      <th></th>\n",
       "      <th>sample</th>\n",
       "      <th>kallisto</th>\n",
       "      <th>SLA</th>\n",
       "      <th>hera</th>\n",
       "    </tr>\n",
       "  </thead>\n",
       "  <tbody>\n",
       "    <tr>\n",
       "      <th>0</th>\n",
       "      <td>read_31415926</td>\n",
       "      <td>0.749622</td>\n",
       "      <td>0.861327</td>\n",
       "      <td>0.822163</td>\n",
       "    </tr>\n",
       "  </tbody>\n",
       "</table>\n",
       "</div>"
      ],
      "text/plain": [
       "          sample  kallisto       SLA      hera\n",
       "0  read_31415926  0.749622  0.861327  0.822163"
      ]
     },
     "execution_count": 310,
     "metadata": {},
     "output_type": "execute_result"
    }
   ],
   "source": [
    "result_rsem_df"
   ]
  },
  {
   "cell_type": "code",
   "execution_count": 241,
   "metadata": {},
   "outputs": [
    {
     "name": "stdout",
     "output_type": "stream",
     "text": [
      "relDiff    0.029856\n",
      "dtype: float64\n",
      "relDiff    0.031383\n",
      "dtype: float64\n",
      "relDiff    0.050081\n",
      "dtype: float64\n"
     ]
    }
   ],
   "source": [
    "rd,non_zeros = relDiff('count','NumReads_hera',df)\n",
    "print rd.abs().mean()\n",
    "rd,non_zeros = relDiff('count','NumReads',df)\n",
    "print rd.abs().mean()\n",
    "rd,non_zeros = relDiff('count','NumReads_KAL',df)\n",
    "print rd.abs().mean()"
   ]
  },
  {
   "cell_type": "code",
   "execution_count": 244,
   "metadata": {},
   "outputs": [
    {
     "name": "stdout",
     "output_type": "stream",
     "text": [
      "0.02985572183733916\n",
      "relDiff    0.031383\n",
      "dtype: float64\n",
      "relDiff    0.050081\n",
      "dtype: float64\n"
     ]
    }
   ],
   "source": [
    "rd,non_zeros = relDiff('count','NumReads_hera',df)\n",
    "print rd.abs().mean()[0]\n",
    "rd,non_zeros = relDiff('count','NumReads',df)\n",
    "print rd.abs().mean()\n",
    "rd,non_zeros = relDiff('count','NumReads_KAL',df)\n",
    "print rd.abs().mean()"
   ]
  },
  {
   "cell_type": "code",
   "execution_count": 210,
   "metadata": {},
   "outputs": [],
   "source": [
    "prefix = \"/mnt/scratch1/bleed_through_human\"\n",
    "types = [\"bleed_through_200K\"]\n",
    "files = {}\n",
    "for t in types:\n",
    "    fileinfo = {}\n",
    "    fileinfo[\"truth\"]= \"/\".join([prefix,t,\"rsem_sim\",\"sim.sim.isoforms.results\"])\n",
    "    fileinfo[\"SLA\"] =  \"/\".join([prefix,t,\"quant\",\"salmon_out\",\"quant.sf\"])\n",
    "    fileinfo[\"kallisto\"] = \"/\".join([prefix,t,\"quant\",\"kallisto_out\",\"abundance.tsv\"])\n",
    "    #fileinfo[\"bowtie\"] = \"/\".join([prefix,t,\"quant\",\"bowtie_out\",\"quant.sf\"])\n",
    "    #fileinfo[\"hera\"] = \"/\".join([prefix,t,\"quant\",\"hera_out\",\"abundance.tsv\"])\n",
    "    #fileinfo[\"hera\"] = \"/\".join([prefix,\"hera_new\",\"abundance.tsv\"])\n",
    "    fileinfo[\"hera\"] = \"/\".join([prefix,\"hera_new_2\",\"abundance.tsv\"])\n",
    "    files[t] = fileinfo"
   ]
  },
  {
   "cell_type": "code",
   "execution_count": 211,
   "metadata": {},
   "outputs": [],
   "source": [
    "df = mergeHeraKallisto(\"bleed_through_200K\",files)"
   ]
  },
  {
   "cell_type": "code",
   "execution_count": 212,
   "metadata": {},
   "outputs": [
    {
     "name": "stdout",
     "output_type": "stream",
     "text": [
      "('kallisto', 0.7450557220439691)\n",
      "('SLA', 0.8198710974237589)\n",
      "('hera', 0.8193086327038834)\n"
     ]
    }
   ],
   "source": [
    "print(\"kallisto\",df[\"count\"].corr(df[\"NumReads_KAL\"],method=\"spearman\"))\n",
    "print(\"SLA\",df[\"count\"].corr(df[\"NumReads\"],method=\"spearman\"))\n",
    "#print(\"BowTie2\",df_30[\"count\"].corr(df_30[\"NumReads_BT\"],method=\"spearman\"))\n",
    "print(\"hera\",df[\"count\"].corr(df[\"NumReads_hera\"],method=\"spearman\"))"
   ]
  },
  {
   "cell_type": "code",
   "execution_count": null,
   "metadata": {},
   "outputs": [],
   "source": []
  }
 ],
 "metadata": {
  "kernelspec": {
   "display_name": "Python 2",
   "language": "python",
   "name": "python2"
  },
  "language_info": {
   "codemirror_mode": {
    "name": "ipython",
    "version": 2
   },
   "file_extension": ".py",
   "mimetype": "text/x-python",
   "name": "python",
   "nbconvert_exporter": "python",
   "pygments_lexer": "ipython2",
   "version": "2.7.14"
  }
 },
 "nbformat": 4,
 "nbformat_minor": 2
}
