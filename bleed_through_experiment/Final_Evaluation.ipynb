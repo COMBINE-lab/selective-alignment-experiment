{
 "cells": [
  {
   "cell_type": "code",
   "execution_count": 1,
   "metadata": {},
   "outputs": [],
   "source": [
    "%matplotlib inline\n",
    "import numpy as np\n",
    "import matplotlib\n",
    "import matplotlib.pyplot as plt\n",
    "import seaborn as sns\n",
    "sns.set(color_codes=True)\n",
    "import pandas as pd\n",
    "import scipy.stats\n",
    "import math\n",
    "from pyfasta import Fasta\n",
    "import tqdm\n",
    "import seaborn as sns"
   ]
  },
  {
   "cell_type": "code",
   "execution_count": 21,
   "metadata": {},
   "outputs": [],
   "source": [
    "def mergeHeraKallistoBowtieSTAR(typeof,files):\n",
    "    #truth\n",
    "    truth = pd.read_table(files[typeof][\"truth\"], delim_whitespace=True, \\\n",
    "       usecols=[\"transcript_id\", \"count\"])\n",
    "    df = truth\n",
    "    df.rename(index=str, \\\n",
    "            columns={\"transcript_id\": \"Name\", \"count\": \"count\"}, inplace = True)\n",
    "    \n",
    "    #SLA soft\n",
    "    sla_soft = pd.read_table(files[typeof][\"SLA_soft\"], delim_whitespace=True, \\\n",
    "                                 usecols=[\"Name\", \"NumReads\"])\n",
    "    sla_soft.rename(index=str, columns = {\"Name\": \"Name\", \\\n",
    "                                    \"NumReads\" : \"NumReads_soft\"}, inplace = True)\n",
    "    df = pd.merge(df,sla_soft, how=\"outer\", on = \"Name\").fillna(0.0)\n",
    "    \n",
    "    #SLA strict\n",
    "    sla_strict = pd.read_table(files[typeof][\"SLA_strict\"], delim_whitespace=True, \\\n",
    "                                 usecols=[\"Name\", \"NumReads\"])\n",
    "    sla_strict.rename(index=str, columns = {\"Name\": \"Name\", \\\n",
    "                                    \"NumReads\" : \"NumReads_strict\"}, inplace = True)\n",
    "    df = pd.merge(df, sla_strict, how=\"outer\", on = \"Name\").fillna(0.0)\n",
    "    \n",
    "    #Bowtie2\n",
    "    \n",
    "    bowtie = pd.read_table(files[typeof][\"bowtie\"], delim_whitespace=True, \\\n",
    "                                 usecols=[\"Name\", \"NumReads\"])\n",
    "    bowtie.rename(index=str, columns = {\"Name\" : \"Name\", \\\n",
    "                                        \"NumReads\": \"NumReads_BT\"}, inplace = True)\n",
    "    \n",
    "    df = pd.merge(df,bowtie, how=\"outer\", on = \"Name\").fillna(0.0)\n",
    "    \n",
    "    \n",
    "    #star\n",
    "    star = pd.read_table(files[typeof][\"star\"], delim_whitespace=True, \\\n",
    "                                 usecols=[\"Name\", \"NumReads\"])\n",
    "    star.rename(index=str, columns = {\"Name\" : \"Name\", \\\n",
    "                                        \"NumReads\": \"NumReads_STAR\"}, inplace = True)\n",
    "    \n",
    "    df = pd.merge(df,star, how=\"outer\", on = \"Name\").fillna(0.0)\n",
    "    \n",
    "    #hera\n",
    "    \n",
    "    hera = pd.read_table(files[typeof][\"hera\"], delim_whitespace=True, \\\n",
    "                                 usecols=[\"#target_id\", \"est_counts\"])\n",
    "    hera[\"#target_id\"]= hera[\"#target_id\"].str.split(\":\",expand=True)[0]\n",
    "    hera.rename(index=str, columns={\"#target_id\": \"Name\", \\\n",
    "                                           \"est_counts\": \"NumReads_hera\"}, inplace = True)\n",
    "    df = pd.merge(df,hera, how=\"outer\", on = \"Name\").fillna(0.0)\n",
    "        \n",
    "    \n",
    "    \n",
    "    #kallisto\n",
    "    kallisto = pd.read_table(files[typeof][\"kallisto\"], delim_whitespace=True, \\\n",
    "                                     usecols=[\"target_id\", \"est_counts\"])\n",
    "    kallisto.rename(index=str, columns={\"target_id\": \"Name\", \\\n",
    "                                                \"est_counts\": \"NumReads_KAL\"}, inplace = True)\n",
    "    df = pd.merge(df,kallisto, how=\"outer\", on = \"Name\").fillna(0.0)\n",
    "    \n",
    "    return df"
   ]
  },
  {
   "cell_type": "code",
   "execution_count": 2,
   "metadata": {},
   "outputs": [],
   "source": [
    "def relDiff(c1, c2, DF, cutoff=0.01, verbose=False):\n",
    "    import pandas as pd\n",
    "    \"\"\"\n",
    "    Computes the relative difference between the values\n",
    "    in columns c1 and c2 of DF.\n",
    "    c1 and c2 are column names and DF is a Pandas data frame.\n",
    "    Values less than cutoff will be treated as 0.\n",
    "    The relative difference is defined as\n",
    "    d(x_i, y_i) =\n",
    "        0.0 if x_i and y_i are 0\n",
    "        (x_i - y_i) / (0.5 * |x_i - y_i|) otherwise\n",
    "    This function returns two values.\n",
    "    rd is a DataFrame where the \"relDiff\" column contains all\n",
    "    of the computed relative differences.\n",
    "    nz is a set of indexes into rd for data points where\n",
    "    x_i and y_i were not *both* zero.\n",
    "    \"\"\"\n",
    "    import numpy as np\n",
    "    rd = pd.DataFrame(data = {\"Name\" : DF.index, \"relDiff\" : np.zeros(len(DF.index))*np.nan})\n",
    "    rd.set_index(\"Name\", inplace=True)\n",
    "    bothZero = DF.loc[(DF[c1] <= cutoff) & (DF[c2] <= cutoff)].index\n",
    "    nonZero = DF.index.difference(bothZero)\n",
    "    if (verbose):\n",
    "        print(\"Zero occurs in both columns {} times\".format(len(rd.loc[bothZero])))\n",
    "        print(\"Nonzero occurs in at least 1 column {} times\".format(len(rd.loc[nonZero])))\n",
    "    allRD = 1.0 * ((DF[c1] - DF[c2]) / (DF[c1] + DF[c2]).abs())\n",
    "    assert(len(rd.loc[nonZero][\"relDiff\"]) == len(allRD[nonZero]))\n",
    "    rd[\"relDiff\"][nonZero] = allRD[nonZero]\n",
    "    if len(bothZero) > 0:\n",
    "        rd[\"relDiff\"][bothZero] = 0.0\n",
    "    #return rd, nonZero\n",
    "    return rd.abs().mean()[0]"
   ]
  },
  {
   "cell_type": "code",
   "execution_count": 10,
   "metadata": {},
   "outputs": [],
   "source": [
    "def prepareFileInfo(prefix,all_type):    \n",
    "    types = all_type\n",
    "    files = {}\n",
    "    for t in types:\n",
    "        fileinfo = {}\n",
    "        fileinfo[\"truth\"]= \"/\".join([prefix,t,\"truth.tsv\"])\n",
    "        #\"/home/rob/salmon/build/reads_108.truth\"\n",
    "    \n",
    "        fileinfo[\"SLA_soft\"] =  \"/\".join([prefix,t,\"salmon_out\",\"soft_filter\",\"quant.sf\"])\n",
    "        fileinfo[\"SLA_strict\"] = \"/\".join([prefix,t,\"salmon_out\",\"strict_filter\",\"quant.sf\"])\n",
    "        \n",
    "        \n",
    "        fileinfo[\"kallisto\"] = \"/\".join([prefix,t,\"kallisto_out\",\"abundance.tsv\"])\n",
    "        fileinfo[\"hera\"] = \"/\".join([prefix,t,\"hera_out\",\"abundance.tsv\"])\n",
    "        \n",
    "        fileinfo[\"bowtie\"] = \"/\".join([prefix,t,\"bowtie_out\",\"quant.sf\"])\n",
    "        fileinfo[\"star\"] = \"/\".join([prefix,t,\"star_out\",\"no_option\",\"quant.sf\"])\n",
    "        \n",
    "        files[t] = fileinfo\n",
    "    return files"
   ]
  },
  {
   "cell_type": "code",
   "execution_count": 36,
   "metadata": {},
   "outputs": [],
   "source": [
    "def getDataframe(files, all_type, mut):\n",
    "    result_df = pd.DataFrame(columns=['sample',\n",
    "                                      'kallisto',\n",
    "                                      'hera',\n",
    "                                      'Selective_Alignment_soft', \n",
    "                                      'Selective_Alignment_strict', \n",
    "                                      'STAR',\n",
    "                                      'Bowtie2',\n",
    "                                      'mutation_rate'\n",
    "                                     ])\n",
    "    \n",
    "    result_df_mard = pd.DataFrame(columns=['sample',\n",
    "                                      'kallisto',\n",
    "                                      'hera',\n",
    "                                      'Selective_Alignment_soft', \n",
    "                                      'Selective_Alignment_strict', \n",
    "                                      'STAR',\n",
    "                                      'Bowtie2',\n",
    "                                      'mutation_rate'\n",
    "                                     ])\n",
    "    \n",
    "    types = all_type\n",
    "    \n",
    "    for i,t in enumerate(types):\n",
    "        \n",
    "        df = mergeHeraKallistoBowtieSTAR(t,files)\n",
    "        kal=df[\"count\"].corr(df[\"NumReads_KAL\"],method=\"spearman\")\n",
    "        \n",
    "        sla_soft=df[\"count\"].corr(df[\"NumReads_soft\"],method=\"spearman\")\n",
    "        sla_strict = df[\"count\"].corr(df[\"NumReads_strict\"],method=\"spearman\")\n",
    "        \n",
    "        star = df[\"count\"].corr(df[\"NumReads_STAR\"],method=\"spearman\")\n",
    "        \n",
    "        hera=df[\"count\"].corr(df[\"NumReads_hera\"],method=\"spearman\")\n",
    "        bt=df[\"count\"].corr(df[\"NumReads_BT\"],method=\"spearman\")\n",
    "        \n",
    "        result_df.loc[i] = [t,kal,hera,sla_soft,sla_strict,star,bt,mut]\n",
    "        \n",
    "        kal_mard = relDiff(\"count\",\"NumReads_KAL\",df)\n",
    "        sla_soft_mard = relDiff(\"count\",\"NumReads_soft\",df)\n",
    "        sla_strict_mard = relDiff(\"count\",\"NumReads_strict\",df)\n",
    "        star_mard =  relDiff(\"count\",\"NumReads_STAR\",df)\n",
    "        hera_mard =  relDiff(\"count\",\"NumReads_hera\",df)\n",
    "        bt_mard = relDiff(\"count\",\"NumReads_BT\",df)\n",
    "        \n",
    "        result_df_mard.loc[i] = [t,kal_mard,hera_mard,sla_soft_mard,sla_strict_mard,star_mard,bt_mard,mut]\n",
    "        \n",
    "    return result_df,result_df_mard,df\n"
   ]
  },
  {
   "cell_type": "code",
   "execution_count": 30,
   "metadata": {},
   "outputs": [],
   "source": [
    "prefix = {}\n",
    "prefix[\"all\"] = \"/mnt/scratch7/hirak/bleed_through_7/SRR5638585_polyreads_full/\""
   ]
  },
  {
   "cell_type": "code",
   "execution_count": 37,
   "metadata": {},
   "outputs": [],
   "source": [
    "corr_dataframe = pd.DataFrame()\n",
    "mard_dataframe = pd.DataFrame()\n",
    "dataframes = {}\n",
    "for mut_rate in range(1,6):\n",
    "    files_full = prepareFileInfo(prefix[\"all\"]+\"/all_quant_mutated\"+str(mut_rate),[\"reads_111\"])\n",
    "    result_full, result_dull_mard,dataframes[mut_rate] =  getDataframe(files_full,[\"reads_111\"],mut_rate)\n",
    "    corr_dataframe = corr_dataframe.append(result_full)\n",
    "    mard_dataframe = mard_dataframe.append(result_dull_mard)"
   ]
  },
  {
   "cell_type": "code",
   "execution_count": 35,
   "metadata": {},
   "outputs": [
    {
     "data": {
      "text/html": [
       "<div>\n",
       "<table border=\"1\" class=\"dataframe\">\n",
       "  <thead>\n",
       "    <tr style=\"text-align: right;\">\n",
       "      <th></th>\n",
       "      <th>sample</th>\n",
       "      <th>kallisto</th>\n",
       "      <th>hera</th>\n",
       "      <th>Selective_Alignment_soft</th>\n",
       "      <th>Selective_Alignment_strict</th>\n",
       "      <th>STAR</th>\n",
       "      <th>Bowtie2</th>\n",
       "      <th>mutation_rate</th>\n",
       "    </tr>\n",
       "  </thead>\n",
       "  <tbody>\n",
       "    <tr>\n",
       "      <th>0</th>\n",
       "      <td>reads_111</td>\n",
       "      <td>0.905779</td>\n",
       "      <td>0.936088</td>\n",
       "      <td>0.945483</td>\n",
       "      <td>0.945404</td>\n",
       "      <td>0.941640</td>\n",
       "      <td>0.947544</td>\n",
       "      <td>1.0</td>\n",
       "    </tr>\n",
       "    <tr>\n",
       "      <th>0</th>\n",
       "      <td>reads_111</td>\n",
       "      <td>0.871405</td>\n",
       "      <td>0.924520</td>\n",
       "      <td>0.941596</td>\n",
       "      <td>0.941205</td>\n",
       "      <td>0.938663</td>\n",
       "      <td>0.945447</td>\n",
       "      <td>2.0</td>\n",
       "    </tr>\n",
       "    <tr>\n",
       "      <th>0</th>\n",
       "      <td>reads_111</td>\n",
       "      <td>0.843678</td>\n",
       "      <td>0.909997</td>\n",
       "      <td>0.935144</td>\n",
       "      <td>0.934342</td>\n",
       "      <td>0.933500</td>\n",
       "      <td>0.941775</td>\n",
       "      <td>3.0</td>\n",
       "    </tr>\n",
       "    <tr>\n",
       "      <th>0</th>\n",
       "      <td>reads_111</td>\n",
       "      <td>0.816621</td>\n",
       "      <td>0.880257</td>\n",
       "      <td>0.924788</td>\n",
       "      <td>0.923605</td>\n",
       "      <td>0.924915</td>\n",
       "      <td>0.936951</td>\n",
       "      <td>4.0</td>\n",
       "    </tr>\n",
       "    <tr>\n",
       "      <th>0</th>\n",
       "      <td>reads_111</td>\n",
       "      <td>0.792664</td>\n",
       "      <td>0.845078</td>\n",
       "      <td>0.903699</td>\n",
       "      <td>0.902655</td>\n",
       "      <td>0.908948</td>\n",
       "      <td>0.926758</td>\n",
       "      <td>5.0</td>\n",
       "    </tr>\n",
       "  </tbody>\n",
       "</table>\n",
       "</div>"
      ],
      "text/plain": [
       "      sample  kallisto      hera  Selective_Alignment_soft  \\\n",
       "0  reads_111  0.905779  0.936088                  0.945483   \n",
       "0  reads_111  0.871405  0.924520                  0.941596   \n",
       "0  reads_111  0.843678  0.909997                  0.935144   \n",
       "0  reads_111  0.816621  0.880257                  0.924788   \n",
       "0  reads_111  0.792664  0.845078                  0.903699   \n",
       "\n",
       "   Selective_Alignment_strict      STAR   Bowtie2  mutation_rate  \n",
       "0                    0.945404  0.941640  0.947544            1.0  \n",
       "0                    0.941205  0.938663  0.945447            2.0  \n",
       "0                    0.934342  0.933500  0.941775            3.0  \n",
       "0                    0.923605  0.924915  0.936951            4.0  \n",
       "0                    0.902655  0.908948  0.926758            5.0  "
      ]
     },
     "execution_count": 35,
     "metadata": {},
     "output_type": "execute_result"
    }
   ],
   "source": [
    "corr_dataframe"
   ]
  },
  {
   "cell_type": "code",
   "execution_count": 38,
   "metadata": {},
   "outputs": [
    {
     "data": {
      "text/html": [
       "<div>\n",
       "<table border=\"1\" class=\"dataframe\">\n",
       "  <thead>\n",
       "    <tr style=\"text-align: right;\">\n",
       "      <th></th>\n",
       "      <th>sample</th>\n",
       "      <th>kallisto</th>\n",
       "      <th>hera</th>\n",
       "      <th>Selective_Alignment_soft</th>\n",
       "      <th>Selective_Alignment_strict</th>\n",
       "      <th>STAR</th>\n",
       "      <th>Bowtie2</th>\n",
       "      <th>mutation_rate</th>\n",
       "    </tr>\n",
       "  </thead>\n",
       "  <tbody>\n",
       "    <tr>\n",
       "      <th>0</th>\n",
       "      <td>reads_111</td>\n",
       "      <td>0.160510</td>\n",
       "      <td>0.116220</td>\n",
       "      <td>0.100778</td>\n",
       "      <td>0.100191</td>\n",
       "      <td>0.104762</td>\n",
       "      <td>0.096487</td>\n",
       "      <td>1.0</td>\n",
       "    </tr>\n",
       "    <tr>\n",
       "      <th>0</th>\n",
       "      <td>reads_111</td>\n",
       "      <td>0.192612</td>\n",
       "      <td>0.131911</td>\n",
       "      <td>0.107754</td>\n",
       "      <td>0.107810</td>\n",
       "      <td>0.108969</td>\n",
       "      <td>0.100140</td>\n",
       "      <td>2.0</td>\n",
       "    </tr>\n",
       "    <tr>\n",
       "      <th>0</th>\n",
       "      <td>reads_111</td>\n",
       "      <td>0.214762</td>\n",
       "      <td>0.171936</td>\n",
       "      <td>0.119919</td>\n",
       "      <td>0.120730</td>\n",
       "      <td>0.115173</td>\n",
       "      <td>0.106548</td>\n",
       "      <td>3.0</td>\n",
       "    </tr>\n",
       "    <tr>\n",
       "      <th>0</th>\n",
       "      <td>reads_111</td>\n",
       "      <td>0.236385</td>\n",
       "      <td>0.231124</td>\n",
       "      <td>0.143090</td>\n",
       "      <td>0.143977</td>\n",
       "      <td>0.127348</td>\n",
       "      <td>0.118437</td>\n",
       "      <td>4.0</td>\n",
       "    </tr>\n",
       "    <tr>\n",
       "      <th>0</th>\n",
       "      <td>reads_111</td>\n",
       "      <td>0.256775</td>\n",
       "      <td>0.291008</td>\n",
       "      <td>0.185630</td>\n",
       "      <td>0.186690</td>\n",
       "      <td>0.150397</td>\n",
       "      <td>0.142468</td>\n",
       "      <td>5.0</td>\n",
       "    </tr>\n",
       "  </tbody>\n",
       "</table>\n",
       "</div>"
      ],
      "text/plain": [
       "      sample  kallisto      hera  Selective_Alignment_soft  \\\n",
       "0  reads_111  0.160510  0.116220                  0.100778   \n",
       "0  reads_111  0.192612  0.131911                  0.107754   \n",
       "0  reads_111  0.214762  0.171936                  0.119919   \n",
       "0  reads_111  0.236385  0.231124                  0.143090   \n",
       "0  reads_111  0.256775  0.291008                  0.185630   \n",
       "\n",
       "   Selective_Alignment_strict      STAR   Bowtie2  mutation_rate  \n",
       "0                    0.100191  0.104762  0.096487            1.0  \n",
       "0                    0.107810  0.108969  0.100140            2.0  \n",
       "0                    0.120730  0.115173  0.106548            3.0  \n",
       "0                    0.143977  0.127348  0.118437            4.0  \n",
       "0                    0.186690  0.150397  0.142468            5.0  "
      ]
     },
     "execution_count": 38,
     "metadata": {},
     "output_type": "execute_result"
    }
   ],
   "source": [
    "mard_dataframe"
   ]
  },
  {
   "cell_type": "code",
   "execution_count": 143,
   "metadata": {},
   "outputs": [],
   "source": [
    "def parseTimeLogString(logfile):\n",
    "    with open(logfile) as fp:\n",
    "        lines = fp.readlines()\n",
    "        \n",
    "        time_mem = lines[-2].strip() \n",
    "        time_dur = time_mem.split(\" \")[2][:-7]\n",
    "        mem_d = time_mem.split(\" \")[5][:-13]\n",
    "        \n",
    "        return time_dur, mem_d\n",
    "\n",
    "def parseTimeLog(logfile):\n",
    "    with open(logfile) as fp:\n",
    "        lines = fp.readlines()\n",
    "        \n",
    "        time_mem = lines[-2].strip()\n",
    "        time_dur = time_mem.split(\" \")[2][:-7]\n",
    "        if time_dur.count(':') == 2:\n",
    "            hour, minu, sec = map(float, time_dur.split(\":\"))\n",
    "            time_d = hour * 3600 + minu * 60 + sec \n",
    "            #time_d = datetime.strptime(time_dur, '%H:%M:%S')\n",
    "            mem_d = time_mem.split(\" \")[5][:-13]\n",
    "            return time_d, float(mem_d)\n",
    "        else:\n",
    "            #time_d = datetime.strptime(time_dur, '%M:%S.%f')\n",
    "            minu, sec = map(float, time_dur.split(\":\"))\n",
    "            time_d = minu*60 + sec\n",
    "            mem_d = time_mem.split(\" \")[5][:-13]\n",
    "            return time_d, float(mem_d)"
   ]
  },
  {
   "cell_type": "code",
   "execution_count": null,
   "metadata": {},
   "outputs": [],
   "source": [
    "logfiles[mut_rate]['kallisto'] = \"/\".join([prefix[\"all\"], \"all_quant_mutated\"+str(i),\"reads_111/kallisto_out/kallisto.log\"])"
   ]
  },
  {
   "cell_type": "code",
   "execution_count": 144,
   "metadata": {},
   "outputs": [],
   "source": [
    "from collections import defaultdict\n",
    "\n",
    "logfiles = {}\n",
    "time_df = pd.DataFrame(columns=['kallisto',\n",
    "                                      'hera',\n",
    "                                      'Selective_Alignment_soft', \n",
    "                                      'Selective_Alignment_strict', \n",
    "                                      'STAR',\n",
    "                                      'Bowtie2',\n",
    "                                      'mutation_rate'\n",
    "                                     ])\n",
    "    \n",
    "mem_df = pd.DataFrame(columns=['kallisto',\n",
    "                                      'hera',\n",
    "                                      'Selective_Alignment_soft', \n",
    "                                      'Selective_Alignment_strict', \n",
    "                                      'STAR',\n",
    "                                      'Bowtie2',\n",
    "                                      'mutation_rate'\n",
    "                                     ])\n",
    "\n",
    "\n",
    "for mut_rate in range(1,6):\n",
    "    logfiles[mut_rate] = {}\n",
    "    \n",
    "    logfiles[mut_rate]['bowtie'] = [\"/\".join([prefix[\"all\"], \"all_quant_mutated\"+str(mut_rate),\"reads_111/bowtie_out/bowtie.log\"]),\n",
    "                          \"/\".join([prefix[\"all\"], \"all_quant_mutated\"+str(mut_rate),\"reads_111/bowtie_out/salmon.log\"])]\n",
    "    logfiles[mut_rate]['star'] = [\"/\".join([prefix[\"all\"], \"all_quant_mutated\"+str(mut_rate),\"reads_111/star_out/star.log\"]),\n",
    "                                  \"/\".join([prefix[\"all\"], \"all_quant_mutated\"+str(mut_rate),\"reads_111/star_out/salmon.log\"])]\n",
    "    \n",
    "    logfiles[mut_rate]['kallisto'] = \"/\".join([prefix[\"all\"], \"all_quant_mutated\"+str(mut_rate),\"reads_111/kallisto_out/kallisto.log\"])\n",
    "    logfiles[mut_rate]['hera'] = \"/\".join([prefix[\"all\"], \"all_quant_mutated\"+str(mut_rate),\"reads_111/hera_out/hera.log\"])\n",
    "    \n",
    "    logfiles[mut_rate]['SLA_soft'] = \\\n",
    "    \"/\".join([prefix[\"all\"], \"all_quant_mutated\"+str(mut_rate),\"reads_111/salmon_out/soft_filter.log\"])\n",
    "    \n",
    "    logfiles[mut_rate]['SLA_strict'] = \\\n",
    "    \"/\".join([prefix[\"all\"], \"all_quant_mutated\"+str(mut_rate),\"reads_111/salmon_out/strict_filter.log\"])\n",
    "    \n",
    "    \n",
    "    bowtie_time, bowtie_mem = parseTimeLog(logfiles[mut_rate]['bowtie'][0])\n",
    "    bowtie_salmon_time, bowtie_salmon_mem = parseTimeLog(logfiles[mut_rate]['bowtie'][1])\n",
    "    \n",
    "    bowtie_time = bowtie_time + bowtie_salmon_time\n",
    "    bowtie_mem = max(bowtie_mem, bowtie_salmon_mem )\n",
    "    \n",
    "    star_time, star_mem = parseTimeLog(logfiles[mut_rate]['star'][0])\n",
    "    star_salmon_time, star_salmon_mem = parseTimeLog(logfiles[mut_rate]['star'][1])\n",
    "    \n",
    "    star_time = star_time + star_salmon_time\n",
    "    star_mem = max(star_mem, star_salmon_mem)\n",
    "    \n",
    "    hera_time, hera_mem = parseTimeLog(logfiles[mut_rate]['hera'])\n",
    "    kallisto_time, kallisto_mem = parseTimeLog(logfiles[mut_rate]['kallisto'])\n",
    "    \n",
    "    soft_time, soft_mem = parseTimeLog(logfiles[mut_rate]['SLA_soft'])\n",
    "    strict_time, strict_mem = parseTimeLog(logfiles[mut_rate]['SLA_strict'])\n",
    "    \n",
    "    time_df.loc[mut_rate-1] = [kallisto_time, hera_time, soft_time, strict_time, star_time, bowtie_time, mut_rate ]\n",
    "    mem_df.loc[mut_rate-1] = [kallisto_mem, hera_mem, soft_mem, strict_mem, star_mem, bowtie_mem , mut_rate]"
   ]
  },
  {
   "cell_type": "code",
   "execution_count": 137,
   "metadata": {},
   "outputs": [],
   "source": [
    "#time_df = time_df.astype(float)"
   ]
  },
  {
   "cell_type": "code",
   "execution_count": 151,
   "metadata": {},
   "outputs": [
    {
     "data": {
      "text/html": [
       "<div>\n",
       "<table border=\"1\" class=\"dataframe\">\n",
       "  <thead>\n",
       "    <tr style=\"text-align: right;\">\n",
       "      <th></th>\n",
       "      <th>kallisto</th>\n",
       "      <th>hera</th>\n",
       "      <th>Selective_Alignment_soft</th>\n",
       "      <th>Selective_Alignment_strict</th>\n",
       "      <th>STAR</th>\n",
       "      <th>Bowtie2</th>\n",
       "      <th>mutation_rate</th>\n",
       "    </tr>\n",
       "  </thead>\n",
       "  <tbody>\n",
       "    <tr>\n",
       "      <th>0</th>\n",
       "      <td>172.92</td>\n",
       "      <td>258.43</td>\n",
       "      <td>269.92</td>\n",
       "      <td>270.73</td>\n",
       "      <td>1107.80</td>\n",
       "      <td>6166.12</td>\n",
       "      <td>1.0</td>\n",
       "    </tr>\n",
       "    <tr>\n",
       "      <th>1</th>\n",
       "      <td>198.70</td>\n",
       "      <td>282.89</td>\n",
       "      <td>317.16</td>\n",
       "      <td>281.52</td>\n",
       "      <td>861.58</td>\n",
       "      <td>4343.30</td>\n",
       "      <td>2.0</td>\n",
       "    </tr>\n",
       "    <tr>\n",
       "      <th>2</th>\n",
       "      <td>215.51</td>\n",
       "      <td>336.77</td>\n",
       "      <td>322.77</td>\n",
       "      <td>315.04</td>\n",
       "      <td>915.85</td>\n",
       "      <td>4172.31</td>\n",
       "      <td>3.0</td>\n",
       "    </tr>\n",
       "    <tr>\n",
       "      <th>3</th>\n",
       "      <td>204.84</td>\n",
       "      <td>278.59</td>\n",
       "      <td>313.53</td>\n",
       "      <td>307.93</td>\n",
       "      <td>931.52</td>\n",
       "      <td>3860.79</td>\n",
       "      <td>4.0</td>\n",
       "    </tr>\n",
       "    <tr>\n",
       "      <th>4</th>\n",
       "      <td>204.95</td>\n",
       "      <td>286.93</td>\n",
       "      <td>323.74</td>\n",
       "      <td>281.02</td>\n",
       "      <td>997.96</td>\n",
       "      <td>3620.48</td>\n",
       "      <td>5.0</td>\n",
       "    </tr>\n",
       "  </tbody>\n",
       "</table>\n",
       "</div>"
      ],
      "text/plain": [
       "   kallisto    hera  Selective_Alignment_soft  Selective_Alignment_strict  \\\n",
       "0    172.92  258.43                    269.92                      270.73   \n",
       "1    198.70  282.89                    317.16                      281.52   \n",
       "2    215.51  336.77                    322.77                      315.04   \n",
       "3    204.84  278.59                    313.53                      307.93   \n",
       "4    204.95  286.93                    323.74                      281.02   \n",
       "\n",
       "      STAR  Bowtie2  mutation_rate  \n",
       "0  1107.80  6166.12            1.0  \n",
       "1   861.58  4343.30            2.0  \n",
       "2   915.85  4172.31            3.0  \n",
       "3   931.52  3860.79            4.0  \n",
       "4   997.96  3620.48            5.0  "
      ]
     },
     "execution_count": 151,
     "metadata": {},
     "output_type": "execute_result"
    }
   ],
   "source": [
    "time_df"
   ]
  },
  {
   "cell_type": "code",
   "execution_count": 160,
   "metadata": {},
   "outputs": [
    {
     "data": {
      "image/png": "[encoded data removed]",
      "text/plain": [
       "<Figure size 648x504 with 2 Axes>"
      ]
     },
     "metadata": {},
     "output_type": "display_data"
    }
   ],
   "source": [
    "sns.set_style('white')\n",
    "f, (ax, ax2) = plt.subplots(2, 1, sharex=True, figsize=(9,7))\n",
    "time_df.plot(x=\"mutation_rate\", y=[\"kallisto\", \"hera\", \\\n",
    "                                          \"Selective_Alignment_soft\",\"Selective_Alignment_strict\", \\\n",
    "                                          \"STAR\", \"Bowtie2\"],\\\n",
    "                         kind=\"bar\",alpha=0.5,ax=ax)\n",
    "\n",
    "time_df.plot(x=\"mutation_rate\", y=[\"kallisto\", \"hera\", \\\n",
    "                                          \"Selective_Alignment_soft\",\"Selective_Alignment_strict\", \\\n",
    "                                          \"STAR\", \"Bowtie2\"],\\\n",
    "                         kind=\"bar\",alpha=0.5,ax=ax2, rot=0)\n",
    "\n",
    "ax.set_ylim(800, 7000)  # outliers only\n",
    "\n",
    "ax2.set_ylim(0, 400)  # most of the data\n",
    "ax.spines['bottom'].set_visible(False)\n",
    "ax2.spines['top'].set_visible(False)\n",
    "\n",
    "# Shrink current axis by 20%\n",
    "box = ax.get_position()\n",
    "#ax2.set_position([box.x0, box.y0, box.width * 0.8, box.height])\n",
    "ax.tick_params(axis=u'both', which=u'both',length=0)\n",
    "# Put a legend to the right of the current axis\n",
    "#ax.legend(loc='best', bbox_to_anchor=(1, 0.5))\n",
    "ax2.tick_params(axis=u'both', which=u'both',length=0)\n",
    "#ax.set_yticklabels([str(i)+\"GB\" for i in np.arange(1.0, 2.1, 0.2)])\n",
    "#ax.set_yticks(ax.get_yticks()[::2])\n",
    "#ax.set_yticklabels([str(i)+\"min\" for i in np.arange(15, 116, 25)])\n",
    "#ax2.set_yticks(ax2.get_yticks()[::2])\n",
    "#ax2.set_yticklabels([str(i)+\"sec\" for i in np.arange(0, 500, 100)])\n",
    "#ax2.yaxis.set_major_locator(plticker.MultipleLocator(1))\n",
    "#ax.legend_.remove()\n",
    "ax2.legend_.remove()\n",
    "\n",
    "\n",
    "d = .015  # how big to make the diagonal lines in axes coordinates\n",
    "# arguments to pass to plot, just so we don't keep repeating them\n",
    "kwargs = dict(transform=ax.transAxes, color='k', clip_on=False)\n",
    "ax.plot((-d, +d), (-d, +d), **kwargs)        # top-left diagonal\n",
    "#ax.plot((1 - d, 1 + d), (-d, +d), **kwargs)  # top-right diagonal\n",
    "\n",
    "kwargs.update(transform=ax2.transAxes)  # switch to the bottom axes\n",
    "ax2.plot((-d, +d), (1 - d, 1 + d), **kwargs)  # bottom-left diagonal\n",
    "#ax2.plot((1 - d, 1 + d), (1 - d, 1 + d), **kwargs)  # bottom-right diagonal\n",
    "#ax.xaxis.tick_top()\n",
    "\n",
    "# Put a legend to the right of the current axis\n",
    "#ax2.legend(loc='center left', bbox_to_anchor=(1, 0.5))\n",
    "ax.set_title(\"Time Performance of different tools \",fontsize=15)\n",
    "#f.ylabel('Size in disk')\n",
    "f.text(0.03, 0.5, 'Time (sec)', va='center', rotation='vertical',fontsize=15)\n",
    "plt.xlabel('Mutation Rate',fontsize=15)\n",
    "\n",
    "sns.despine()\n",
    "ax.spines['bottom'].set_visible(False)"
   ]
  },
  {
   "cell_type": "code",
   "execution_count": 161,
   "metadata": {},
   "outputs": [
    {
     "data": {
      "text/html": [
       "<div>\n",
       "<table border=\"1\" class=\"dataframe\">\n",
       "  <thead>\n",
       "    <tr style=\"text-align: right;\">\n",
       "      <th></th>\n",
       "      <th>kallisto</th>\n",
       "      <th>hera</th>\n",
       "      <th>Selective_Alignment_soft</th>\n",
       "      <th>Selective_Alignment_strict</th>\n",
       "      <th>STAR</th>\n",
       "      <th>Bowtie2</th>\n",
       "      <th>mutation_rate</th>\n",
       "    </tr>\n",
       "  </thead>\n",
       "  <tbody>\n",
       "    <tr>\n",
       "      <th>0</th>\n",
       "      <td>3926056.0</td>\n",
       "      <td>6775748.0</td>\n",
       "      <td>6154708.0</td>\n",
       "      <td>6017332.0</td>\n",
       "      <td>6605044.0</td>\n",
       "      <td>14029712.0</td>\n",
       "      <td>1.0</td>\n",
       "    </tr>\n",
       "    <tr>\n",
       "      <th>1</th>\n",
       "      <td>9442336.0</td>\n",
       "      <td>6786700.0</td>\n",
       "      <td>6197928.0</td>\n",
       "      <td>6101316.0</td>\n",
       "      <td>8327520.0</td>\n",
       "      <td>12714992.0</td>\n",
       "      <td>2.0</td>\n",
       "    </tr>\n",
       "    <tr>\n",
       "      <th>2</th>\n",
       "      <td>9442320.0</td>\n",
       "      <td>6758656.0</td>\n",
       "      <td>6184292.0</td>\n",
       "      <td>6089344.0</td>\n",
       "      <td>8328736.0</td>\n",
       "      <td>10734912.0</td>\n",
       "      <td>3.0</td>\n",
       "    </tr>\n",
       "    <tr>\n",
       "      <th>3</th>\n",
       "      <td>9442252.0</td>\n",
       "      <td>6700076.0</td>\n",
       "      <td>6192108.0</td>\n",
       "      <td>6118436.0</td>\n",
       "      <td>8326172.0</td>\n",
       "      <td>8886096.0</td>\n",
       "      <td>4.0</td>\n",
       "    </tr>\n",
       "    <tr>\n",
       "      <th>4</th>\n",
       "      <td>9442252.0</td>\n",
       "      <td>6616092.0</td>\n",
       "      <td>6179388.0</td>\n",
       "      <td>6118372.0</td>\n",
       "      <td>8328328.0</td>\n",
       "      <td>8334788.0</td>\n",
       "      <td>5.0</td>\n",
       "    </tr>\n",
       "  </tbody>\n",
       "</table>\n",
       "</div>"
      ],
      "text/plain": [
       "    kallisto       hera  Selective_Alignment_soft  Selective_Alignment_strict  \\\n",
       "0  3926056.0  6775748.0                 6154708.0                   6017332.0   \n",
       "1  9442336.0  6786700.0                 6197928.0                   6101316.0   \n",
       "2  9442320.0  6758656.0                 6184292.0                   6089344.0   \n",
       "3  9442252.0  6700076.0                 6192108.0                   6118436.0   \n",
       "4  9442252.0  6616092.0                 6179388.0                   6118372.0   \n",
       "\n",
       "        STAR     Bowtie2  mutation_rate  \n",
       "0  6605044.0  14029712.0            1.0  \n",
       "1  8327520.0  12714992.0            2.0  \n",
       "2  8328736.0  10734912.0            3.0  \n",
       "3  8326172.0   8886096.0            4.0  \n",
       "4  8328328.0   8334788.0            5.0  "
      ]
     },
     "execution_count": 161,
     "metadata": {},
     "output_type": "execute_result"
    }
   ],
   "source": [
    "mem_df"
   ]
  },
  {
   "cell_type": "code",
   "execution_count": 166,
   "metadata": {},
   "outputs": [
    {
     "data": {
      "text/plain": [
       "Text(0.5,0,'Mutation Rate')"
      ]
     },
     "execution_count": 166,
     "metadata": {},
     "output_type": "execute_result"
    },
    {
     "data": {
      "image/png": "[encoded data removed]",
      "text/plain": [
       "<Figure size 648x504 with 1 Axes>"
      ]
     },
     "metadata": {},
     "output_type": "display_data"
    }
   ],
   "source": [
    "sns.set_style('white')\n",
    "ax = mem_df.plot(x=\"mutation_rate\", y=[\"kallisto\", \"hera\", \\\n",
    "                                          \"Selective_Alignment_soft\",\"Selective_Alignment_strict\", \\\n",
    "                                          \"STAR\", \"Bowtie2\"],\\\n",
    "                         kind=\"bar\",alpha=0.7,figsize=(9,7), rot=0)\n",
    "\n",
    "ax.set_title(\"Memory benchmark different tools \",fontsize=15)\n",
    "ax.set_ylabel(\"Meomory Usage (KB)\",fontsize=15)\n",
    "plt.xlabel('Mutation Rate',fontsize=15)"
   ]
  },
  {
   "cell_type": "code",
   "execution_count": 162,
   "metadata": {},
   "outputs": [
    {
     "data": {
      "text/plain": [
       "(800, 7000)"
      ]
     },
     "execution_count": 162,
     "metadata": {},
     "output_type": "execute_result"
    },
    {
     "data": {
      "image/png": "[encoded data removed]",
      "text/plain": [
       "<Figure size 432x288 with 1 Axes>"
      ]
     },
     "metadata": {},
     "output_type": "display_data"
    }
   ],
   "source": [
    "ax = _df.plot(x=\"mutation_rate\", y=[\"kallisto\", \"hera\", \\\n",
    "                                          \"Selective_Alignment_soft\",\"Selective_Alignment_strict\", \\\n",
    "                                          \"STAR\", \"Bowtie2\"],\\\n",
    "                         kind=\"bar\",alpha=0.5)\n",
    "ax.set_ylim(800, 7000)"
   ]
  },
  {
   "cell_type": "code",
   "execution_count": 149,
   "metadata": {},
   "outputs": [
    {
     "data": {
      "text/plain": [
       "array([  0, 100, 200, 300, 400])"
      ]
     },
     "execution_count": 149,
     "metadata": {},
     "output_type": "execute_result"
    }
   ],
   "source": [
    "np.arange(0, 500, 100)"
   ]
  },
  {
   "cell_type": "code",
   "execution_count": 127,
   "metadata": {},
   "outputs": [
    {
     "data": {
      "text/plain": [
       "<matplotlib.axes._subplots.AxesSubplot at 0x7f35dd43e090>"
      ]
     },
     "execution_count": 127,
     "metadata": {},
     "output_type": "execute_result"
    },
    {
     "data": {
      "image/png": "[encoded data removed]",
      "text/plain": [
       "<Figure size 432x288 with 1 Axes>"
      ]
     },
     "metadata": {},
     "output_type": "display_data"
    }
   ],
   "source": [
    "time_df.plot(x=\"mutation_rate\", y=[\"Bowtie2\"])"
   ]
  },
  {
   "cell_type": "code",
   "execution_count": 120,
   "metadata": {},
   "outputs": [],
   "source": [
    "time_df = time_df.astype(float)"
   ]
  },
  {
   "cell_type": "code",
   "execution_count": 121,
   "metadata": {},
   "outputs": [
    {
     "data": {
      "text/plain": [
       "<matplotlib.axes._subplots.AxesSubplot at 0x7f35e02dfcd0>"
      ]
     },
     "execution_count": 121,
     "metadata": {},
     "output_type": "execute_result"
    },
    {
     "data": {
      "image/png": "[encoded data removed]",
      "text/plain": [
       "<Figure size 720x432 with 1 Axes>"
      ]
     },
     "metadata": {},
     "output_type": "display_data"
    }
   ],
   "source": [
    "time_df.set_index('mutation_rate').plot(figsize=(10,6))"
   ]
  },
  {
   "cell_type": "code",
   "execution_count": 112,
   "metadata": {},
   "outputs": [
    {
     "data": {
      "text/html": [
       "<div>\n",
       "<table border=\"1\" class=\"dataframe\">\n",
       "  <thead>\n",
       "    <tr style=\"text-align: right;\">\n",
       "      <th></th>\n",
       "      <th>kallisto</th>\n",
       "      <th>hera</th>\n",
       "      <th>Selective_Alignment_soft</th>\n",
       "      <th>Selective_Alignment_strict</th>\n",
       "      <th>STAR</th>\n",
       "      <th>Bowtie2</th>\n",
       "      <th>mutation_rate</th>\n",
       "    </tr>\n",
       "  </thead>\n",
       "  <tbody>\n",
       "    <tr>\n",
       "      <th>0</th>\n",
       "      <td>172.92</td>\n",
       "      <td>258.43</td>\n",
       "      <td>269.92</td>\n",
       "      <td>270.73</td>\n",
       "      <td>1107.80</td>\n",
       "      <td>14029712</td>\n",
       "      <td>1.0</td>\n",
       "    </tr>\n",
       "    <tr>\n",
       "      <th>1</th>\n",
       "      <td>198.70</td>\n",
       "      <td>282.89</td>\n",
       "      <td>317.16</td>\n",
       "      <td>281.52</td>\n",
       "      <td>861.58</td>\n",
       "      <td>1297004</td>\n",
       "      <td>2.0</td>\n",
       "    </tr>\n",
       "    <tr>\n",
       "      <th>2</th>\n",
       "      <td>215.51</td>\n",
       "      <td>336.77</td>\n",
       "      <td>322.77</td>\n",
       "      <td>315.04</td>\n",
       "      <td>915.85</td>\n",
       "      <td>2029604</td>\n",
       "      <td>3.0</td>\n",
       "    </tr>\n",
       "    <tr>\n",
       "      <th>3</th>\n",
       "      <td>204.84</td>\n",
       "      <td>278.59</td>\n",
       "      <td>313.53</td>\n",
       "      <td>307.93</td>\n",
       "      <td>931.52</td>\n",
       "      <td>8886096</td>\n",
       "      <td>4.0</td>\n",
       "    </tr>\n",
       "    <tr>\n",
       "      <th>4</th>\n",
       "      <td>204.95</td>\n",
       "      <td>286.93</td>\n",
       "      <td>323.74</td>\n",
       "      <td>281.02</td>\n",
       "      <td>997.96</td>\n",
       "      <td>8334788</td>\n",
       "      <td>5.0</td>\n",
       "    </tr>\n",
       "  </tbody>\n",
       "</table>\n",
       "</div>"
      ],
      "text/plain": [
       "   kallisto    hera  Selective_Alignment_soft  Selective_Alignment_strict  \\\n",
       "0    172.92  258.43                    269.92                      270.73   \n",
       "1    198.70  282.89                    317.16                      281.52   \n",
       "2    215.51  336.77                    322.77                      315.04   \n",
       "3    204.84  278.59                    313.53                      307.93   \n",
       "4    204.95  286.93                    323.74                      281.02   \n",
       "\n",
       "      STAR   Bowtie2  mutation_rate  \n",
       "0  1107.80  14029712            1.0  \n",
       "1   861.58   1297004            2.0  \n",
       "2   915.85   2029604            3.0  \n",
       "3   931.52   8886096            4.0  \n",
       "4   997.96   8334788            5.0  "
      ]
     },
     "execution_count": 112,
     "metadata": {},
     "output_type": "execute_result"
    }
   ],
   "source": [
    "time_df"
   ]
  },
  {
   "cell_type": "code",
   "execution_count": 39,
   "metadata": {},
   "outputs": [],
   "source": [
    "time_mem = \"45209.61user 1265.17system 1:37:54elapsed 791%CPU (0avgtext+0avgdata 1262108maxresident)k\""
   ]
  },
  {
   "cell_type": "code",
   "execution_count": 45,
   "metadata": {},
   "outputs": [
    {
     "data": {
      "text/plain": [
       "'1:37:54'"
      ]
     },
     "execution_count": 45,
     "metadata": {},
     "output_type": "execute_result"
    }
   ],
   "source": [
    "time_mem.split(\" \")[2][:-7]"
   ]
  },
  {
   "cell_type": "code",
   "execution_count": 59,
   "metadata": {},
   "outputs": [
    {
     "data": {
      "text/plain": [
       "2"
      ]
     },
     "execution_count": 59,
     "metadata": {},
     "output_type": "execute_result"
    }
   ],
   "source": [
    "'1:37:54'.count(':')"
   ]
  },
  {
   "cell_type": "code",
   "execution_count": 93,
   "metadata": {},
   "outputs": [
    {
     "data": {
      "text/plain": [
       "'1262108'"
      ]
     },
     "execution_count": 93,
     "metadata": {},
     "output_type": "execute_result"
    }
   ],
   "source": [
    "time_mem.split(\" \")[5][:-13]"
   ]
  },
  {
   "cell_type": "code",
   "execution_count": 52,
   "metadata": {},
   "outputs": [],
   "source": [
    "from datetime import datetime"
   ]
  },
  {
   "cell_type": "code",
   "execution_count": 58,
   "metadata": {},
   "outputs": [
    {
     "ename": "ValueError",
     "evalue": "time data '1:37:54' does not match format '%H:%M:%S.%f'",
     "output_type": "error",
     "traceback": [
      "\u001b[0;31m---------------------------------------------------------------------------\u001b[0m",
      "\u001b[0;31mValueError\u001b[0m                                Traceback (most recent call last)",
      "\u001b[0;32m<ipython-input-58-92b3b38b55bf>\u001b[0m in \u001b[0;36m<module>\u001b[0;34m()\u001b[0m\n\u001b[0;32m----> 1\u001b[0;31m \u001b[0mdatetime\u001b[0m\u001b[0;34m.\u001b[0m\u001b[0mstrptime\u001b[0m\u001b[0;34m(\u001b[0m\u001b[0;34m\"1:37:54\"\u001b[0m\u001b[0;34m,\u001b[0m \u001b[0;34m'%H:%M:%S.%f'\u001b[0m\u001b[0;34m)\u001b[0m  \u001b[0;34m+\u001b[0m \u001b[0mdatetime\u001b[0m\u001b[0;34m.\u001b[0m\u001b[0mstrptime\u001b[0m\u001b[0;34m(\u001b[0m\u001b[0;34m\"0:00.01\"\u001b[0m\u001b[0;34m)\u001b[0m\u001b[0;34m\u001b[0m\u001b[0m\n\u001b[0m",
      "\u001b[0;32m/home/hirak/miniconda2/envs/py2env/lib/python2.7/_strptime.pyc\u001b[0m in \u001b[0;36m_strptime\u001b[0;34m(data_string, format)\u001b[0m\n\u001b[1;32m    330\u001b[0m     \u001b[0;32mif\u001b[0m \u001b[0;32mnot\u001b[0m \u001b[0mfound\u001b[0m\u001b[0;34m:\u001b[0m\u001b[0;34m\u001b[0m\u001b[0m\n\u001b[1;32m    331\u001b[0m         raise ValueError(\"time data %r does not match format %r\" %\n\u001b[0;32m--> 332\u001b[0;31m                          (data_string, format))\n\u001b[0m\u001b[1;32m    333\u001b[0m     \u001b[0;32mif\u001b[0m \u001b[0mlen\u001b[0m\u001b[0;34m(\u001b[0m\u001b[0mdata_string\u001b[0m\u001b[0;34m)\u001b[0m \u001b[0;34m!=\u001b[0m \u001b[0mfound\u001b[0m\u001b[0;34m.\u001b[0m\u001b[0mend\u001b[0m\u001b[0;34m(\u001b[0m\u001b[0;34m)\u001b[0m\u001b[0;34m:\u001b[0m\u001b[0;34m\u001b[0m\u001b[0m\n\u001b[1;32m    334\u001b[0m         raise ValueError(\"unconverted data remains: %s\" %\n",
      "\u001b[0;31mValueError\u001b[0m: time data '1:37:54' does not match format '%H:%M:%S.%f'"
     ]
    }
   ],
   "source": [
    "datetime.strptime(\"1:37:54\", '%H:%M:%S.%f')  + datetime.strptime(\"0:00.01\")"
   ]
  },
  {
   "cell_type": "code",
   "execution_count": 51,
   "metadata": {},
   "outputs": [
    {
     "ename": "ValueError",
     "evalue": "time data '1:37:54' does not match format '%a %b %d %H:%M:%S %Y'",
     "output_type": "error",
     "traceback": [
      "\u001b[0;31m---------------------------------------------------------------------------\u001b[0m",
      "\u001b[0;31mValueError\u001b[0m                                Traceback (most recent call last)",
      "\u001b[0;32m<ipython-input-51-7c6516067cd3>\u001b[0m in \u001b[0;36m<module>\u001b[0;34m()\u001b[0m\n\u001b[0;32m----> 1\u001b[0;31m \u001b[0mtime\u001b[0m\u001b[0;34m.\u001b[0m\u001b[0mstrptime\u001b[0m\u001b[0;34m(\u001b[0m\u001b[0;34m\"1:37:54\"\u001b[0m\u001b[0;34m)\u001b[0m \u001b[0;34m+\u001b[0m \u001b[0mtime\u001b[0m\u001b[0;34m.\u001b[0m\u001b[0mstrptime\u001b[0m\u001b[0;34m(\u001b[0m\u001b[0;34m\"00:54\"\u001b[0m\u001b[0;34m)\u001b[0m\u001b[0;34m\u001b[0m\u001b[0m\n\u001b[0m",
      "\u001b[0;32m/home/hirak/miniconda2/envs/py2env/lib/python2.7/_strptime.pyc\u001b[0m in \u001b[0;36m_strptime_time\u001b[0;34m(data_string, format)\u001b[0m\n\u001b[1;32m    476\u001b[0m \u001b[0;34m\u001b[0m\u001b[0m\n\u001b[1;32m    477\u001b[0m \u001b[0;32mdef\u001b[0m \u001b[0m_strptime_time\u001b[0m\u001b[0;34m(\u001b[0m\u001b[0mdata_string\u001b[0m\u001b[0;34m,\u001b[0m \u001b[0mformat\u001b[0m\u001b[0;34m=\u001b[0m\u001b[0;34m\"%a %b %d %H:%M:%S %Y\"\u001b[0m\u001b[0;34m)\u001b[0m\u001b[0;34m:\u001b[0m\u001b[0;34m\u001b[0m\u001b[0m\n\u001b[0;32m--> 478\u001b[0;31m     \u001b[0;32mreturn\u001b[0m \u001b[0m_strptime\u001b[0m\u001b[0;34m(\u001b[0m\u001b[0mdata_string\u001b[0m\u001b[0;34m,\u001b[0m \u001b[0mformat\u001b[0m\u001b[0;34m)\u001b[0m\u001b[0;34m[\u001b[0m\u001b[0;36m0\u001b[0m\u001b[0;34m]\u001b[0m\u001b[0;34m\u001b[0m\u001b[0m\n\u001b[0m",
      "\u001b[0;32m/home/hirak/miniconda2/envs/py2env/lib/python2.7/_strptime.pyc\u001b[0m in \u001b[0;36m_strptime\u001b[0;34m(data_string, format)\u001b[0m\n\u001b[1;32m    330\u001b[0m     \u001b[0;32mif\u001b[0m \u001b[0;32mnot\u001b[0m \u001b[0mfound\u001b[0m\u001b[0;34m:\u001b[0m\u001b[0;34m\u001b[0m\u001b[0m\n\u001b[1;32m    331\u001b[0m         raise ValueError(\"time data %r does not match format %r\" %\n\u001b[0;32m--> 332\u001b[0;31m                          (data_string, format))\n\u001b[0m\u001b[1;32m    333\u001b[0m     \u001b[0;32mif\u001b[0m \u001b[0mlen\u001b[0m\u001b[0;34m(\u001b[0m\u001b[0mdata_string\u001b[0m\u001b[0;34m)\u001b[0m \u001b[0;34m!=\u001b[0m \u001b[0mfound\u001b[0m\u001b[0;34m.\u001b[0m\u001b[0mend\u001b[0m\u001b[0;34m(\u001b[0m\u001b[0;34m)\u001b[0m\u001b[0;34m:\u001b[0m\u001b[0;34m\u001b[0m\u001b[0m\n\u001b[1;32m    334\u001b[0m         raise ValueError(\"unconverted data remains: %s\" %\n",
      "\u001b[0;31mValueError\u001b[0m: time data '1:37:54' does not match format '%a %b %d %H:%M:%S %Y'"
     ]
    }
   ],
   "source": [
    "time.strptime(\"1:37:54.\") + time.strptime(\"00:54\")"
   ]
  },
  {
   "cell_type": "code",
   "execution_count": null,
   "metadata": {},
   "outputs": [],
   "source": []
  }
 ],
 "metadata": {
  "kernelspec": {
   "display_name": "Python 2",
   "language": "python",
   "name": "python2"
  },
  "language_info": {
   "codemirror_mode": {
    "name": "ipython",
    "version": 2
   },
   "file_extension": ".py",
   "mimetype": "text/x-python",
   "name": "python",
   "nbconvert_exporter": "python",
   "pygments_lexer": "ipython2",
   "version": "2.7.14"
  }
 },
 "nbformat": 4,
 "nbformat_minor": 2
}
