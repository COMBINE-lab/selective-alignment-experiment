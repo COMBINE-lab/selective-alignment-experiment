{
 "cells": [
  {
   "cell_type": "code",
   "execution_count": 1,
   "metadata": {
    "collapsed": false
   },
   "outputs": [
    {
     "name": "stderr",
     "output_type": "stream",
     "text": [
      "/home/linuxbrew/.linuxbrew/lib/python2.7/site-packages/ipykernel/__main__.py:9: DeprecationWarning: the sets module is deprecated\n"
     ]
    }
   ],
   "source": [
    "import numpy as np\n",
    "#import matplotlib.pyplot as plt\n",
    "import sys\n",
    "import pandas as pd\n",
    "import numpy as np\n",
    "import scipy.stats\n",
    "import math\n",
    "#import seaborn as sns\n",
    "from sets import Set"
   ]
  },
  {
   "cell_type": "code",
   "execution_count": 2,
   "metadata": {
    "collapsed": true
   },
   "outputs": [],
   "source": [
    "def filterValues(colname, DF, val):\n",
    "    DF.loc[DF[colname] < val, colname] = 0.0\n",
    "\n",
    "def relError(c1, c2, DF, cutoff=0.00999999, verbose=False):\n",
    "    import pandas as pd\n",
    "    import numpy as np\n",
    "    nz = DF[DF[c1] > cutoff]\n",
    "    re = (nz[c1] - nz[c2]) / nz[c1]\n",
    "    return re\n",
    "\n",
    "def proportionalityCorrelation(c1, c2, DF, offset=0.01):\n",
    "    import numpy as np\n",
    "    return (2.0 * np.log(DF[c1] + offset).cov(np.log(DF[c2] + offset))) / (np.log(DF[c1] + offset).var() + np.log(DF[c2] + offset).var())\n",
    "\n",
    "def relDiffTP(c1, c2, DF, cutoff=0.1):\n",
    "    import pandas as pd\n",
    "    import numpy as np\n",
    "    tpindex = DF[DF[c1] > cutoff]\n",
    "    rd = (tpindex[c2] - tpindex[c1]) / tpindex[c1]\n",
    "    return rd\n",
    "\n",
    "def getMedian(df): return df.mean()\n",
    "def getMean(df): return df.mean()\n",
    "\n",
    "def relDiff(c1, c2, DF, cutoff=0.01, verbose=False):\n",
    "    import pandas as pd\n",
    "    \"\"\"\n",
    "    Computes the relative difference between the values\n",
    "    in columns c1 and c2 of DF.\n",
    "    c1 and c2 are column names and DF is a Pandas data frame.\n",
    "    Values less than cutoff will be treated as 0.\n",
    "    The relative difference is defined as\n",
    "    d(x_i, y_i) =\n",
    "        0.0 if x_i and y_i are 0\n",
    "        (x_i - y_i) / (0.5 * |x_i - y_i|) otherwise\n",
    "    This function returns two values.\n",
    "    rd is a DataFrame where the \"relDiff\" column contains all\n",
    "    of the computed relative differences.\n",
    "    nz is a set of indexes into rd for data points where\n",
    "    x_i and y_i were not *both* zero.\n",
    "    \"\"\"\n",
    "    import numpy as np\n",
    "    rd = pd.DataFrame(data = {\"Name\" : DF.index, \"relDiff\" : np.zeros(len(DF.index))*np.nan})\n",
    "    rd.set_index(\"Name\", inplace=True)\n",
    "    bothZero = DF.loc[(DF[c1] < cutoff) & (DF[c2] < cutoff)].index\n",
    "    nonZero = DF.index.difference(bothZero)\n",
    "    if (verbose):\n",
    "        print(\"Zero occurs in both columns {} times\".format(len(rd.loc[bothZero])))\n",
    "        print(\"Nonzero occurs in at least 1 column {} times\".format(len(rd.loc[nonZero])))\n",
    "    allRD = 1.0 * ((DF[c1] - DF[c2]) / (DF[c1] + DF[c2]).abs())\n",
    "    assert(len(rd.loc[nonZero][\"relDiff\"]) == len(allRD[nonZero]))\n",
    "    rd[\"relDiff\"][nonZero] = allRD[nonZero]\n",
    "    if len(bothZero) > 0:\n",
    "        rd[\"relDiff\"][bothZero] = 0.0\n",
    "    return rd, nonZero"
   ]
  },
  {
   "cell_type": "code",
   "execution_count": 3,
   "metadata": {
    "collapsed": true
   },
   "outputs": [],
   "source": [
    "cutoff = 1\n",
    "tpm = sys.argv[0]\n",
    "#data_dir = sys.argv[1]\n",
    "data_dir = \"/mnt/scratch6/selective_alignment_data/\"\n",
    "ground_truth_file = \"/mnt/scratch6/selective_alignment_data/rsem/rsem_sim/sim.sim.isoforms.results\"\n",
    "rsem_quant_file = \"/mnt/scratch6/selective_alignment_data/rsem/rsem_exp/model.isoforms.results\"\n",
    "salmon_quant_file = \"/mnt/scratch6/selective_alignment_data/salmon_out/quant.sf\"\n",
    "kallisto_quant_file = \"/mnt/scratch6/selective_alignment_data/kallisto_result/abundance.tsv\"\n",
    "hera_quant_file = \"/mnt/scratch6/selective_alignment_data/hera_out/abundance.tsv\""
   ]
  },
  {
   "cell_type": "code",
   "execution_count": 4,
   "metadata": {
    "collapsed": true
   },
   "outputs": [],
   "source": [
    "ans = pd.read_table(ground_truth_file,index_col=\"transcript_id\")\n",
    "ans = ans.rename(columns = {'count':'count1'})"
   ]
  },
  {
   "cell_type": "code",
   "execution_count": 12,
   "metadata": {
    "collapsed": false
   },
   "outputs": [
    {
     "name": "stdout",
     "output_type": "stream",
     "text": [
      "RSEM MARD: 0.379724588824\n",
      "RSEM SPEARMAN: 0.979024410662\n"
     ]
    }
   ],
   "source": [
    "rsem = pd.read_table(rsem_quant_file,index_col=\"transcript_id\")\n",
    "ans = ans.rename(columns = {'effective_length':'efflen1'})\n",
    "#join_ans_rsem = pd.concat([ans,rsem],axis=1,join=\"inner\")\n",
    "join_ans_rsem = rsem.join(ans,rsuffix=\"_truth\").fillna(0.0)\n",
    "##print(len(join_ans_rsem))\n",
    "rd, nonZero =  relDiff('expected_count', 'count1', join_ans_rsem, cutoff)\n",
    "rd['relDiff'] = rd['relDiff'].abs()\n",
    "##print np.sum(rsem['expected_count'])\n",
    "MARD_rsem = np.mean(rd['relDiff'].abs())\n",
    "spearman_rsem = scipy.stats.spearmanr(join_ans_rsem['expected_count'],join_ans_rsem['count1']).correlation\n",
    "print(\"RSEM MARD: {}\".format(MARD_rsem))\n",
    "print(\"RSEM SPEARMAN: {}\".format(spearman_rsem))"
   ]
  },
  {
   "cell_type": "code",
   "execution_count": 19,
   "metadata": {
    "collapsed": false
   },
   "outputs": [
    {
     "name": "stdout",
     "output_type": "stream",
     "text": [
      "HERA MARD: 0.0637891789539\n",
      "HERA SPEARMAN: 0.84080108528\n"
     ]
    }
   ],
   "source": [
    "hera = pd.read_table(hera_quant_file,names=[\"target_id\",\"unique_map\",\"length\",\"eff_length\",\"est_counts\",\"tpm\"],header=None,skiprows=1)\n",
    "b = hera['target_id'].str.split(\":\")\n",
    "hera['id'] = b\n",
    "df = pd.concat([hera,pd.DataFrame(hera['id'].tolist())], axis=1, join='outer')\n",
    "hera = df.set_index(keys=df[0])\n",
    "join_ans_hera = hera.join(ans,rsuffix=\"_truth\").fillna(0.0)\n",
    "rd, nonZero =  relDiff('est_counts', 'count1', join_ans_hera, cutoff)\n",
    "MARD_hera = np.mean(rd['relDiff'].abs())\n",
    "spearman_hera = scipy.stats.spearmanr(join_ans_hera['est_counts'],join_ans_hera['count1']).correlation\n",
    "print(\"HERA MARD: {}\".format(MARD_hera))\n",
    "print(\"HERA SPEARMAN: {}\".format(spearman_hera))"
   ]
  },
  {
   "cell_type": "code",
   "execution_count": 22,
   "metadata": {
    "collapsed": false
   },
   "outputs": [
    {
     "name": "stdout",
     "output_type": "stream",
     "text": [
      "KALLISTO MARD: 0.0745809814224\n",
      "KALLISTO SPEARMAN: 0.810008827719\n"
     ]
    }
   ],
   "source": [
    "kallisto = pd.read_table(kallisto_quant_file,index_col=\"target_id\")\n",
    "join_ans_kallisto = kallisto.join(ans,rsuffix=\"_truth\").fillna(0.0)\n",
    "rd, nonZero =  relDiff('est_counts', 'count1', join_ans_kallisto, cutoff)\n",
    "MARD_kallisto = np.mean(rd['relDiff'].abs())\n",
    "spearman_kallisto = scipy.stats.spearmanr(join_ans_kallisto['est_counts'],join_ans_kallisto['count1']).correlation\n",
    "print(\"KALLISTO MARD: {}\".format(MARD_kallisto))\n",
    "print(\"KALLISTO SPEARMAN: {}\".format(spearman_kallisto))"
   ]
  },
  {
   "cell_type": "code",
   "execution_count": 23,
   "metadata": {
    "collapsed": false
   },
   "outputs": [
    {
     "name": "stdout",
     "output_type": "stream",
     "text": [
      "SALMON_SL MARD: 0.0569800996206\n",
      "SALMON_SL SPEARMAN: 0.846416491037\n"
     ]
    }
   ],
   "source": [
    "salmon = pd.read_table(salmon_quant_file,index_col=\"Name\")\n",
    "join_ans_salmon = salmon.join(ans,rsuffix=\"_truth\").fillna(0.0)\n",
    "rd, nonZero =  relDiff('NumReads', 'count1', join_ans_salmon, cutoff)\n",
    "MARD_salmon = np.mean(rd['relDiff'].abs())\n",
    "spearman_salmon = scipy.stats.spearmanr(join_ans_salmon['NumReads'],join_ans_salmon['count1']).correlation\n",
    "print(\"SALMON_SL MARD: {}\".format(MARD_salmon))\n",
    "print(\"SALMON_SL SPEARMAN: {}\".format(spearman_salmon))"
   ]
  },
  {
   "cell_type": "code",
   "execution_count": null,
   "metadata": {
    "collapsed": true
   },
   "outputs": [],
   "source": []
  }
 ],
 "metadata": {
  "kernelspec": {
   "display_name": "Python 2",
   "language": "python",
   "name": "python2"
  },
  "language_info": {
   "codemirror_mode": {
    "name": "ipython",
    "version": 2
   },
   "file_extension": ".py",
   "mimetype": "text/x-python",
   "name": "python",
   "nbconvert_exporter": "python",
   "pygments_lexer": "ipython2",
   "version": "2.7.13"
  }
 },
 "nbformat": 4,
 "nbformat_minor": 1
}
